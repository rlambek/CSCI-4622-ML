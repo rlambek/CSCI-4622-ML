{
 "cells": [
  {
   "cell_type": "markdown",
   "metadata": {},
   "source": [
    "# Hands-On Naive Bayes\n",
    "***\n",
    "\n",
    "In this notebook we'll implement two flavors of continuous Naive Bayes and test it out on the Iris data set.  \n",
    "\n",
    "**Note**: There are some helper functions at the bottom of this notebook.  Scroll down and execute those cells before continuing. "
   ]
  },
  {
   "cell_type": "code",
   "execution_count": null,
   "metadata": {
    "ExecuteTime": {
     "end_time": "2018-03-23T19:28:21.364352Z",
     "start_time": "2018-03-23T19:28:21.182199Z"
    },
    "collapsed": true
   },
   "outputs": [],
   "source": [
    "import numpy as np\n",
    "import matplotlib.pylab as plt\n",
    "\n",
    "%matplotlib inline"
   ]
  },
  {
   "cell_type": "markdown",
   "metadata": {},
   "source": [
    "### Part 1: Classifying Iris Species with Gaussian Naive Bayes \n",
    "***\n",
    "\n",
    "In this problem we'll use K-Nearest Neighbors to classify species of irises based on certain physical characteristics.  The so-called _iris dataset_ is a popular dataset for prototyping classification algorithms. We can load the iris dataset from Scikit-Learn directly. The dataset contains four features: sepal length, sepal width, pedal length, and pedal width and three classes defined by the species of iris: setosa, versicolor, and virginica. We'll only use the sepal dimensions so that we can easily visualize the data. \n",
    "\n",
    "Execute the following code cell to load training and validation sets for the iris data set and then plot the data.    "
   ]
  },
  {
   "cell_type": "code",
   "execution_count": null,
   "metadata": {
    "ExecuteTime": {
     "end_time": "2018-03-23T19:28:22.938311Z",
     "start_time": "2018-03-23T19:28:22.691510Z"
    }
   },
   "outputs": [],
   "source": [
    "X_train, y_train, X_valid, y_valid, target_names = load_iris()\n",
    "print(\"classes = \", target_names)\n",
    "plot_iris(X_train, y_train)"
   ]
  },
  {
   "cell_type": "markdown",
   "metadata": {},
   "source": [
    "Our plan in this part is to implement a Gaussian Naive Bayes classifier for this two-feature data. Recall that our goal is to make predictions by computing a class score for a query point of the form \n",
    "\n",
    "$$\n",
    "p(\\textrm{Class} \\mid {\\bf x}) \\propto p({\\bf x} \\mid \\textrm{Class}) \\cdot p(\\textrm{Class}) = p(x_1 \\mid \\textrm{Class} ) \\cdot p(x_2 \\mid \\textrm{Class}) \\cdot p(\\textrm{Class})\n",
    "$$\n",
    "\n",
    "Note that we assume that feature $x_k$ for data in Class $c$ follows a normal distribution with parameters $\\mu_{kc}$ and variance $\\sigma_{kc}^2$. If we know these parameters then we can estimate the class conditional likelihood by evaluating the Gaussian probability density function \n",
    "\n",
    "$$\n",
    "p(x_k \\mid c) = \\frac{1}{\\sqrt{2\\pi\\sigma_{kc}^2}} \\textrm{Exp}\\left[ -\\frac{(x_k - \\mu_{kc})^2}{2\\sigma_{kc}^2}   \\right]\n",
    "$$\n",
    "\n",
    "Finally, we can then compute the class-score in **log-space** for each class for a given query point, and then predict it's class membership by predicting the class with the highest score. \n",
    "\n",
    "We'll implement this using the class `GaussNB` shown below.  Take a look at the current state of the skeleton, and then scroll down and look at the tasks that we want to accomplish. "
   ]
  },
  {
   "cell_type": "code",
   "execution_count": null,
   "metadata": {
    "ExecuteTime": {
     "end_time": "2018-03-23T19:28:31.899428Z",
     "start_time": "2018-03-23T19:28:31.802286Z"
    },
    "collapsed": true
   },
   "outputs": [],
   "source": [
    "class GaussNB:\n",
    "    def __init__(self, X_train, y_train):\n",
    "        \n",
    "        # store training data \n",
    "        self.X_train = X_train\n",
    "        self.y_train = y_train \n",
    "        \n",
    "        # get number of classes \n",
    "        self.num_classes = len(set(y_train))\n",
    "        \n",
    "        # initialize means (num_classes x num_features) \n",
    "        self.means = np.zeros((self.num_classes, X_train.shape[1]))\n",
    "        \n",
    "        # initialize variance (num_classes x num_features) \n",
    "        self.vars = np.zeros((self.num_classes, X_train.shape[1]))\n",
    "        \n",
    "        # initialize class counts (num_classes)\n",
    "        self.counts = np.zeros(self.num_classes)\n",
    "        \n",
    "        # initialize class priors (num_classes)\n",
    "        self.priors = np.zeros(self.num_classes)\n",
    "        \n",
    "    def train(self):\n",
    "        \"\"\"\n",
    "        Learn the parameters for the Guassian for each feature-class combination \n",
    "        \"\"\"\n",
    "        \n",
    "        # populate the counts array \n",
    "        # TODO: self.counts = \n",
    "        \n",
    "        # populate priors \n",
    "        # TODO: self.priors = \n",
    "        \n",
    "        # populate means and variances \n",
    "        for feat in range(self.X_train.shape[1]):\n",
    "            for c in range(self.num_classes):\n",
    "                pass \n",
    "                # TODO: self.means[c, feat] = \n",
    "                # TODO: self.vars[c, feat] = \n",
    "                \n",
    "    def pdf(self, xk, mu, ssq):\n",
    "        \"\"\"\n",
    "        evaluates the Gaussian probability density function \n",
    "        \"\"\"\n",
    "        return np.exp(-((xk-mu)**2)/(2*ssq)) / np.sqrt(2*np.pi*ssq)\n",
    "        \n",
    "    def predict_log_score(self, x):\n",
    "        \"\"\"\n",
    "        Get the log-probability score for each class\n",
    "        for a query point x \n",
    "        \"\"\"\n",
    "        \n",
    "        class_scores = np.zeros(self.num_classes) \n",
    "        \n",
    "        # Calculate class scores for query point x \n",
    "        # TODO \n",
    "        \n",
    "        return class_scores\n",
    "    \n",
    "    def predict(self, X):\n",
    "        \"\"\"\n",
    "        Predict the class of each example in X \n",
    "        \"\"\"\n",
    "        yhat = np.zeros(X.shape[0], dtype=int)\n",
    "        for ii, x in enumerate(X):\n",
    "            class_scores = self.predict_log_score(x)\n",
    "            yhat[ii] = np.argmax(class_scores)\n",
    "        \n",
    "        return yhat \n",
    "    \n",
    "    def accuracy(self, X, y):\n",
    "        yhat = self.predict(X)\n",
    "        return np.sum(yhat == y)/len(y)\n",
    "        \n",
    "        "
   ]
  },
  {
   "cell_type": "markdown",
   "metadata": {},
   "source": [
    "**Part A**: The first thing we'll do is fill in the `train` function.  We start by filling in the array corresponding to the prior for each class.  To help with this we'll first fill in the counts of the training examples for each class. When you're done, execute the following code cell.  Do the results mesh with what we know about the Iris dataset. "
   ]
  },
  {
   "cell_type": "code",
   "execution_count": null,
   "metadata": {
    "ExecuteTime": {
     "end_time": "2018-03-23T19:28:32.815265Z",
     "start_time": "2018-03-23T19:28:32.810276Z"
    }
   },
   "outputs": [],
   "source": [
    "gnb = GaussNB(X_train, y_train)\n",
    "gnb.train()\n",
    "print(\"class counts: \", gnb.counts)\n",
    "print(\"class priors: \", gnb.priors)"
   ]
  },
  {
   "cell_type": "markdown",
   "metadata": {},
   "source": [
    "**Part B**: Next we need to learn the parameters of the Gaussian distributions for each feature and each class from the training data.  Note that we'll store the means and the variances in separate matrices of dimensions `num_classes` $\\times$ `num_features`.  Add this functionality to the `train` function.  When you think you're done, execute the following cell.  Do the values seem correct given the plot of the Iris data set we made above? "
   ]
  },
  {
   "cell_type": "code",
   "execution_count": null,
   "metadata": {
    "ExecuteTime": {
     "end_time": "2018-03-23T19:28:35.376331Z",
     "start_time": "2018-03-23T19:28:35.369595Z"
    }
   },
   "outputs": [],
   "source": [
    "gnb = GaussNB(X_train, y_train)\n",
    "gnb.train()\n",
    "print(\"means:\\n \", gnb.means)\n",
    "print(\"\\nvars:\\n \", gnb.vars)"
   ]
  },
  {
   "cell_type": "markdown",
   "metadata": {},
   "source": [
    "**Part C**: OK, now let's implement functionality to make predictions.  Note that there are two related functions called `predict` and `predict_log_score`.  We'll be working on the latter of those two. Our goal is to compute the log-score for each class for a particular query point: \n",
    "\n",
    "$$\n",
    "\\textrm{class_score}[c] = \\log~p(c) + \\log~p(x_1 \\mid c) + \\log~p(x_2 \\mid c)\n",
    "$$\n",
    "\n",
    "For our data this should return a numpy array of length $3$. The `predict` function is implemented for you.  It loops over a data matrix of features, calls `predict_log_score` on each example, and then predicts the class corresponding to the higher log-score.  \n",
    "\n",
    "Fill out the missing code in `predict_log_score`, and then run the following code cell. If your code is working then you should predict that the first query point belongs to class 0, the second to class 1, and the third to class 2.   "
   ]
  },
  {
   "cell_type": "code",
   "execution_count": null,
   "metadata": {
    "ExecuteTime": {
     "end_time": "2018-03-23T19:28:38.110778Z",
     "start_time": "2018-03-23T19:28:38.104726Z"
    }
   },
   "outputs": [],
   "source": [
    "gnb = GaussNB(X_train, y_train)\n",
    "gnb.train()\n",
    "X_test = np.array([[4.5, 4.0], [5.5, 2.5], [8,3]])\n",
    "gnb.predict(X_test)"
   ]
  },
  {
   "cell_type": "markdown",
   "metadata": {},
   "source": [
    "**Part D**: When it seems like your code is working, you can run the following code cell to plot the class decision boundaries induced by this classifier.  "
   ]
  },
  {
   "cell_type": "code",
   "execution_count": null,
   "metadata": {
    "ExecuteTime": {
     "end_time": "2018-03-23T19:28:41.116192Z",
     "start_time": "2018-03-23T19:28:40.597620Z"
    }
   },
   "outputs": [],
   "source": [
    "gnb = GaussNB(X_train, y_train)\n",
    "gnb.train()\n",
    "print(\"accuracy: {:.2f}\".format(gnb.accuracy(X_train, y_train)))\n",
    "nb_plot(X_train, y_train, gnb, db=True)"
   ]
  },
  {
   "cell_type": "markdown",
   "metadata": {},
   "source": [
    "**Part E**: OK, let's take a step back and look at the kinds of decision boundaries Gaussian Naive Bayes can learn for binary data. The following code lets you generate binary labeled data with two features in different configurations.  Experiment with different configurations and discuss the types of decision boundaries that you can and CAN'T learn.      "
   ]
  },
  {
   "cell_type": "code",
   "execution_count": null,
   "metadata": {
    "ExecuteTime": {
     "end_time": "2018-03-23T19:28:44.783076Z",
     "start_time": "2018-03-23T19:28:44.427635Z"
    }
   },
   "outputs": [],
   "source": [
    "Xb_train, yb_train = generate_data(200, config=\"blobs\")\n",
    "gnb = GaussNB(Xb_train, yb_train)\n",
    "gnb.train()\n",
    "nb_plot(Xb_train, yb_train, gnb, db=True)\n",
    "print(\"accuracy = {:.2f}\".format(gnb.accuracy(Xb_train, yb_train)))"
   ]
  },
  {
   "cell_type": "markdown",
   "metadata": {},
   "source": [
    "### Part 2: Classifying Iris Species with Discretized Naive Bayes \n",
    "***\n",
    "\n",
    "Next we'll try to build a Naive Bayes classifier by discretizing the continuous features into bins and then performing Discrete Naive Bayes.  How should we modify our class data structures to accomplish this?    \n"
   ]
  },
  {
   "cell_type": "markdown",
   "metadata": {},
   "source": [
    "<br><br><br><br><br><br><br><br><br>\n",
    "<br><br><br><br><br><br><br><br><br>\n",
    "\n",
    "### Helper Functions\n",
    "***"
   ]
  },
  {
   "cell_type": "code",
   "execution_count": null,
   "metadata": {
    "ExecuteTime": {
     "end_time": "2018-03-23T19:28:11.584063Z",
     "start_time": "2018-03-23T19:28:10.983163Z"
    },
    "collapsed": true
   },
   "outputs": [],
   "source": [
    "def load_iris(standardize=False, random_state=1234): \n",
    "    \n",
    "    from sklearn import datasets\n",
    "    from sklearn.preprocessing import StandardScaler \n",
    "    \n",
    "    np.random.seed(random_state)\n",
    "\n",
    "def load_iris(standardize=False, random_state=1234): \n",
    "    \n",
    "    from sklearn import datasets\n",
    "    from sklearn.preprocessing import StandardScaler \n",
    "    \n",
    "    np.random.seed(random_state)\n",
    "    \n",
    "    # Load the data and grab first two features \n",
    "    iris = datasets.load_iris()\n",
    "    X, y = iris.data[:,:2], iris.target \n",
    "    \n",
    "    # Split by species \n",
    "    S = {}\n",
    "    for k in [0,1,2]:\n",
    "        S[k] = X[y==k]\n",
    "        \n",
    "    # Randomly split into validation and training sets \n",
    "    ones = np.ones(50, dtype=int)\n",
    "    valid_mask = np.full(50, False)\n",
    "    valid_mask[np.random.choice(range(50), replace=False, size=16)] = True \n",
    "    train_mask = np.logical_not(valid_mask)\n",
    "    X_train = np.concatenate((X[y==0][train_mask], X[y==1][train_mask], X[y==2][train_mask]))\n",
    "    y_train = np.concatenate((0*ones[train_mask], 1*ones[train_mask], 2*ones[train_mask]))\n",
    "    X_valid = np.concatenate((X[y==0][valid_mask], X[y==1][valid_mask], X[y==2][valid_mask]))\n",
    "    y_valid = np.concatenate((0*ones[valid_mask], 1*ones[valid_mask], 2*ones[valid_mask]))\n",
    "    \n",
    "    # Standardize data if desired \n",
    "    if standardize: \n",
    "        scaler = StandardScaler()\n",
    "        X_train = scaler.fit_transform(X_train)\n",
    "        X_valid = scaler.transform(X_valid)\n",
    "        \n",
    "    return X_train, y_train, X_valid, y_valid, iris.target_names\n",
    "    \n",
    "\n",
    "def plot_iris(X, y):\n",
    "    fig, ax = plt.subplots(nrows=1, ncols=1, figsize=(8,8))\n",
    "    name_color_dict = {0: (\"steelblue\", \"setosa\"), 1:(\"#a76c6e\", \"versicolor\"), 2:(\"#6a9373\", \"virginica\")}\n",
    "    for k in [0,1,2]:\n",
    "        ax.scatter(X[y==k,0], X[y==k,1], color=name_color_dict[k][0], s=100, label=name_color_dict[k][1])\n",
    "    ax.grid(alpha=0.25)\n",
    "    ax.legend(loc=\"upper right\", fontsize=16)\n",
    "    ax.set_xlabel(\"sepal length (cm)\", fontsize=16)\n",
    "    ax.set_ylabel(\"sepal width (cm)\", fontsize=16)\n",
    "    \n",
    "def nb_plot(X, y, model, db=True):\n",
    "    \n",
    "    from matplotlib import colors\n",
    "    \n",
    "    fig, ax = plt.subplots(nrows=1, ncols=1, figsize=(8,8))\n",
    "    \n",
    "    name_color_dict = {0: (\"steelblue\", \"setosa\"), 1:('#a76c6e', \"versicolor\"), 2:('#6a9373', \"virginica\")}\n",
    "    for k in list(set(y)):\n",
    "        ax.scatter(X[y==k,0], X[y==k,1], color=name_color_dict[k][0], s=100, label=\"class \" + str(k), edgecolors=\"white\", zorder=2)\n",
    "        \n",
    "    # Plot the decision boundary. \n",
    "    if db:\n",
    "        x_min, x_max = X[:,0].min() - .5, X[:,0].max() + .5\n",
    "        y_min, y_max = X[:,1].min() - .5, X[:,1].max() + .5\n",
    "        xx, yy = np.meshgrid(np.arange(x_min, x_max, 0.025), np.arange(y_min, y_max, 0.025))\n",
    "        Z = model.predict(np.c_[xx.ravel(), yy.ravel()])\n",
    "\n",
    "        # Define custom colormap \n",
    "        cmap = colors.ListedColormap(['steelblue', '#a76c6e', '#6a9373'][:max(y)+1])\n",
    "\n",
    "        # Put the result into a color plot\n",
    "        Z = Z.reshape(xx.shape)\n",
    "        ax.pcolormesh(xx, yy, Z, cmap=cmap, alpha=0.5, zorder=1)\n",
    "\n",
    "    ax.legend(loc=\"upper right\", fontsize=16)\n",
    "    ax.set_xlabel(r\"$x_1$\", fontsize=20)\n",
    "    ax.set_ylabel(r\"$x_2$\", fontsize=20) \n",
    "    \n",
    "def generate_data(N, config=\"checkerboard\"):\n",
    "    \n",
    "    from sklearn import datasets\n",
    "    \n",
    "    X = np.zeros((N,2))\n",
    "    y = np.zeros(N).astype(int)\n",
    "    \n",
    "    if config==\"checkerboard\":\n",
    "        nps, sqlen = N//9, 2/3\n",
    "        ctr = 0\n",
    "        for ii in range(3):\n",
    "            for jj in range(3):\n",
    "                X[ctr*nps:(ctr+1)*nps,:] = np.column_stack(\n",
    "                    (np.random.uniform(ii*sqlen+.05-1,(ii+1)*sqlen-.05-1,size=nps),\n",
    "                     np.random.uniform(jj*sqlen+.05-1,(jj+1)*sqlen-.05-1,size=nps))) \n",
    "                y[ctr*nps:(ctr+1)*nps] = (3*ii+jj)%2\n",
    "                ctr += 1\n",
    "                \n",
    "    if config==\"blobs\":            \n",
    "        \n",
    "        X, y = datasets.make_blobs(n_samples=N, centers=[[-.5,.5],[.5,-.5]], cluster_std=[.20,.20],n_features=2)\n",
    "        \n",
    "    if config==\"circles\":\n",
    "        kk=0\n",
    "        while kk < N/2:\n",
    "            sample = 2*np.random.rand(2)-1 \n",
    "            if np.linalg.norm(sample) <= .45:\n",
    "                X[kk,:] = sample \n",
    "                y[kk] = 0\n",
    "                kk += 1 \n",
    "        while kk < N:\n",
    "            sample = 2*np.random.rand(2)-1 \n",
    "            dist = np.linalg.norm(sample)\n",
    "            if dist < 0.9 and dist > 0.55:\n",
    "                X[kk,:] = sample \n",
    "                y[kk] = 1\n",
    "                kk += 1\n",
    "                \n",
    "    if config==\"moons\":\n",
    "        X, y = datasets.make_moons(n_samples=N, noise=.05)\n",
    "        X[:,0] = .5*(X[:,0]-.5)\n",
    "        X[:,1] = X[:,1]-.25\n",
    "            \n",
    "    return X, y"
   ]
  },
  {
   "cell_type": "code",
   "execution_count": null,
   "metadata": {
    "collapsed": true
   },
   "outputs": [],
   "source": []
  }
 ],
 "metadata": {
  "kernelspec": {
   "display_name": "Python 3",
   "language": "python",
   "name": "python3"
  },
  "language_info": {
   "codemirror_mode": {
    "name": "ipython",
    "version": 3
   },
   "file_extension": ".py",
   "mimetype": "text/x-python",
   "name": "python",
   "nbconvert_exporter": "python",
   "pygments_lexer": "ipython3",
   "version": "3.6.2"
  }
 },
 "nbformat": 4,
 "nbformat_minor": 2
}
