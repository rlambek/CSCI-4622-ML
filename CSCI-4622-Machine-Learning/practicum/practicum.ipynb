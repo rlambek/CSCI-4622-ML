{
 "cells": [
  {
   "cell_type": "markdown",
   "metadata": {},
   "source": [
    "# CSCI 4622 - Spring 2018 - Practicum \n",
    "***\n",
    "\n",
    "\n",
    "This practicum is due on Moodle by **11:59pm on Thursday May 3rd**. \n",
    "\n",
    "**Here are the rules:** \n",
    "\n",
    "4. Your work must be done entirely on your own. You may **NOT** collaborate with classmates or anyone else.  \n",
    "3. You may **NOT** post to message boards or other online resources asking for help. \n",
    "5. You may **NOT** use late days on the practicum nor can you drop your practicum grade. \n",
    "1. You may use your course notes, posted lecture slides, in-class notebooks, and homework solutions as resources. \n",
    "2. You may consult alternate sources like blog posts or technical papers, but you may **NOT** copy code from these sources. \n",
    "3. Any additional non-course sources that you use should be clearly cited (with links) in the **References** section at the bottom of this notebook. \n",
    "7. Submit only this Jupyter notebook to Moodle.  Do not compress it using tar, rar, zip, etc. \n",
    "\n",
    "Violation of the above rules will result in an **F** in the course and a trip to **Honor Council** \n",
    "\n",
    "***\n",
    "\n",
    "**By writing your name below you agree to abide by the given rules:**\n",
    "\n",
    "**Name**: Maxwell Lambek\n",
    "\n",
    "**Kaggle Username**: mlambek\n",
    "\n",
    "***\n",
    "\n",
    "\n",
    "**NOTES**: \n",
    "\n",
    "- You do not need to implement everything from scratch.  At this point you should be leveraging Sklearn as much as you can. \n",
    "- If you have a clarifying question, please post it as a **PRIVATE** message to me on Piazza. \n",
    "- Part of the goal of this assignment is to see if you can stand on your own.  Please do not ask me to help you debug code or check if your answers are correct. Most of the implementation details necessary to complete this practicum can be found in the Hands-On notebooks or the Sklearn documentation.  \n",
    "- You'll notice that the point totals below do not add up to 100.  This is because 10 out of the 100 points will be attributed to **style**.  To earn full credit for style your analysis should be concise and well-organized, your code should be readable and well-commented, and you should use plots and graphics to support your conclusions whenever appropriate.  "
   ]
  },
  {
   "cell_type": "code",
   "execution_count": 2,
   "metadata": {
    "ExecuteTime": {
     "end_time": "2018-04-19T11:17:37.900418Z",
     "start_time": "2018-04-19T11:17:37.897826Z"
    },
    "collapsed": true
   },
   "outputs": [],
   "source": [
    "import pickle, gzip \n",
    "import numpy as np\n",
    "import pandas as pd\n",
    "import matplotlib.pylab as plt\n",
    "%matplotlib inline"
   ]
  },
  {
   "cell_type": "markdown",
   "metadata": {},
   "source": [
    "### [35 points] Problem 1: Building Classifiers for Fashion MNIST \n",
    "***\n",
    "\n",
    "The classic MNIST Handwritten Digit data set has been a staple in the machine learning literature since the beginning of time (i.e. the late 90's).  However, machine learning practitioners have grown tired of the rusty digits and have recently begun to create and explore new, more interesting data sets. Some popular alternatives to emerge recently are [EMNIST](https://www.kaggle.com/crawford/emnist), [Sign Language MNIST](https://www.kaggle.com/datamunge/sign-language-mnist), and [Fashion MNIST](https://github.com/zalandoresearch/fashion-mnist). In this problem you will explore the latter. \n",
    "\n",
    "Fashion MNIST is comprised of $28 \\times 28$ pixel gray-scale images of clothing, with classes corresponding to things like tops, trousers, coats, dresses, and various types of shoes.  The data set that we'll work with corresponds to a small subset of Fashion MNIST with 1500 examples from each of five distinct classes (tops, trousers, coats, sneakers, and ankle boots). \n",
    "\n",
    "Execute the following cell to load the data. "
   ]
  },
  {
   "cell_type": "code",
   "execution_count": 2,
   "metadata": {
    "ExecuteTime": {
     "end_time": "2018-04-19T11:16:40.004587Z",
     "start_time": "2018-04-19T11:16:39.285472Z"
    },
    "collapsed": true
   },
   "outputs": [],
   "source": [
    "f = gzip.open('data/fashion_mnist_subset.pklz', 'rb')\n",
    "X_all, y_all = pickle.load(f)\n",
    "f.close()"
   ]
  },
  {
   "cell_type": "markdown",
   "metadata": {},
   "source": [
    "In **Parts A-C** you will construct various tuned classifiers for making predictions on Fashion MNIST.  For each classifier you should: \n",
    "- Describe and motivate any transformations on the pixel data that you found helpful/necessary to make your model work well. \n",
    "- Describe and justify your process for determining optimal hyperparameters for each model. Support your decisions with validation studies and associated graphics.  Do **NOT** just report the hyperparameters that worked best.  \n",
    "- Describe how you evaluated your models during your process (i.e. did you use a validation set, did you do cross-validation, etc). \n",
    "- Report the final optimal hyperparameters that you used as well as the accuracy of your final model. "
   ]
  },
  {
   "cell_type": "markdown",
   "metadata": {},
   "source": [
    "**Part A**: Construct a K-Nearest Neighbors classifier to make predictions on the data. "
   ]
  },
  {
   "cell_type": "code",
   "execution_count": 3,
   "metadata": {
    "collapsed": true
   },
   "outputs": [],
   "source": [
    "def error_rate(C): # to calculate the error rate of the model\n",
    "    # diagnoal entries are the correct ones so we want to subtract them out\n",
    "    return 1- (np.sum(np.diag(C)))/C.sum()"
   ]
  },
  {
   "cell_type": "code",
   "execution_count": 4,
   "metadata": {},
   "outputs": [
    {
     "name": "stdout",
     "output_type": "stream",
     "text": [
      "iteration:  2  error:  0.038\n",
      "iteration:  4  error:  0.0341333333333\n",
      "iteration:  6  error:  0.0345333333333\n",
      "iteration:  8  error:  0.0366666666667\n",
      "iteration:  10  error:  0.0372\n",
      "iteration:  12  error:  0.0385333333333\n",
      "iteration:  14  error:  0.0402666666667\n",
      "iteration:  16  error:  0.0398666666667\n",
      "iteration:  18  error:  0.0418666666667\n",
      "iteration:  20  error:  0.0413333333333\n",
      "iteration:  22  error:  0.0432\n",
      "iteration:  24  error:  0.0429333333333\n",
      "iteration:  26  error:  0.0429333333333\n",
      "iteration:  28  error:  0.0434666666667\n"
     ]
    }
   ],
   "source": [
    "from sklearn.neighbors import KNeighborsClassifier\n",
    "from sklearn.metrics import confusion_matrix\n",
    "from sklearn.model_selection import StratifiedKFold\n",
    "CVerrors = []\n",
    "for k in range(2,30,2):# prefrom 5-fold cross validation for k values in the given range\n",
    "    skf = StratifiedKFold(n_splits=5,shuffle=True)\n",
    "    acc_valid = []\n",
    "    for train_index, test_index in skf.split(X_all, y_all):\n",
    "        Xt, Xv = X_all[train_index], X_all[test_index]\n",
    "        yt, yv = y_all[train_index], y_all[test_index]\n",
    "        knn = KNeighborsClassifier(k).fit(Xt, yt)# Make the KNN classifier and fit it to the split data\n",
    "        y_hat = knn.predict(Xv)\n",
    "        cm = confusion_matrix(yv,y_hat)\n",
    "        acc_valid = acc_valid + [error_rate(cm)]# calculate the error and save the value\n",
    "    CVerrors = CVerrors + [np.mean(acc_valid)]\n",
    "    print(\"iteration: \", k, \" error: \", np.mean(acc_valid))"
   ]
  },
  {
   "cell_type": "code",
   "execution_count": 6,
   "metadata": {},
   "outputs": [
    {
     "data": {
      "image/png": "[encoded data removed]",
      "text/plain": [
       "<matplotlib.figure.Figure at 0x7f4b6fe826d8>"
      ]
     },
     "metadata": {},
     "output_type": "display_data"
    }
   ],
   "source": [
    "fig, ax = plt.subplots(nrows=1, ncols=1, figsize=(12,6))\n",
    "ax.plot(range(2,30,2),CVerrors, color = \"green\")\n",
    "ax.set_xlabel(\"k\", fontsize=16)\n",
    "ax.set_ylabel(\"CV error\", fontsize=16);\n",
    "ax.grid(alpha=0.25)\n",
    "ax.legend(loc=\"lower right\", fontsize=16);"
   ]
  },
  {
   "cell_type": "markdown",
   "metadata": {},
   "source": [
    "To determine an optimal value for $k$ I trained KNN predictors with k values between $0$ and $30$. I used 5 fold cross-validation to determine the accuracy of each model during the process the above plot shows the cross-validation error rates for each $k$ that I tested.\n",
    "\n",
    "The optimal value for $k$ was, $k=4$ and the model had a cross-validation accuracy of $96.6\\%$."
   ]
  },
  {
   "cell_type": "markdown",
   "metadata": {},
   "source": [
    "**Part B**: Construct a Linear Support Vector Machine classifier to make predictions on the data. "
   ]
  },
  {
   "cell_type": "code",
   "execution_count": 7,
   "metadata": {},
   "outputs": [
    {
     "data": {
      "text/plain": [
       "GridSearchCV(cv=3, error_score='raise',\n",
       "       estimator=SVC(C=1.0, cache_size=200, class_weight=None, coef0=0.0,\n",
       "  decision_function_shape='ovr', degree=3, gamma='auto', kernel='linear',\n",
       "  max_iter=-1, probability=False, random_state=None, shrinking=True,\n",
       "  tol=0.001, verbose=False),\n",
       "       fit_params=None, iid=True, n_jobs=1,\n",
       "       param_grid={'gamma': array([  1.00000e-09,   1.00000e-06,   1.00000e-03,   1.00000e+00,\n",
       "         1.00000e+03]), 'C': array([  1.00000e-02,   1.77828e-01,   3.16228e+00,   5.62341e+01,\n",
       "         1.00000e+03])},\n",
       "       pre_dispatch='2*n_jobs', refit=True, return_train_score='warn',\n",
       "       scoring=None, verbose=0)"
      ]
     },
     "execution_count": 7,
     "metadata": {},
     "output_type": "execute_result"
    }
   ],
   "source": [
    "from sklearn.svm import LinearSVC\n",
    "from sklearn.svm import SVC\n",
    "from sklearn.model_selection import cross_val_score, GridSearchCV\n",
    "\n",
    "\n",
    "c_range = np.logspace(-2,3,5)\n",
    "g_range = np.logspace(-9,3,5)\n",
    "param_grid = dict(gamma=g_range, C=c_range)\n",
    "# do a grid search with 3-fold cross validation to find the optimal values of c and gamma\n",
    "grid = GridSearchCV(SVC(kernel=\"linear\"), param_grid=param_grid, cv=3)\n",
    "grid.fit(X_all, y_all)# fit the grid\n"
   ]
  },
  {
   "cell_type": "code",
   "execution_count": 46,
   "metadata": {},
   "outputs": [
    {
     "data": {
      "text/plain": [
       "SVC(C=0.01, cache_size=200, class_weight=None, coef0=0.0,\n",
       "  decision_function_shape='ovr', degree=3, gamma=1.0000000000000001e-09,\n",
       "  kernel='linear', max_iter=-1, probability=False, random_state=None,\n",
       "  shrinking=True, tol=0.001, verbose=False)"
      ]
     },
     "execution_count": 46,
     "metadata": {},
     "output_type": "execute_result"
    }
   ],
   "source": [
    "grid.best_estimator_"
   ]
  },
  {
   "cell_type": "code",
   "execution_count": 47,
   "metadata": {},
   "outputs": [
    {
     "name": "stdout",
     "output_type": "stream",
     "text": [
      "{'C': 0.01, 'gamma': 1.0000000000000001e-09}\n"
     ]
    },
    {
     "data": {
      "text/plain": [
       "0.96026666666666671"
      ]
     },
     "execution_count": 47,
     "metadata": {},
     "output_type": "execute_result"
    }
   ],
   "source": [
    "print(grid.best_params_)\n",
    "grid.best_score_"
   ]
  },
  {
   "cell_type": "markdown",
   "metadata": {},
   "source": [
    "To determine optimial hyperparamters I decided to use a grid search with resonalbe ranges for $\\gamma$ and C. I used 3 fold cross-validation to evaluate my model during the process because the runtime was already very long, and doing something higher then 3 fold cross-validation would only make it take signficantly longer.\n",
    "\n",
    "The optimal hyperparamters were, $\\gamma = 1.0*10^{-9}$ and $C = 0.01$. With those paramters the cross-validation accuracy of the final model was, $96.03\\%$"
   ]
  },
  {
   "cell_type": "markdown",
   "metadata": {},
   "source": [
    "**Part C**: Construct a Feed-Forward Neural Network classifier to make predictions on the data. We recommend using Sklearn's [MLPClassifier](http://scikit-learn.org/stable/modules/generated/sklearn.neural_network.MLPClassifier.html#sklearn.neural_network.MLPClassifier) rather than the code you wrote in Homework 4. In our experiments we found training an MLPClassifier to take no more than a minute for reasonable choices of architectures. "
   ]
  },
  {
   "cell_type": "code",
   "execution_count": 43,
   "metadata": {},
   "outputs": [
    {
     "name": "stdout",
     "output_type": "stream",
     "text": [
      "iteration:  10  error:  0.951066666667\n",
      "iteration:  60  error:  0.951066666667\n",
      "iteration:  110  error:  0.952666666667\n",
      "iteration:  160  error:  0.953866666667\n",
      "iteration:  210  error:  0.954266666667\n",
      "iteration:  260  error:  0.953866666667\n",
      "iteration:  310  error:  0.953466666667\n",
      "iteration:  360  error:  0.954933333333\n",
      "iteration:  410  error:  0.953466666667\n",
      "iteration:  460  error:  0.954266666667\n",
      "iteration:  510  error:  0.952666666667\n"
     ]
    }
   ],
   "source": [
    "from sklearn.neural_network import MLPClassifier\n",
    "\n",
    "CVerrors = []\n",
    "for ii in range(10,520,50):\n",
    "    skf = StratifiedKFold(n_splits=5,shuffle=True)\n",
    "    acc_valid = []\n",
    "    for train_index, test_index in skf.split(X_all, y_all):\n",
    "        Xt, Xv = X_all[train_index], X_all[test_index]\n",
    "        yt, yv = y_all[train_index], y_all[test_index]\n",
    "        # Fit a neural network with ii being the amount of hidden layer nodes\n",
    "        nn = MLPClassifier(hidden_layer_sizes=(ii),activation='logistic',alpha=0.01)\n",
    "        nn.fit(Xt,yt)\n",
    "        acc = nn.score(Xv,yv)\n",
    "        acc_valid = acc_valid + [acc]# store the error for the current fold\n",
    "    CVerrors = CVerrors + [np.mean(acc_valid)]\n",
    "    print(\"hidden layer: \", ii, \" accuracy: \", np.mean(acc_valid))"
   ]
  },
  {
   "cell_type": "markdown",
   "metadata": {},
   "source": [
    "Since this dataset is not linearly seperable, and the data is not extremly complicated I decided to go with a single hidden layer nerual network. Then, to determine the optimal amount of of neurons in the hidden layer I used cross-validation on neural networks with each iteration having 50 more nodes in the hidden layer. I looked at hidden layers having an amount of nodes somwhere between the input layer, and the output layer because it doesn't make much sense to have less nodes in the hidden layer then the output layer, and using more nodes then the input layer would be like overfitting. The result is that a neural net with anywhere between 510 and 110 nodes in the hidden layer is optimal.\n",
    "\n",
    "I also tested a few different $\\alpha$'s and anything smaller then 0.1 prefomed nearly the same so I decided to just use a resonably small $\\alpha = 0.01$\n",
    "\n",
    "So, the final paramaters I used was a neural network with $360$ nodes in the hidden layer and $\\alpha = 0.01$, and the accuracy was $95.49\\%$"
   ]
  },
  {
   "cell_type": "markdown",
   "metadata": {},
   "source": [
    "**Part D**: Which of the three models above performed the best on the data set?  Were you surprised or not surprised by your results?  Discuss. "
   ]
  },
  {
   "cell_type": "markdown",
   "metadata": {
    "collapsed": true
   },
   "source": [
    "KNN prefomed the best with 0.96614 accuracy. I was expecting a neural network to preform the best with a linear support vector machine being a very close second but, I was completely wrong! The neural network preformed the worst being half a percent behind the SVM, and being over one percent behind KNN."
   ]
  },
  {
   "cell_type": "markdown",
   "metadata": {},
   "source": [
    "**Part E**: For the best model you identified in **Part D**, perform a train-validation split and construct a confusion matrix based on predictions on the validation set.  Which classes tend to get confused with each other the most? Are there any classes for which your model performs exceptionally well?  Plot at least one misclassified example from each of the often-confused classes and suggests reasons why this behavior might occur.   "
   ]
  },
  {
   "cell_type": "code",
   "execution_count": 75,
   "metadata": {},
   "outputs": [
    {
     "name": "stdout",
     "output_type": "stream",
     "text": [
      "[[295   1   4   0   0]\n",
      " [  5 292   3   0   0]\n",
      " [  4   1 295   0   0]\n",
      " [  0   0   0 280  20]\n",
      " [  0   0   1  18 281]]\n"
     ]
    },
    {
     "data": {
      "image/png": "[encoded data removed]",
      "text/plain": [
       "<matplotlib.figure.Figure at 0x7fcb80a45668>"
      ]
     },
     "metadata": {},
     "output_type": "display_data"
    },
    {
     "data": {
      "image/png": "[encoded data removed]",
      "text/plain": [
       "<matplotlib.figure.Figure at 0x7fcb80a456d8>"
      ]
     },
     "metadata": {},
     "output_type": "display_data"
    }
   ],
   "source": [
    "print(cm)\n",
    "def view_digit(x, label=None):\n",
    "    fig = plt.figure(figsize=(3,3))\n",
    "    plt.imshow(x.reshape(28,28), cmap='gray');\n",
    "    plt.xticks([]); plt.yticks([]);\n",
    "    if label: plt.xlabel(\"true: {}\".format(label), fontsize=16)\n",
    "view_digit(X_all[14],y_all[14])\n",
    "view_digit(X_all[5],y_all[5])"
   ]
  },
  {
   "cell_type": "markdown",
   "metadata": {},
   "source": [
    "From the confusion matrix we can see that class 9 and class 7 get missclassified with eachother the most commonly. class 0 occationaly gets confused with 1 and 4, and class 1 has the best preformance with only 10 total false positives and false negatives."
   ]
  },
  {
   "cell_type": "markdown",
   "metadata": {},
   "source": [
    "### [30 points] Problem 2: Predicting Authors of Presidential Election Tweets \n",
    "***\n",
    "\n",
    "For the first time in history, the run-up to the 2016 presidential election saw candidates move a large portion of their campaigns from the traditional debating lectern to the Twitterverse. In this problem you will construct various classifiers to predict whether a tweet was sent by @HillaryClinton ($y=0$) or @realDonaldTrump ($y=1$). \n",
    "\n",
    "The data set contains $4000$ tweets that have been cleaned by converting all text to lowercase, removing punctuation, and removing hypertext links. In order to preserve hashtags we've replaced the typical # with the string `hashtag` (e.g. `#GiantMeteor` would be converted to `hashtaggiantmeteor`).  \n",
    "\n",
    "Execute the following cell to load the data. "
   ]
  },
  {
   "cell_type": "code",
   "execution_count": 3,
   "metadata": {
    "ExecuteTime": {
     "end_time": "2018-04-19T11:16:43.620382Z",
     "start_time": "2018-04-19T11:16:43.607739Z"
    }
   },
   "outputs": [],
   "source": [
    "f = gzip.open('data/clean_tweets.pklz','rb')\n",
    "text_all, y_all = pickle.load(f)\n",
    "f.close()"
   ]
  },
  {
   "cell_type": "markdown",
   "metadata": {},
   "source": [
    "**Part A**: Vectorize the text features using the Bag-of-Words text model **while removing stop words**.  Then answer the following questions: \n",
    "\n",
    "- How many distinct text features are there in the data after stop words are removed? \n",
    "- How many distinct **HashTags** are there in the data? \n",
    "- Which candidate uses HashTags the most frequently? "
   ]
  },
  {
   "cell_type": "code",
   "execution_count": 4,
   "metadata": {},
   "outputs": [
    {
     "name": "stdout",
     "output_type": "stream",
     "text": [
      "There are 7509 terms in the vocabular\n"
     ]
    }
   ],
   "source": [
    "from sklearn.feature_extraction.text import CountVectorizer \n",
    "bagofwords = CountVectorizer(stop_words = 'english')\n",
    "Xbw_train = bagofwords.fit_transform(text_all)\n",
    "print(\"There are {:d} terms in the vocabular\".format(Xbw_train.shape[1]))"
   ]
  },
  {
   "cell_type": "code",
   "execution_count": 6,
   "metadata": {},
   "outputs": [
    {
     "name": "stdout",
     "output_type": "stream",
     "text": [
      "hashtagwiprimary\n",
      "hashtagtrump2016\n",
      "hashtagamericafirst\n",
      "hashtagbenghazi\n",
      "hashtagdebates2016\n",
      "hashtagdebatenight\n",
      "hashtagmaga\n",
      "hashtagdebates\n",
      "hashtagde\n",
      "hashtagwemadehistory\n",
      "hashtagmakeamericagreatagain\n",
      "hashtagrncincle\n",
      "hashtagtrumppence16\n",
      "hashtagdemsinphilly\n",
      "hashtagimwithyoutickets\n",
      "hashtagneverhillary\n",
      "hashtagflashbackfriday\n",
      "hashtagrollcallvote\n",
      "hashtagdemconvention\n",
      "hashtagvotetrumpny\n",
      "hashtagwomen4ttump\n",
      "hashtagimwithyou\n",
      "hashtagrip\n",
      "hashtagjuangabriel\n",
      "hashtagdivodejuarez\n",
      "hashtagpotus\n",
      "hashtagmakeamericasafeagain\n",
      "hashtagtrump20166\n",
      "hashtagdeclareyourambition\n",
      "hashtagcrookedhillary\n",
      "hashtagnps100\n",
      "hashtagnyprimary\n",
      "hashtagmakeamericagreatagainvideo\n",
      "hashtagdday\n",
      "hashtagvotetrump\n",
      "hashtagblackmenforbernie\n",
      "hashtaghillary2016\n",
      "hashtagblacksfortrump\n",
      "hashtagtrumppence2016\n",
      "hashtagfrozen\n",
      "hashtagarizonaprimary\n",
      "hashtagazprimary\n",
      "hashtagdncinphl\n",
      "hashtagusa\n",
      "hashtagsecondamendment\n",
      "hashtag2a\n",
      "hashtagnabjnahj16\n",
      "hashtagtrumptrain\n",
      "hashtagvotetrump2016\n",
      "hashtagfollowthemoney\n",
      "hashtagnewyorkvalues\n",
      "hashtagnevertrump\n",
      "hashtaglovetrumpshate\n",
      "hashtagjuntossepuede\n",
      "hashtaggopconvention\n",
      "hashtagimwithyouvideo\n",
      "hashtaglovetrumpshatethen\n",
      "hashtag60minutes\n",
      "hashtagfailingnytimes\n",
      "hashtagalwaystrump\n",
      "hashtagwithherfirst\n",
      "hashtagrosanelleaton\n",
      "hashtagimwithher\n",
      "hashtagstamina\n",
      "hashtagthegreatest\n",
      "hashtagmakeamericagreatagainsign\n",
      "hashtagstrongertogether\n",
      "hashtaglawandorder\n",
      "hashtagracine\n",
      "hashtagwausau\n",
      "hashtageauclaire\n",
      "hashtagnbcnewsforum\n",
      "hashtagwomensequalityday\n",
      "hashtaginprimary\n",
      "hashtagkhizrkhan\n",
      "hashtaglgbt\n",
      "hashtagrepmikekelly\n",
      "hashtagmakeamericaworkagain\n",
      "hashtagnationalvoterregistrationday\n",
      "hashtagnebraskaprimary\n",
      "hashtagtrumpforpresident\n",
      "hashtagblackwomensequalpay\n",
      "hashtagwhd\n",
      "hashtagelections2016\n",
      "hashtagupupup\n",
      "hashtagindprimary\n",
      "hashtagstopgunviolence\n",
      "hashtagshewon\n",
      "hashtaghappymothersday\n",
      "hashtagdebate\n",
      "hashtagfns\n",
      "hashtagthe411\n",
      "hashtagclintonkaine\n",
      "hashtaglaborday\n",
      "hashtagenjoy\n",
      "hashtagdemsinphl\n",
      "hashtagrestorethevra\n",
      "hashtagwesterntuesday\n",
      "hashtagtrump\n",
      "hashtagcrookedhillarys\n",
      "hashtagtrump360\n",
      "hashtagnato\n",
      "hashtagicymi\n",
      "hashtagpaprimary\n",
      "hashtagmakeamericagreatagainwatch\n",
      "hashtagobamacare\n",
      "hashtagmagatickets\n",
      "hashtaglesm\n",
      "hashtagimwithhernandez\n",
      "hashtagteamusa\n",
      "hashtagopeningceremony\n",
      "hashtagrio2016\n",
      "hashtagthrowbackthursday\n",
      "hashtagleadright2016\n",
      "hashtagmegynkellypresents\n",
      "hashtagiregistered\n",
      "hashtagl\n",
      "hashtagtrumptraintickets\n",
      "hashtagalconvention2016\n",
      "hashtagvoterregistra\n",
      "hashtagvoterfraud\n",
      "hashtagmsm\n",
      "hashtagtrump2016tickets\n",
      "hashtagdtmag\n",
      "hashtag\n",
      "hashtagtrumpyourself\n",
      "hashtagmeetthetrumps\n",
      "hashtagresto\n",
      "hashtagbigleaguetruth\n",
      "hashtagterencecrutcher\n",
      "hashtagwisconsin\n",
      "hashtagt\n",
      "hashtagriggedsystem\n",
      "hashtagtrumpineverett\n",
      "hashtagnyprimary4\n",
      "hashtagstandwithlouisiana\n",
      "hashtagtrumpiswithyou\n",
      "hashtagtrumpdallas\n",
      "hashtaghillarykaine2016\n",
      "hashtagdaca\n",
      "hashtagnewday\n",
      "hashtagscotus\n",
      "hashtagextremevetting\n",
      "hashtaggopincle\n",
      "hashtagcommanderinchiefforum\n",
      "hashtagmdw\n",
      "hashtagnyprimarytickets\n",
      "hashtagimwithyoutranscript\n",
      "hashtag1\n",
      "hashtagcoastguardday\n",
      "hashtagvotetrumpwi\n",
      "hashtagmedia\n",
      "hashtaggoodtrouble\n",
      "hashtagthedonalds\n",
      "hashtagjimmyfallon\n",
      "hashtagthetonightshow\n",
      "hashtagenough\n",
      "hashtaghannity\n",
      "hashtagbuildthewall\n",
      "hashtagwomen4trump\n",
      "hashtagvpdebate\n",
      "hashtaglibrarianofcongress\n",
      "hashtagyouthday\n",
      "hashtagdemconventionwatch\n",
      "hashtagorprimarycloses\n",
      "hashtagdnc\n",
      "hashtagderp\n",
      "hashtagwakeupamerica\n",
      "hashtagfollowthemoneyspeech\n",
      "hashtagdiwali\n",
      "hashtagmakeamericagreatagaintickets\n",
      "hashtagbeboldendhyde\n",
      "hashtagctprimary\n",
      "hashtagdeprimary\n",
      "hashtagmdprimary\n",
      "hashtaggop\n",
      "hashtagtrumprallytickets\n",
      "hashtagjohnryder\n",
      "hashtagcaprimary\n",
      "hashtagprimaryday\n",
      "hashtagbrexit\n",
      "hashtagtaxplan\n",
      "hashtagsmallbiz\n",
      "hashtagstandtogether\n",
      "hashtaghispanicheritagemonth\n",
      "hashtagcincodemayo\n",
      "hashtagada\n",
      "hashtagcripthevote\n",
      "hashtagvoterregistrationday\n",
      "hashtagvirwinia\n",
      "hashtagisis\n",
      "hashtagriprimary\n",
      "hashtagdebates20\n",
      "hashtagtrumpwon\n",
      "hashtagindiana\n",
      "hashtagwvprimary\n",
      "hashtagdemsinphil\n",
      "hashtagneprimary\n",
      "hashtagteamtrump\n",
      "hashtagtrumprally\n",
      "hashtagwcs16\n",
      "hashtagtbt\n",
      "hashtagpolls\n",
      "hashtaglyingted\n",
      "hashtagelection2016\n",
      "hashtagdemsinphillyh\n",
      "hashtagugpride2016\n",
      "hashtagrtm2016\n",
      "hashtagarmedforcesday\n",
      "hashtags\n",
      "hashtagelectionday\n",
      "hashtagdefendthesecond\n",
      "hashtagutahcaucus\n",
      "hashtagutcaucus\n",
      "hashtagamericafirstvideo\n",
      "hashtaghaileypuckett\n",
      "hashtagteachers4trump\n",
      "hashtagca4trump\n",
      "hashtagneverdems\n",
      "hashtagamericasmerkel\n",
      "hashtagnewyorkvaluesin\n",
      "hashtagnyprimarylets\n",
      "hashtagtpp\n",
      "hashtagfo\n",
      "hashtagcitizensunited\n",
      "hashtagmattschlapp\n",
      "hashtagjenniferrubin\n",
      "hashtagsenddonaldtospace\n",
      "hashtagpresidenttrump\n",
      "hashtagprimary\n",
      "hashtagtrumpmovement\n",
      "hashtagmyteacherisweird\n",
      "hashtagfallontonight\n",
      "hashtagnevercruz\n",
      "hashtaglaf\n",
      "hashtagstanleycup\n",
      "hashtagimwith\n",
      "hashtagdonaldtrump\n",
      "hashtagmaga3pm\n",
      "hashtagwhereshillary\n",
      "hashtagelkhart\n",
      "hashtagopioidawarenessweek\n",
      "hashtagslipping\n",
      "There are 243 distinct HashTags in the data\n"
     ]
    }
   ],
   "source": [
    "uniqueHashTags = 0\n",
    "for word in bagofwords.vocabulary_:\n",
    "    if word[0:7]=='hashtag':\n",
    "        uniqueHashTags = uniqueHashTags +1\n",
    "print(\"There are {:d} distinct HashTags in the data\".format(uniqueHashTags))"
   ]
  },
  {
   "cell_type": "code",
   "execution_count": 15,
   "metadata": {},
   "outputs": [
    {
     "name": "stdout",
     "output_type": "stream",
     "text": [
      "Clinton used 258 HashTags and Trump used 804 HashTags\n",
      "So, Trump uses HashTags much more frequently\n"
     ]
    }
   ],
   "source": [
    "trump_count = 0\n",
    "clinton_count = 0\n",
    "ii = 0\n",
    "for tweet in text_all:\n",
    "    if y_all[ii] == 0:\n",
    "        clinton_count = clinton_count + tweet.count('HASHTAG')\n",
    "    else:\n",
    "        trump_count = trump_count + tweet.count('HASHTAG')\n",
    "    ii = ii + 1\n",
    "        \n",
    "print(\"Clinton used {:d} HashTags\".format(clinton_count), \"and Trump used {:d} HashTags\".format(trump_count))\n",
    "print(\"So, Trump uses HashTags much more frequently\")"
   ]
  },
  {
   "cell_type": "markdown",
   "metadata": {},
   "source": [
    "**Part B**: Construct a Logistic Regression classifier with L2 regularization to make predictions on the data. Exactly as in **Problem 1**, you should clearly detail your process for picking optimal hyperparameters and evaluating your model, and report the details of your best model along with final validation accuracy. "
   ]
  },
  {
   "cell_type": "code",
   "execution_count": 19,
   "metadata": {},
   "outputs": [
    {
     "name": "stdout",
     "output_type": "stream",
     "text": [
      "for c = 0.1 accuracy: 0.89025\n",
      "for c = 0.137382379588 accuracy: 0.89725\n",
      "for c = 0.188739182214 accuracy: 0.90075\n",
      "for c = 0.25929437974 accuracy: 0.906\n",
      "for c = 0.356224789026 accuracy: 0.907\n",
      "for c = 0.489390091848 accuracy: 0.91\n",
      "for c = 0.67233575365 accuracy: 0.91325\n",
      "for c = 0.923670857187 accuracy: 0.91725\n",
      "for c = 1.26896100317 accuracy: 0.9135\n",
      "for c = 1.7433288222 accuracy: 0.916\n",
      "for c = 2.39502661999 accuracy: 0.91875\n",
      "for c = 3.29034456231 accuracy: 0.921\n",
      "for c = 4.52035365636 accuracy: 0.91975\n",
      "for c = 6.21016941892 accuracy: 0.92075\n",
      "for c = 8.53167852417 accuracy: 0.9255\n",
      "for c = 11.7210229753 accuracy: 0.92475\n",
      "for c = 16.1026202756 accuracy: 0.92375\n",
      "for c = 22.1221629107 accuracy: 0.92675\n",
      "for c = 30.3919538231 accuracy: 0.92275\n",
      "for c = 41.7531893656 accuracy: 0.92625\n",
      "for c = 57.3615251045 accuracy: 0.92025\n",
      "for c = 78.8046281567 accuracy: 0.9245\n",
      "for c = 108.263673387 accuracy: 0.9265\n",
      "for c = 148.735210729 accuracy: 0.92025\n",
      "for c = 204.335971786 accuracy: 0.92125\n",
      "for c = 280.721620394 accuracy: 0.924\n",
      "for c = 385.662042116 accuracy: 0.92325\n",
      "for c = 529.831690628 accuracy: 0.92675\n",
      "for c = 727.895384398 accuracy: 0.922\n",
      "for c = 1000.0 accuracy: 0.9225\n"
     ]
    }
   ],
   "source": [
    "from sklearn.feature_extraction.text import TfidfVectorizer\n",
    "from sklearn.linear_model import LogisticRegression\n",
    "from sklearn.pipeline import Pipeline\n",
    "c_range = np.logspace(-1,3,30)\n",
    "CVerrors = []\n",
    "for c in c_range:\n",
    "    arr_text_all = np.asarray(text_all)\n",
    "    skf = StratifiedKFold(n_splits=10,shuffle=True)\n",
    "    acc_valid = []\n",
    "    for train_index, test_index in skf.split(text_all, y_all):\n",
    "        # make a pipline to do both vectorizing and regression\n",
    "        bagofwords_steps = [\n",
    "        (\"bagofwords\", TfidfVectorizer(stop_words=\"english\")),\n",
    "        (\"logreg\", LogisticRegression(C=c))]\n",
    "        Xt, Xv = arr_text_all[train_index], arr_text_all[test_index]\n",
    "        yt, yv = y_all[train_index], y_all[test_index]\n",
    "        bagofwords_pipe = Pipeline(bagofwords_steps).fit(Xt,yt)\n",
    "        #bagofwords_pipe.fit(Xt, yt)\n",
    "        acc = bagofwords_pipe.score(Xv, yv)\n",
    "        acc_valid = acc_valid + [acc]\n",
    "\n",
    "    print(\"for c =\", c, \"accuracy:\", np.mean(acc_valid))\n",
    "    CVerrors = CVerrors + [np.mean(acc_valid)]"
   ]
  },
  {
   "cell_type": "code",
   "execution_count": 20,
   "metadata": {},
   "outputs": [
    {
     "data": {
      "image/png": "[encoded data removed]",
      "text/plain": [
       "<matplotlib.figure.Figure at 0x7f4b638e1f28>"
      ]
     },
     "metadata": {},
     "output_type": "display_data"
    }
   ],
   "source": [
    "fig, ax = plt.subplots(nrows=1, ncols=1, figsize=(12,6))\n",
    "ax.plot(c_range,CVerrors, color = \"green\")\n",
    "ax.set_xlabel(\"c\", fontsize=16)\n",
    "ax.set_ylabel(\"CV error\", fontsize=16);"
   ]
  },
  {
   "cell_type": "markdown",
   "metadata": {},
   "source": [
    "I found the optimal C value by building a somewhat resonable range for C, and then running 10-Fold Cross Validation on that value of C. I then took the smallest value of C from when the accuracy didn't improve much from. By doing this process I found that the $C=22$ was optimal with CV accuracy: $92.68\\% $"
   ]
  },
  {
   "cell_type": "markdown",
   "metadata": {},
   "source": [
    "**Part C**: Determine and report the 10 words that are the best predictors for @HillaryClinton and the 10 words that are the best predictors for @realDonaldTrump in your Logistic Regression model. In addition, you should briefly discuss how you found these best features mathematically. "
   ]
  },
  {
   "cell_type": "code",
   "execution_count": 261,
   "metadata": {},
   "outputs": [
    {
     "name": "stdout",
     "output_type": "stream",
     "text": [
      "DT: speech hashtagtrump2016 hashtagamericafirst cnn great hashtagmakeamericagreatagain realdonaldtrump media clinton crooked\n",
      "HC: rt timkaine potus trump trumps barack joebiden hillary flotus billclinton\n"
     ]
    }
   ],
   "source": [
    "\n",
    "bagofwords = TfidfVectorizer(stop_words = 'english')\n",
    "bowf = bagofwords.fit_transform(text_all,y_all)\n",
    "logreg = LogisticRegression(C=16, tol = 1e-6)\n",
    "logreg.fit(bowf,y_all)\n",
    "logreg.coef_\n",
    "\n",
    "features = np.asarray(bagofwords.get_feature_names())\n",
    "top10 = np.argsort(logreg.coef_[0])[-10:]\n",
    "bottom10 = np.argsort(logreg.coef_[0])[:10]\n",
    "print(\"DT: %s\" % \" \".join(features[top10]))\n",
    "print(\"HC: %s\" % \" \".join(features[bottom10]))\n",
    "\n",
    "    "
   ]
  },
  {
   "cell_type": "markdown",
   "metadata": {},
   "source": [
    "The best features are the features with the highest coefficient. The coefficients are determined by using stochastic gradient descent to update the logistic regression model until the model doesn't improve between iterations. Stochastic gradient descent is a method of using the gradient of the model to iteratively update the coefficients to find the best set of coefficients."
   ]
  },
  {
   "cell_type": "markdown",
   "metadata": {},
   "source": [
    "**Part D**: Construct a Naive Bayes classifier to make predictions on the data. Again, you should clearly detail your process for picking optimal hyperparameters and evaluating your model, and report the details of your best model along with final validation accuracy. **Hint**: Since text features are discrete, you'll want to use Sklearn's [MultinomialNB](http://scikit-learn.org/stable/modules/generated/sklearn.naive_bayes.MultinomialNB.html) classifier. "
   ]
  },
  {
   "cell_type": "code",
   "execution_count": 271,
   "metadata": {},
   "outputs": [
    {
     "name": "stdout",
     "output_type": "stream",
     "text": [
      "for alpha = 0.01 accuracy: 0.91825\n",
      "for alpha = 0.0126896100317 accuracy: 0.914\n",
      "for alpha = 0.0161026202756 accuracy: 0.91775\n",
      "for alpha = 0.0204335971786 accuracy: 0.9185\n",
      "for alpha = 0.025929437974 accuracy: 0.9215\n",
      "for alpha = 0.0329034456231 accuracy: 0.9215\n",
      "for alpha = 0.0417531893656 accuracy: 0.92575\n",
      "for alpha = 0.0529831690628 accuracy: 0.923\n",
      "for alpha = 0.067233575365 accuracy: 0.9235\n",
      "for alpha = 0.0853167852417 accuracy: 0.9225\n",
      "for alpha = 0.108263673387 accuracy: 0.92575\n",
      "for alpha = 0.137382379588 accuracy: 0.92875\n",
      "for alpha = 0.17433288222 accuracy: 0.92525\n",
      "for alpha = 0.221221629107 accuracy: 0.92625\n",
      "for alpha = 0.280721620394 accuracy: 0.927\n",
      "for alpha = 0.356224789026 accuracy: 0.92775\n",
      "for alpha = 0.452035365636 accuracy: 0.933\n",
      "for alpha = 0.573615251045 accuracy: 0.931\n",
      "for alpha = 0.727895384398 accuracy: 0.92925\n",
      "for alpha = 0.923670857187 accuracy: 0.92775\n",
      "for alpha = 1.17210229753 accuracy: 0.9275\n",
      "for alpha = 1.48735210729 accuracy: 0.92525\n",
      "for alpha = 1.88739182214 accuracy: 0.924\n",
      "for alpha = 2.39502661999 accuracy: 0.92525\n",
      "for alpha = 3.03919538231 accuracy: 0.919\n",
      "for alpha = 3.85662042116 accuracy: 0.91775\n",
      "for alpha = 4.89390091848 accuracy: 0.9155\n",
      "for alpha = 6.21016941892 accuracy: 0.91425\n",
      "for alpha = 7.88046281567 accuracy: 0.91125\n",
      "for alpha = 10.0 accuracy: 0.91025\n"
     ]
    }
   ],
   "source": [
    "from sklearn.naive_bayes import MultinomialNB\n",
    "\n",
    "alpha_range = np.logspace(-2,1,30)\n",
    "\n",
    "CVerrors = []\n",
    "for alpha in alpha_range:\n",
    "    arr_text_all = np.asarray(text_all)\n",
    "    skf = StratifiedKFold(n_splits=10,shuffle=True)\n",
    "    acc_valid = []\n",
    "    for train_index, test_index in skf.split(text_all, y_all):\n",
    "        # make pipline for vectorizing and building the classifer\n",
    "        bagofwords_steps = [\n",
    "        (\"bagofwords\", CountVectorizer(stop_words=\"english\")),\n",
    "        (\"clf\", MultinomialNB(alpha=alpha, fit_prior=False))]\n",
    "        Xt, Xv = arr_text_all[train_index], arr_text_all[test_index]\n",
    "        yt, yv = y_all[train_index], y_all[test_index]\n",
    "        bagofwords_pipe = Pipeline(bagofwords_steps)\n",
    "        bagofwords_pipe.fit(Xt, yt) # fit the vectorizer and classifier with the data\n",
    "        acc = bagofwords_pipe.score(Xv, yv)\n",
    "        acc_valid = acc_valid + [acc]\n",
    "\n",
    "    print(\"for alpha =\", alpha, \"accuracy:\", np.mean(acc_valid))\n",
    "    CVerrors = CVerrors + [np.mean(acc_valid)]"
   ]
  },
  {
   "cell_type": "code",
   "execution_count": 269,
   "metadata": {},
   "outputs": [
    {
     "data": {
      "image/png": "[encoded data removed]",
      "text/plain": [
       "<matplotlib.figure.Figure at 0x7fe043e50518>"
      ]
     },
     "metadata": {},
     "output_type": "display_data"
    }
   ],
   "source": [
    "fig, ax = plt.subplots(nrows=1, ncols=1, figsize=(12,6))\n",
    "ax.plot(alpha_range,CVerrors, color = \"green\")\n",
    "ax.set_xlabel(\"alpha\", fontsize=16)\n",
    "ax.set_ylabel(\"CV error\", fontsize=16);"
   ]
  },
  {
   "cell_type": "markdown",
   "metadata": {},
   "source": [
    "I found the optimal $\\alpha$ value by building a somewhat resonable range for $\\alpha$, and then running 10-Fold Cross Validation on that value of $\\alpha$. I then took the smallest value of $\\alpha$ from when the accuracy didn't improve much from. I also looked at if fitting the prior or not fitting the prior is better for each value of $\\alpha$ but, I didn't see any significant differences between the two options. By doing this process I found that the $\\alpha=0.45203$ was optimal with CV accuracy: $93.3\\%$."
   ]
  },
  {
   "cell_type": "markdown",
   "metadata": {},
   "source": [
    "**Part E**: Determine and report the 10 words that are the best predictors for @HillaryClinton and the 10 words that are the best predictors for @realDonaldTrump in your Naive Bayes model. In addition, you should briefly discuss how you found these best features mathematically. "
   ]
  },
  {
   "cell_type": "code",
   "execution_count": 162,
   "metadata": {},
   "outputs": [
    {
     "name": "stdout",
     "output_type": "stream",
     "text": [
      "DT: people hashtagtrump2016 amp trump clinton crooked realdonaldtrump great hillary thank\n"
     ]
    }
   ],
   "source": [
    "\n",
    "bagofwords = CountVectorizer(stop_words = 'english')\n",
    "bowf = bagofwords.fit_transform(text_all,y_all)\n",
    "clf = MultinomialNB(alpha=0.0853167852417)\n",
    "clf.fit(bowf, y_all)\n",
    "features = np.asarray(bagofwords.get_feature_names())\n",
    "top10 = np.argsort(clf.coef_[0])[-10:]\n",
    "bottom10 = np.argsort(clf.coef_[0])[:10]\n",
    "print(\"DT: %s\" % \" \".join(features[top10]))"
   ]
  },
  {
   "cell_type": "markdown",
   "metadata": {},
   "source": [
    "The words that have the highest probabilites for a class are the words that are the best predictors. The probabilites are found by looking at how frequently a word shows up in a class, and the more often a word shows up the higher the probability it gets for that class i.e. $\\hat{p}(WORD|Class) = \\frac{\\# \\text{instances of WORD in Class}}{\\# \\text{total number of words in the Class}} $"
   ]
  },
  {
   "cell_type": "markdown",
   "metadata": {},
   "source": [
    "**Part F**: Which of the two models above performed the best on the data set?  Were you surprised or not surprised by your results?  Discuss. "
   ]
  },
  {
   "cell_type": "markdown",
   "metadata": {
    "collapsed": true
   },
   "source": [
    "The Naive Bayes model prefomed better than Logistic Regression. I am not surprised by this becuase tweets are relatively short, simple, and can be very fragmented. So, a classifier that just looks at individual words, weights them, and calculates probabilites directly off of those words seems like it should preform better than a classifier that uses regression to make classifications. The Nieve Bayes model also works well on smaller sets of data and since the dataset that is being used here is relatively small I would expect Nieve Bayes to prefrom well. With feature engineering I would guess that the Logisitc Regression classifier would preform better because now there are more specificly constructed features to help seperate the two classes."
   ]
  },
  {
   "cell_type": "markdown",
   "metadata": {},
   "source": [
    "### [25 points] Problem 3: Feature Engineering and Presidential Tweets \n",
    "***\n",
    "\n",
    "In this problem you will again work with the Twitter election data from **Problem 2**, but this time in its unadulterated raw form. Unlike in **Problem 2**, you will only be allowed to use Logistic Regression as your classifier.  Instead of using a fancier model, you will attempt to improve performance by crafting better features.  One way you might do this is to explore text models that are more sophisticated that simple Bag-of-Words. Alternatively, you might explore the training data and identify characteristics of tweets by a particular author that you can then turn into a feature. \n",
    "\n",
    "The class `TweetFeaturizer` shown below is already fully functional.  Your goal in this problem is to make it better.  In it's current state, the class reads in the training and test data, fits a Logistic Regression model using Bag-of-Words, makes predictions on the test set, and then dumps the predictions to a csv file that can be uploaded to Kaggle. You are free to modify this class is any way that you see fit, but we've given you some helpful functionality that will prove sufficient for most of you.  The `add_text_features` method currently loops over each tweet in the data set, copies it to a new array, and then passes that array into the text vectorizer.  One way to create new features is to append distinct word-indicators onto the string representing the tweet.  These will then be turned into features by the vectorizer. \n",
    "\n",
    "As an example (that is intentionally silly and probably unhelpful): Suppose you think a potentially helpful feature is whether or not the tweet contains more than 10 instances of the letter `z`.  In `add_text_features` you could count the number of `z`'s in a tweet and if there are more than 10, you could append the word `MoreThanTenZs` to the tweet.  Then, when the tweet is passed into the vectorizer, this will turn into a numerical feature.  \n",
    "\n",
    "In addition to competing against yourself to craft the best features that you can, you'll also compete against your classmates in a Kaggle competition.  The competition page can be found here: \n",
    "\n",
    "https://www.kaggle.com/c/4622-election-tweet-authorship\n",
    "\n",
    "A private invite link will be available on Piazza which will get you into the competition. Note that the test data has been partitioned into a public leaderboard set and a private leaderboard set.  While the competition is open, submitting to Kaggle will tell you your score on the public leaderboard.  Your scores on the private leaderboard will become available at the end of the competition.   The top **THREE** students on the **Private** leaderboard at the end of the competition will earn 10 extra credit points on the Practicum. Note that to prevent the machine learning-equivalent of button mashing, we've limited you to **10** submissions per day.  You should be evaluating your features locally with cross-validation and then submitting to Kaggle when you think you have something that works.  "
   ]
  },
  {
   "cell_type": "markdown",
   "metadata": {},
   "source": [
    "**Part A**: **Feature Engineering**:  What you need to do: \n",
    "\n",
    "- Explore and experiment with the data to try to find good features \n",
    "- Implement these features in the `TweetFeaturizer` class  \n",
    "- Implement some evaluation methods to see how well your features improve your model (*cough* cross-validation *cough*) \n",
    "- Make submissions to the Kaggle competition and see how you compared to your classmates "
   ]
  },
  {
   "cell_type": "code",
   "execution_count": 21,
   "metadata": {},
   "outputs": [
    {
     "name": "stdout",
     "output_type": "stream",
     "text": [
      "3998\n",
      "0.5275\n",
      "0.59\n",
      "21.335\n",
      "19.363\n",
      "0.134\n",
      "0.4415\n"
     ]
    }
   ],
   "source": [
    "from sklearn.feature_selection import SelectKBest\n",
    "from sklearn.feature_selection import chi2\n",
    "from sklearn.feature_extraction.text import TfidfVectorizer\n",
    "f = gzip.open('data/raw_tweets_train.pklz','rb')\n",
    "text_train, y_train = pickle.load(f)\n",
    "f.close()\n",
    "trc = 0\n",
    "clc = 0\n",
    "clh = 0\n",
    "trh = 0\n",
    "tweetath = 0\n",
    "tweetatt = 0\n",
    "ii = 0\n",
    "puncs = 0\n",
    "import string\n",
    "puncuations = set(string.punctuation)\n",
    "\n",
    "for ex in text_train:\n",
    "    # check if there is puncuaiton or not\n",
    "    if any(char in puncuations for char in ex):\n",
    "        puncs = puncs+1\n",
    "    # if Clinton how many works, #'s, and @'s\n",
    "    if y_train[ii] == 0:\n",
    "        clc+=len(ex.split())\n",
    "        clh +=ex.count('#')\n",
    "        tweetath += ex.count('@')\n",
    "        \n",
    "    # if Trump how many works, #'s, and @'s\n",
    "    else:\n",
    "        tweetatt += ex.count('@')\n",
    "        trc+=len(ex.split())\n",
    "        trh +=ex.count('#')\n",
    "    ii = ii + 1\n",
    "print(puncs)\n",
    "print(tweetath/(np.sum(y_train == 0))) # so trump tweets at people more than clinton\n",
    "print(tweetatt/(np.sum(y_train == 1)))\n",
    "\n",
    "print(clc/(np.sum(y_train == 0)))# so clinton writes longer tweets\n",
    "print(trc/(np.sum(y_train == 1)))\n",
    "\n",
    "print(clh/(np.sum(y_train == 0))) # Trump uses 3x more hashtags than clinton!\n",
    "print(trh/(np.sum(y_train == 1)))"
   ]
  },
  {
   "cell_type": "markdown",
   "metadata": {},
   "source": [
    "**Part B**: **Motivation and Analysis**: What you need to do: \n",
    "\n",
    "Convince me that:\n",
    "\n",
    "- Your new features work\n",
    "- You understand what the new features are doing\n",
    "- You had a clear methodology for incorporating the new features\n"
   ]
  },
  {
   "cell_type": "markdown",
   "metadata": {},
   "source": [
    "Each individual feature made the 10-Fold Cross Validation accuracy go up slightly. Each text feature that I added was constructed from looking at how Clinton and Trump write tweets, and then added to the tweet to be vectorized by Tfidf. Once all the new features and the regular words are vectorized by Tfidf I added a method to take only the best features form the training set in order to prevent overfitting.\n",
    "\n",
    "To come up with a new text feature I spent time looking at tweets by both Trump and Clinton, and then when I find something that might be consistently different for them I ran a quick calculation on it to see if the average result is different for them. Once all of those steps are completed I added the feature and checked to see if it improved the cross-validation accuracy.\n",
    "\n",
    "Using the best features and Tfidf vectorizer improved the CV accuracy by around 3%, and then all of the text features added another 2.5% CV accuracy. On the Kaggle competition this improved my score to 3.2% above the baseline!"
   ]
  },
  {
   "cell_type": "code",
   "execution_count": 10,
   "metadata": {
    "ExecuteTime": {
     "end_time": "2018-04-19T11:17:43.721148Z",
     "start_time": "2018-04-19T11:17:43.346867Z"
    }
   },
   "outputs": [
    {
     "name": "stdout",
     "output_type": "stream",
     "text": [
      "for c = 0.1 valid accuracy: 0.9095 train accuracy: 0.916166666667\n",
      "for c = 0.137382379588 valid accuracy: 0.91175 train accuracy: 0.919305555556\n",
      "for c = 0.188739182214 valid accuracy: 0.91575 train accuracy: 0.921305555556\n",
      "for c = 0.25929437974 valid accuracy: 0.91625 train accuracy: 0.924527777778\n",
      "for c = 0.356224789026 valid accuracy: 0.91825 train accuracy: 0.929583333333\n",
      "for c = 0.489390091848 valid accuracy: 0.92325 train accuracy: 0.934666666667\n",
      "for c = 0.67233575365 valid accuracy: 0.9275 train accuracy: 0.939777777778\n",
      "for c = 0.923670857187 valid accuracy: 0.93 train accuracy: 0.944555555556\n",
      "for c = 1.26896100317 valid accuracy: 0.93725 train accuracy: 0.94775\n",
      "for c = 1.7433288222 valid accuracy: 0.93825 train accuracy: 0.952083333333\n",
      "for c = 2.39502661999 valid accuracy: 0.94175 train accuracy: 0.956944444444\n",
      "for c = 3.29034456231 valid accuracy: 0.945 train accuracy: 0.961111111111\n",
      "for c = 4.52035365636 valid accuracy: 0.94475 train accuracy: 0.965055555556\n",
      "for c = 6.21016941892 valid accuracy: 0.9475 train accuracy: 0.968\n",
      "for c = 8.53167852417 valid accuracy: 0.95 train accuracy: 0.971416666667\n",
      "for c = 11.7210229753 valid accuracy: 0.95125 train accuracy: 0.974861111111\n",
      "for c = 16.1026202756 valid accuracy: 0.953 train accuracy: 0.97725\n",
      "for c = 22.1221629107 valid accuracy: 0.954 train accuracy: 0.979833333333\n",
      "for c = 30.3919538231 valid accuracy: 0.9515 train accuracy: 0.98225\n",
      "for c = 41.7531893656 valid accuracy: 0.952 train accuracy: 0.984472222222\n",
      "for c = 57.3615251045 valid accuracy: 0.95175 train accuracy: 0.986388888889\n",
      "for c = 78.8046281567 valid accuracy: 0.95375 train accuracy: 0.987611111111\n",
      "for c = 108.263673387 valid accuracy: 0.95175 train accuracy: 0.988694444444\n",
      "for c = 148.735210729 valid accuracy: 0.95175 train accuracy: 0.989694444444\n",
      "for c = 204.335971786 valid accuracy: 0.9495 train accuracy: 0.990583333333\n",
      "for c = 280.721620394 valid accuracy: 0.949 train accuracy: 0.991333333333\n",
      "for c = 385.662042116 valid accuracy: 0.9455 train accuracy: 0.992361111111\n",
      "for c = 529.831690628 valid accuracy: 0.94525 train accuracy: 0.992805555556\n",
      "for c = 727.895384398 valid accuracy: 0.94375 train accuracy: 0.993333333333\n",
      "for c = 1000.0 valid accuracy: 0.9425 train accuracy: 0.994083333333\n"
     ]
    }
   ],
   "source": [
    "from sklearn.model_selection import StratifiedKFold\n",
    "from sklearn.feature_selection import SelectKBest\n",
    "from sklearn.feature_selection import f_classif\n",
    "import sklearn.feature_selection\n",
    "#from sklearn.feature_selection import f_classif\n",
    "class TweetFeaturizer:\n",
    "    def __init__(self):\n",
    "        \n",
    "        from sklearn.feature_extraction.text import CountVectorizer\n",
    "        from sklearn.feature_extraction.text import TfidfVectorizer\n",
    "        \n",
    "\n",
    "        self.vectorizer = TfidfVectorizer(stop_words = 'english', binary = True,sublinear_tf=True)\n",
    "        #self.vectorizer = CountVectorizer(stop_words = 'english')\n",
    "        \n",
    "    def add_text_features(self, examples):\n",
    "        \"\"\"\n",
    "        Method for looping over original text and adding new text \n",
    "        features. \n",
    "        :param examples: the list of raw tweets \n",
    "        \"\"\"\n",
    "        new_examples = [] \n",
    "        for ex in examples:\n",
    "            \n",
    "            #print(ex)\n",
    "            splitstr = ex.split()\n",
    "            uppercount = 0\n",
    "            for word in splitstr:\n",
    "                if word.isupper():\n",
    "                    uppercount +=1\n",
    "\n",
    "            if uppercount > 1:\n",
    "                ex = ex + ' hasfulluppercasewords'\n",
    "            if ex.count('-')>1:\n",
    "                ex = ex + ' hashyphens'\n",
    "            if ex.count('?')>=1:\n",
    "                ex = ex + ' hasquestionmarks'\n",
    "            if ex.count('!')>=1:\n",
    "                ex = ex + ' multipleexclmation'\n",
    "            if '...' in ex:\n",
    "                ex = ex + ' manydotdotdots'\n",
    "            if ex.count('@')>1:\n",
    "                ex = ex + ' tweetedatsomone'\n",
    "            if ex.count('http')>1:\n",
    "                ex = ex + ' multiplelinkshere'\n",
    "            # see if there are more uppercase letters than words\n",
    "            if sum(1 for c in ex if c.isupper())>len(ex.split()):\n",
    "                ex = ex + ' manyuppercaseletters'\n",
    "            if ex.count('#')>=2:\n",
    "                ex = ex + ' manyhashtags'\n",
    "            if len(ex.split()) > 25:\n",
    "                ex = ex + ' alotofwordshere'\n",
    "            new_examples.append(ex)\n",
    "            \n",
    "        return new_examples\n",
    "\n",
    "    def build_train_features(self, examples):\n",
    "        \"\"\"\n",
    "        Method to take in training text features and do further feature engineering \n",
    "        Most of the work in this homework will go here, or in similar functions  \n",
    "        :param examples: the list of raw tweets \n",
    "        \"\"\"\n",
    "        \n",
    "        new_examples = self.add_text_features(examples)\n",
    "        svf = self.vectorizer.fit_transform(new_examples)\n",
    "        # select only the 1000 best features to reduce overfitting\n",
    "        self.skb = SelectKBest(sklearn.feature_selection.f_classif,k=1000).fit(svf,self.y_train)\n",
    "        newfeatures = self.skb.transform(svf)\n",
    "        \n",
    "        return newfeatures\n",
    "\n",
    "    def get_test_features(self, examples):\n",
    "        \"\"\"\n",
    "        Method to take in test text features and transform the same way as train features \n",
    "        :param examples: the list of raw tweets\n",
    "        \"\"\"\n",
    "        new_examples = self.add_text_features(examples)\n",
    "        svf = self.vectorizer.transform(new_examples)\n",
    "        # using the 1000 best features transform the new data\n",
    "        newfeatures = self.skb.transform(svf)\n",
    "        \n",
    "        return newfeatures\n",
    "\n",
    "    def show_top10(self): \n",
    "        # This is very broken right now beucase select k best sorts the feature names differently\n",
    "        # than just using Tfidf.\n",
    "        \"\"\"\n",
    "        prints the top 10 features for the positive class and the \n",
    "        top 10 features for the negative class. \n",
    "        \"\"\"\n",
    "        feature_names = np.asarray(self.vectorizer.get_feature_names())\n",
    "        top10 = np.argsort(self.logreg.coef_[0])[-10:]\n",
    "        bottom10 = np.argsort(self.logreg.coef_[0])[:10]\n",
    "        print(\"DT: %s\" % \" \".join(feature_names[top10])) \n",
    "        print(\"HC: %s\" % \" \".join(feature_names[bottom10]))\n",
    "                \n",
    "    def train_model(self, random_state=1234):\n",
    "        \"\"\"\n",
    "        Method to read in training data from file, and \n",
    "        train Logistic Regression classifier. \n",
    "        \n",
    "        :param random_state: seed for random number generator \n",
    "        \"\"\"\n",
    "        \n",
    "        from sklearn.linear_model import LogisticRegression \n",
    "        \n",
    "        # load data \n",
    "        f = gzip.open('data/raw_tweets_train.pklz','rb')\n",
    "        text_train, y_train = pickle.load(f)\n",
    "        f.close()\n",
    "        \n",
    "        # get training features and labels \n",
    "        self.y_train = y_train\n",
    "        self.X_train = self.build_train_features(text_train)\n",
    "        \n",
    "        \n",
    "        # train logistic regression model.  !!MUST USE LogisticRegression!!\n",
    "        c_range = np.logspace(-1,3,30)\n",
    "        #c_range = range(30,61,2)\n",
    "\n",
    "        for param in c_range: # Test all the desired values of C\n",
    "            skf = StratifiedKFold(n_splits=10,shuffle=True)\n",
    "            acc_valid = []\n",
    "            acc_train = []\n",
    "            for train_index, test_index in skf.split(self.X_train, self.y_train): # do Cross-validation\n",
    "                Xt, Xv = self.X_train[train_index], self.X_train[test_index]\n",
    "                yt, yv = self.y_train[train_index], self.y_train[test_index]\n",
    "                self.logreg = LogisticRegression( C = param,tol=1e-4)\n",
    "                self.logreg.fit(Xt,yt)\n",
    "                acc = self.logreg.score(Xv,yv)\n",
    "                acc_valid = acc_valid + [acc]\n",
    "                acc = self.logreg.score(Xt,yt)\n",
    "                acc_train = acc_train + [acc]\n",
    "\n",
    "            print(\"for c =\", param, \"valid accuracy:\", np.mean(acc_valid),\"train accuracy:\", np.mean(acc_train) )\n",
    "        \n",
    "        \n",
    "        # run the logistic regression on all of the data with the best C value for submitting to kaggle\n",
    "        self.logreg = LogisticRegression(random_state=random_state, C = 10)\n",
    "        self.logreg.fit(self.X_train, self.y_train)\n",
    "        \n",
    "    def model_predict(self):\n",
    "        \"\"\"\n",
    "        Method to read in test data from file, make predictions\n",
    "        using trained model, and dump results to file \n",
    "        \"\"\"\n",
    "        \n",
    "        # read in test data \n",
    "        f = gzip.open('data/raw_tweets_test.pklz','rb')\n",
    "        text_valid = pickle.load(f)\n",
    "        f.close()\n",
    "        \n",
    "        # featurize test data \n",
    "        self.X_test = self.get_test_features(text_valid)\n",
    "        \n",
    "        # make predictions on test data \n",
    "        pred = self.logreg.predict(self.X_test)\n",
    "        \n",
    "        \n",
    "        # dump predictions to file for submission to Kaggle  \n",
    "        pd.DataFrame({\"realDonaldTrump\": np.array(pred, dtype=bool)}).to_csv(\"prediction2.csv\", index=True, index_label=\"Id\")\n",
    "        \n",
    "\n",
    "# Instantiate the class \n",
    "feat = TweetFeaturizer()\n",
    "\n",
    "# Train your Logistic Regression classifier \n",
    "feat.train_model(random_state=1234)\n",
    "\n",
    "# Show the top 10 features for each class \n",
    "#feat.show_top10() # commented because it's broken, and the awnsers are meaningless\n",
    "\n",
    "# Make prediction on test data and produce Kaggle submission file \n",
    "feat.model_predict()"
   ]
  },
  {
   "cell_type": "markdown",
   "metadata": {},
   "source": [
    "### References\n",
    "***\n",
    "\n"
   ]
  },
  {
   "cell_type": "markdown",
   "metadata": {
    "collapsed": true
   },
   "source": [
    "scikit-learn.org"
   ]
  }
 ],
 "metadata": {
  "kernelspec": {
   "display_name": "Python 3",
   "language": "python",
   "name": "python3"
  },
  "language_info": {
   "codemirror_mode": {
    "name": "ipython",
    "version": 3
   },
   "file_extension": ".py",
   "mimetype": "text/x-python",
   "name": "python",
   "nbconvert_exporter": "python",
   "pygments_lexer": "ipython3",
   "version": "3.6.3"
  }
 },
 "nbformat": 4,
 "nbformat_minor": 2
}
