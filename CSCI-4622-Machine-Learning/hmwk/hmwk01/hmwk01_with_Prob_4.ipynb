{
 "cells": [
  {
   "cell_type": "markdown",
   "metadata": {},
   "source": [
    "# Homework 1: Regression, Regularization, and the Bias-Variance Trade-Off\n",
    "***\n",
    "\n",
    "**Name**: Maxwell Lambek\n",
    "\n",
    "***\n",
    "\n",
    "This assignment is due on Moodle by **5pm on Friday February 2nd**. Your solutions to theoretical questions should be done in Markdown/MathJax directly below the associated question.  Your solutions to computational questions should include any specified Python code and results as well as written commentary on your conclusions.  Remember that you are encouraged to discuss the problems with your instructors and classmates, but **you must write all code and solutions on your own**.  For a refresher on the course **Collaboration Policy** click [here](https://github.com/chrisketelsen/CSCI-4622-Machine-Learning/blob/master/resources/syllabus.md#collaboration-policy).\n",
    "\n",
    "**NOTES**: \n",
    "\n",
    "- Do **NOT** load or use any Python packages that are not available in Anaconda 3.6. \n",
    "- Some problems with code may be autograded.  If we provide a function API **do not** change it.  If we do not provide a function API then you're free to structure your code however you like. \n",
    "- Submit only this Jupyter notebook to Moodle.  Do not compress it using tar, rar, zip, etc. "
   ]
  },
  {
   "cell_type": "code",
   "execution_count": 2,
   "metadata": {
    "collapsed": true,
    "scrolled": true
   },
   "outputs": [],
   "source": [
    "import numpy as np\n",
    "import matplotlib.pylab as plt\n",
    "%matplotlib inline"
   ]
  },
  {
   "cell_type": "markdown",
   "metadata": {},
   "source": [
    "### [10 points] Problem 1 - Getting Comfortable with MathJax/LaTeX\n",
    "***\n",
    "\n",
    "Most homeworks in this course will require you to write solutions to at least one or two math-based exercises.  This problem is designed to motivate you to learn some MathJax-LaTeX for typesetting math in Jupyter Notebooks.  [LaTeX](https://en.wikipedia.org/wiki/LaTeX) is a markup language used for typesetting mathematical formulas and documents.  [MathJax](https://en.wikipedia.org/wiki/MathJax) is a LaTeX plug-in for Markdown that brings some LaTeX functionality to Jupyter. A good tutorial on MathJax can be found in this [StackExchange post](https://math.meta.stackexchange.com/questions/5020/mathjax-basic-tutorial-and-quick-reference/5024). \n",
    "\n",
    "Your goal is this problem is to use MathJax to reproduce a collection of formulas as accurately as possible. Note that because computing environments vary from person to person, you shouldn't worry about tiny details like matching fonts (though you should worry about normal vs italic vs bold).  Just do your best to get reasonably close. "
   ]
  },
  {
   "cell_type": "markdown",
   "metadata": {},
   "source": [
    "**Part A** Reproduce the expression shown below using MathJax: \n",
    "\n",
    "<img src=\"figs/prob1A.png\" width=\"300\">\n",
    "\n",
    "\n"
   ]
  },
  {
   "cell_type": "markdown",
   "metadata": {
    "collapsed": true
   },
   "source": [
    "\\begin{align}\n",
    "\\hat{y}_i = \\hat{\\beta}_0 + \\hat{\\beta}_1 x_{i1} + \\hat{\\beta}_2 x_{i2} + \\dots + \\hat{\\beta}_p x_{ip}\n",
    "\\end{align}"
   ]
  },
  {
   "cell_type": "markdown",
   "metadata": {},
   "source": [
    "**Part B** Reproduce the expression shown below using MathJax: \n",
    "\n",
    "<img src=\"figs/prob1B.png\" width=\"180\">\n",
    "\n",
    "\n"
   ]
  },
  {
   "cell_type": "markdown",
   "metadata": {
    "collapsed": true
   },
   "source": [
    "$$\\begin{bmatrix}\n",
    "1 & x_{11} \\\\\n",
    "1 & x_{21} \\\\\n",
    "1 & x_{31}\n",
    "\\end{bmatrix}\n",
    "\\begin{bmatrix}\n",
    "\\beta_0\\\\\n",
    "\\beta_1\n",
    "\\end{bmatrix}\n",
    "=\n",
    "\\begin{bmatrix}\n",
    "y_1 \\\\\n",
    "y_2\\\\\n",
    "y_3\n",
    "\\end{bmatrix}$$\n"
   ]
  },
  {
   "cell_type": "markdown",
   "metadata": {},
   "source": [
    "**Part C** Reproduce the expression shown below using MathJax: \n",
    "\n",
    "<img src=\"figs/prob1C.png\" width=\"250\">\n",
    "\n",
    "\n"
   ]
  },
  {
   "cell_type": "markdown",
   "metadata": {
    "collapsed": true
   },
   "source": [
    "$$p(y = 1 \\hspace{.1cm} \\lvert \\hspace{.1cm} x) = \\frac{1}{1 + \\exp(-\\textbf{x}^T \\beta) } $$"
   ]
  },
  {
   "cell_type": "markdown",
   "metadata": {},
   "source": [
    "### [30 points] Problem 2 - Building a Data Storage Class \n",
    "***\n",
    "\n",
    "In this exercise you will get some practice constructing classes in Python.  If you are rusty on object-oriented Python, you should check out [this tutorial](https://www.digitalocean.com/community/tutorials/how-to-construct-classes-and-define-objects-in-python-3).  Our goal will be to create a class which takes in a set of labeled data, randomly splits it into training and validation sets, and then stores these sets for later use. You will also implement the ability to mean-center and standardize features, and apply these same transformations to new test data after the fact.  A starting point for RegressionData class appears below.  \n",
    "\n",
    "**Notes**: \n",
    "- This problem will be graded by unit test, so do not change function or method APIs, but feel free to create any additional variables or methods that you think will be helpful. We've given you access to versions of those unit tests down below, so you'll be able to check your work as you go.  \n",
    "- Do not use any additional functions from sklearn.  (There is an sklearn function called train_test_split that does something similar.  You'll be allowed to use it later on.  This exercise is about getting your hands dirty so you can understand how things work under the hood)\n",
    "\n"
   ]
  },
  {
   "cell_type": "code",
   "execution_count": 294,
   "metadata": {
    "collapsed": true
   },
   "outputs": [],
   "source": [
    "class RegressionData:\n",
    "    \"\"\"\n",
    "    Class to store data for regression problems \n",
    "    \"\"\"\n",
    "    def __init__(self, X, y, train_frac=0.8, center=False, standardize=False, random_state=1234):\n",
    "        \"\"\"\n",
    "        Creates a RegressionData instance\n",
    "\n",
    "        :param X: (n x p) ndarray of feature data \n",
    "        :param y: (n x 1) ndarray of labels/targets  \n",
    "        :param train_frac: float indicating fraction of data to train on \n",
    "        :param center: bool indicating whether to mean-center the features \n",
    "        :param standardize: bool indicating whether to mean_center and standardize \n",
    "        :param random_state: integer seed for random number generators\n",
    "        \"\"\"\n",
    "        \n",
    "        # Set random seed (for testing purposes, don't change this line) \n",
    "        np.random.seed(random_state)\n",
    "        \n",
    "        # These should probably be set, eventually\n",
    "        r = round(len(X)*train_frac)\n",
    "        self.X_train = X[0:r]\n",
    "        self.y_train = X[r:len(X)]\n",
    "        self.X_valid = y[0:r]\n",
    "        self.y_valid = y[r:len(y)]\n",
    "        self.sdev = []\n",
    "        self.mn = []\n",
    "        #self.xsDev1 = None\n",
    "        self.mean= None\n",
    "        self.xmn = []\n",
    "        self.sd = []\n",
    "        #self.xsDev2= None\n",
    "        #self.xmean2= None\n",
    "        self.cen = False\n",
    "        self.stn = False\n",
    "        \n",
    "        # Perform train-validation split \n",
    "        self.train_valid_split(X, y, train_frac)\n",
    "            \n",
    "        # standardize and/or center the data if requested\n",
    "        self.transform_train_valid(center, standardize)\n",
    "        \n",
    "    def train_valid_split(self, X, y, train_frac):\n",
    "        #print(X.shape[0])\n",
    "        #print(X[3])\n",
    "        #print(y)\n",
    "        #print(X)\n",
    "        \"\"\"\n",
    "        Randomly splits the data into training and validation sets \n",
    "\n",
    "        :param X: (n x p) ndarray of feature data \n",
    "        :param y: (n x 1) ndarray of labels/targets  \n",
    "        :param train_frac: float indicating fraction of data to train on \n",
    "        \"\"\"\n",
    "        splitc = 0\n",
    "        r = round(len(X)*train_frac)\n",
    "        #print(r)\n",
    "        #print(X[0:r])\n",
    "        #tx = X\n",
    "        rnd = np.random.permutation(len(X))\n",
    "        #np.random.shuffle(y)\n",
    "        #self.X_train = X[0:r]\n",
    "        #self.X_valid = X[r:len(X)]\n",
    "        #self.y_train = y[0:r]\n",
    "        #self.y_valid = y[r:len(y)]\n",
    "        #print(self.X_valid.shape[0])\n",
    "        self.X_train = X[rnd[0:r]]\n",
    "        self.y_train = y[rnd[0:r]]\n",
    "        self.X_valid = X[rnd[r:len(X)]]\n",
    "        self.y_valid = y[rnd[r:len(y)]]\n",
    "        '''\n",
    "        loc = np.arange(len(X))\n",
    "        np.random.shuffle(loc)\n",
    "        for i in range(0,r):\n",
    "            self.X_train[i] = X[loc[i]]\n",
    "            self.y_train[i] = y[loc[i]]\n",
    "        for i in range(r,len(X)):\n",
    "            print(i-r)\n",
    "            self.X_valid[i-r] = X[loc[i]]\n",
    "            self.y_valid[i-r] = y[loc[i]]\n",
    "        '''\n",
    "        #while (splitc < len(X)*train_frac):\n",
    "           # splitc = splitc +1\n",
    "           # r = np.random.randint(10)\n",
    "           # if (r >= 8):\n",
    "           #     self.X_valid = self.X_valid + [X[1]]\n",
    "           # else:\n",
    "           #     self.X_train = self.X_train + [X[1]]\n",
    "        return\n",
    "        \n",
    "    def transform_train_valid(self, center, standardize):\n",
    "        \"\"\"\n",
    "        Standardizes and/or centers train and validation sets, if requested\n",
    "\n",
    "        :param center: bool indicating whether to mean-center the features \n",
    "        :param standardize: bool indicating whether to mean_center and standardize \n",
    "        \"\"\"\n",
    "        if center:\n",
    "            self.cen = True\n",
    "            #t1 = 0\n",
    "            #t2 = 0\n",
    "            t = [0]*len( self.X_train[0] )\n",
    "            for i in range(len(self.X_train)):\n",
    "                for j in range(len(self.X_train[0])):\n",
    "                    t[j] = t[j] +  self.X_train[i][j]\n",
    "                #t1 = t1 + self.X_train[i][0]\n",
    "                #t2 = t2 + self.X_train[i][1]\n",
    "            #m = [0]*len( self.X_train[0] )\n",
    "            for i in range(len(t) ):\n",
    "                #m[i] = t[i]/len(self.X_train)\n",
    "                self.mn = self.mn + [ t[i]/len(self.X_train)  ]\n",
    "            #m1 = t1/len(self.X_train)\n",
    "            #m2 = t2/len(self.X_train)\n",
    "            #m1 = self.mn[0]\n",
    "            #m2 = self.mn[1]\n",
    "            #self.xmean1 = m1\n",
    "            #self.xmean2 = m2\n",
    "            for i in range(len(self.X_train)):\n",
    "                for j in range( (len(self.mn))  ):\n",
    "                    self.X_train[i][j] = self.X_train[i][j] - self.mn[j]\n",
    "                #self.X_train[i][0] = self.X_train[i][0] - m1\n",
    "                #self.X_train[i][1] = self.X_train[i][1] - m2\n",
    "            for i in range(len(self.X_valid)):\n",
    "                for j in range( (len(self.mn))  ):\n",
    "                    self.X_valid[i][j] = self.X_valid[i][j] - self.mn[j]\n",
    "                #self.X_valid[i][0] = self.X_valid[i][0] - m1\n",
    "                #self.X_valid[i][1] = self.X_valid[i][1] - m2\n",
    "        if standardize:\n",
    "            self.stn = True\n",
    "            '''\n",
    "            if not center:\n",
    "                t = [0]*len( self.X_train[0] )\n",
    "                for i in range(len(self.X_train)):\n",
    "                    for j in range(len(self.X_train[0])):\n",
    "                        t[j] = t[j] +  self.X_train[i][j]\n",
    "\n",
    "                for i in range(len(t) ):\n",
    "                #m[i] = t[i]/len(self.X_train)\n",
    "                    self.mn = self.mn + [ t[i]/len(self.X_train)  ]\n",
    "                #m1 = self.mn[0]\n",
    "                #m2 = self.mn[1]\n",
    "            #m1 = t1/len(self.X_train)\n",
    "            #m2 = t2/len(self.X_train)\n",
    "            s1 = 0\n",
    "            s2 = 0\n",
    "            for i in range(len(self.X_train)):\n",
    "                s1 = s1 + (self.X_train[i][0] - self.mn[0])**2\n",
    "                s2 = s2 + (self.X_train[i][1] - self.mn[0])**2\n",
    "            s1 = np.sqrt(s1/len(self.X_train))\n",
    "            s2 = np.sqrt(s2/len(self.X_train))\n",
    "            self.xsDev1 = s1\n",
    "            self.xsDev2 = s2\n",
    "            for i in range(len(self.X_train)):\n",
    "                self.X_train[i][0] = self.X_train[i][0]/s1\n",
    "                self.X_train[i][1] = self.X_train[i][1]/s2\n",
    "            for i in range(len(self.X_valid)):\n",
    "                self.X_valid[i][0] = self.X_valid[i][0]/s1\n",
    "                self.X_valid[i][1] = self.X_valid[i][1]/s2\n",
    "            '''\n",
    "            self.xmn = [0]*len(self.X_train)\n",
    "            self.sd = [0]*len(self.X_train)\n",
    "            for jj in range(self.X_train.shape[1]):\n",
    "                self.xmn[jj] = np.mean(self.X_train[:,jj])\n",
    "                self.sd[jj] = np.std(self.X_train[:,jj])\n",
    "                self.X_train[:,jj] = (self.X_train[:,jj] - self.xmn[jj])/self.sd[jj]\n",
    "            for jj in range(self.X_valid.shape[1]):\n",
    "                self.X_valid[:,jj] = (self.X_valid[:,jj] - self.xmn[jj])/self.sd[jj]\n",
    "                \n",
    "        return\n",
    "        \n",
    "    def transform(self, X):\n",
    "        \"\"\"\n",
    "        Applies transformations performed on training set to \n",
    "        previously unseen data x \n",
    "\n",
    "        :param X: (m x p) ndarray of feature data \n",
    "        \"\"\"\n",
    "        Xt = X.copy()\n",
    "        \n",
    "        #for jj in range(X.shape[1]):\n",
    "            #mujj = np.mean(self.X_train[:,jj])\n",
    "            #sdjj = np.std(self.X_train[:,jj]-mujj)\n",
    "            #X[:,jj] = (X[:,jj]-mujj)/sdjj\n",
    "        #for jj in range(self.X_train.shape[1]):\n",
    "            #x[:,jj] = (x[:,jj] - self.xmn[jj])/self.sd[jj]\n",
    "        for jj in range(Xt.shape[1]):\n",
    "            #xmn = np.mean(self.X_train[:,jj])\n",
    "            #sd = np.std(self.X_train[:,jj])\n",
    "            Xt[:,jj] = (Xt[:,jj] - self.xmn[jj])/self.sd[jj]\n",
    "            #X[:,0] = (X[:,0] - self.xmean1)/self.xsDev1\n",
    "            #X[:,1] = (X[:,1] - self.xmean2)/self.xsDev2\n",
    "        \n",
    "        '''\n",
    "        if (self.cen & self.stn):\n",
    "            for i in range(len(X)):\n",
    "                X[i][0] = (X[i][0]- self.xmean1)/self.xsDev1\n",
    "                X[i][1] = (X[i][1]- self.xmean2)/self.xsDev2\n",
    "        \n",
    "            Xt = X.copy()\n",
    "            return Xt\n",
    "        if self.cen:\n",
    "            for i in range(len(X)):\n",
    "                X[i][0] = (X[i][0]- self.xmean1)\n",
    "                X[i][1] = (X[i][1]- self.xmean2)\n",
    "        \n",
    "            Xt = X.copy()\n",
    "            return Xt\n",
    "        if self.stn:\n",
    "            for i in range(len(X)):\n",
    "                X[i][0] = X[i][0]/self.xsDev1\n",
    "                X[i][1] = X[i][1]/self.xsDev2\n",
    "        \n",
    "            Xt = X.copy()\n",
    "            return Xt \n",
    "        '''\n",
    "        \n",
    "        return Xt"
   ]
  },
  {
   "cell_type": "markdown",
   "metadata": {},
   "source": [
    "**Part A**: Complete the method `train_valid_split` to randomly initialize the train and validation data according to the split proportion indicated by `train_frac`. When you think you're done, execute the unit tests at the end of this problem.  If you're successful, you should pass the first 2 tests.  Don't move on until you've passed them! \n"
   ]
  },
  {
   "cell_type": "code",
   "execution_count": null,
   "metadata": {
    "collapsed": true
   },
   "outputs": [],
   "source": []
  },
  {
   "cell_type": "markdown",
   "metadata": {},
   "source": [
    "**Part B**: Complete the method `transform_train_valid` function to standardize and/or center the features depending on the values of `center` and `standardize`.  Remember that if both flags are set, each column in the **training data** should be shifted to have mean zero, and then scaled to have standard deviation of 1. Each column of the validation data should then undergo the same shift and scale **based on the training data**.  When you think you're done, execute the unit tests again. If you're successful, you should pass four more unit tests.  Don't move on until you do! \n",
    "\n",
    "**Notes**: \n",
    "\n",
    "- How you implement this method might affect **Part C**.  It's a good idea to read **Part C** now so that you can plan ahead. \n",
    "- It's rare in a regression setting that you would ever standardize a feature without centering it first, so we will not be testing this case. "
   ]
  },
  {
   "cell_type": "code",
   "execution_count": null,
   "metadata": {
    "collapsed": true
   },
   "outputs": [],
   "source": []
  },
  {
   "cell_type": "markdown",
   "metadata": {},
   "source": [
    "**Part C**: Suppose that later on in your pipeline you collect a new set of data that you would like to test your model on.  Since your model was probably constructed using the transformed features of your training set, you have to apply that same transformation to your new data.  Complete the `transform` function above so that it takes in an ndarray of newly acquired data and returns the appropriately transformed version. When you think you're done, execute the unit tests one more time.  If you're successful, you should pass the final test, at which point you will be done with this problem forever (sorta).   \n"
   ]
  },
  {
   "cell_type": "code",
   "execution_count": null,
   "metadata": {
    "collapsed": true
   },
   "outputs": [],
   "source": []
  },
  {
   "cell_type": "code",
   "execution_count": 295,
   "metadata": {
    "scrolled": false
   },
   "outputs": [
    {
     "name": "stderr",
     "output_type": "stream",
     "text": [
      "..\n",
      "----------------------------------------------------------------------\n",
      "Ran 2 tests in 0.011s\n",
      "\n",
      "OK\n",
      "....\n",
      "----------------------------------------------------------------------\n",
      "Ran 4 tests in 0.014s\n",
      "\n",
      "OK\n",
      ".\n",
      "----------------------------------------------------------------------\n",
      "Ran 1 test in 0.003s\n",
      "\n",
      "OK\n"
     ]
    }
   ],
   "source": [
    "# Execute this cell to run unit tests \n",
    "%run -i tests/tests.py"
   ]
  },
  {
   "cell_type": "markdown",
   "metadata": {},
   "source": [
    "### [30 points] Problem 3 - Solving Ridge Regression\n",
    "***\n",
    "\n",
    "In this problem you'll derive a closed form solution for single-feature Ridge Regression and use it to interpret the behavior for different values of the regularization parameter $\\lambda$. Recall that for a model of the form $Y = \\beta_0 + \\beta_1 X + \\epsilon$ and a training set $\\{(x_i, y_i)\\}_{i=1}^n$, the parameter estimates are obtained by minimizing the penalized RSS: \n",
    "\n",
    "$$\n",
    "\\hat{\\boldsymbol{\\beta}} = \\underset{\\boldsymbol{\\beta}}{\\textrm{argmin}} ~\\textrm{RSS}_\\lambda =  \\underset{\\boldsymbol{\\beta}}{\\textrm{argmin}} \\sum_{i=1}^n \\left( \\beta_0 + \\beta_1 x_i - y_i\\right)^2 + \\lambda \\beta_1^2\n",
    "$$\n",
    "\n",
    "In Calc 1 you saw that you can find the value of the parameter that minimizes a function by taking a derivative with respect to that parameter, setting it to 0, and solving. The problem here is that we have **two** parameters we need to minimize over. It turns out, for a certain class of problems, we can solve for two parameters in a similar way.  For two parameters we can take _partial_ derivatives with respect to each parameter, set equal to zero, and solve simultaneously for the optimal parameters.  That is, we want to solve the following two equations for $\\beta_0$ and $\\beta_1$: \n",
    "\n",
    "$$\n",
    "\\dfrac{\\partial~\\textrm{RSS}_\\lambda}{\\partial \\beta_0} = 0 \n",
    "\\quad \\textrm{and} \\quad\n",
    "\\dfrac{\\partial~\\textrm{RSS}_\\lambda}{\\partial \\beta_1} = 0 \n",
    "$$\n",
    "\n",
    "Simple enough, right?  Kinda.  It turns out that even this is a bit tricky, unless you modify your data in a particular way. "
   ]
  },
  {
   "cell_type": "markdown",
   "metadata": {},
   "source": [
    "**Part A**: Suppose that we mean-center our feature $x$ by replacing each $x_i$ by $\\hat{x}_i = x_i - \\bar{x}$. Show that in this case, the Ridge Regression estimate of the bias is $\\hat{\\beta}_0 = \\bar{y}$ (the sample mean of the response $y$) by taking the partial derivative of $\\textrm{RSS}_\\lambda$ with respect to $\\beta_0$, setting it to zero, and solving for $\\beta_0$. "
   ]
  },
  {
   "cell_type": "markdown",
   "metadata": {
    "collapsed": true
   },
   "source": [
    "$$\\frac{\\partial  }{\\partial \\beta_0 } RSS_\\lambda = \\frac{\\partial  }{\\partial \\beta_0 }  \\sum_{i=1}^n (\\beta_0 + \\beta_1 \\hat{x}_i - y_i)^2 + \\lambda \\beta_1^2 $$\n",
    "$$=\\sum_{i=1}^n \\frac{\\partial  }{\\partial \\beta_0 } (\\beta_0 + \\beta_1 \\hat{x}_i - y_i)^2 + 0  $$\n",
    "$$= \\sum_{i=1}^n 2(\\beta_0 + \\beta_1 \\hat{x}_i - y_i)(1+0-0) $$\n",
    "Now we can set this equal to zero and solve for $\\beta_0$,\n",
    "$$\\sum_{i=1}^n 2(\\hat{ \\beta_0} + \\beta_1 \\hat{x}_i - y_i) = 0  $$\n",
    "\n",
    "$$2n\\hat{ \\beta_0} + 2\\beta_1 \\sum_{i=1}^n \\hat{x}_i - 2 \\sum_{i=1}^n y_i = 0 $$\n",
    "\n",
    "$$\\hat{\\beta_0} = \\frac{\\sum_{i=1}^n y_i - \\beta_1 \\sum_{i=1}^n \\hat{x}_i }{n} $$\n",
    "\n",
    "$$= \\frac{\\sum_{i=1}^n y_i}{n} - \\frac{\\beta_1 \\sum_{i=1}^n \\hat{x}_i}{n} $$\n",
    "\n",
    "$$ = \\bar{y} - \\frac{\\beta_1\\sum_{i=1}^n (x_i - \\bar{x}) }{n} $$\n",
    "\n",
    "$$ = \\bar{y} - \\beta_1(\\frac{\\sum_{i=1}^n x_i}{n} - \\frac{\\sum_{i=1}^n \\bar{x}}{n}  ) $$\n",
    "\n",
    "$$= \\bar{y} - \\beta_1(\\bar{x} - \\bar{x} ) = \\bar{y} $$\n",
    "\n",
    "And thus we have,\n",
    "$$\\hat{\\beta_0} = \\bar{y}$$"
   ]
  },
  {
   "cell_type": "markdown",
   "metadata": {},
   "source": [
    "**Part B**: Next, solve for the Ridge Regression estimate of the slope, $\\hat{\\beta}_1$, by taking the partial derivative of $\\textrm{RSS}_\\lambda$ with respect to $\\beta_1$, setting it to zero, and solving for $\\beta_1$ as a function of the data and of $\\lambda$.  (**Hint**: You'll want to use the value of $\\hat{\\beta}_0$ you found in **Part A**). \n"
   ]
  },
  {
   "cell_type": "markdown",
   "metadata": {
    "collapsed": true
   },
   "source": [
    "$$\\frac{\\partial  }{\\partial \\beta_1 }  \\sum_{i=1}^n (\\beta_0 + \\beta_1 \\hat{x}_i - y_i)^2 + \\lambda \\beta_1^2 $$\n",
    "$$= \\sum 2(\\bar{y} + \\beta_1 \\hat{x_i} - y_i )(\\hat{x_i} ) + 2 \\lambda \\beta_1 $$\n",
    "\n",
    "\n",
    "\n",
    "\n",
    "$$= 2(\\sum \\bar{y} \\hat{x_i} + \\sum \\beta_1 \\hat{x_i}^2 - \\sum y_i \\hat{x_i} ) + 2 \\lambda \\beta_1 $$\n",
    "Setting equal to zero and moving $\\beta_1$ over gives,\n",
    "$$2\\beta_1 (\\sum \\hat{x_i}^2 + \\lambda ) = -\\sum \\bar{y} \\hat{x_i} + \\sum y_i \\hat{x_i} $$\n",
    "$$\\beta_1 = \\frac{ \\sum y_i \\hat{x_i} }{\\sum \\hat{x_i}^2 + \\lambda } $$\n"
   ]
  },
  {
   "cell_type": "markdown",
   "metadata": {},
   "source": [
    "**Part C**: Use the closed-form solution you found in **Part B** to _briefly_ describe the effect of the regularization parameter $\\lambda$ on the slope parameter as $\\lambda \\rightarrow 0$ and $\\lambda \\rightarrow \\infty$. Does this jive with the discussion of regularization from class? "
   ]
  },
  {
   "cell_type": "markdown",
   "metadata": {
    "collapsed": true
   },
   "source": [
    "$$\\lim_{\\lambda \\to 0} \\frac{ \\sum y_i \\hat{x_i} }{\\sum \\hat{x_i}^2 + \\lambda }  = \\frac{ \\sum y_i \\hat{x_i} }{\\sum \\hat{x_i}^2 }$$\n",
    "If $y_i = x_i$ we get $\\hat{\\beta_1} = 1$. This makes sense becuase we are saying that the rate of change for the slope is constant i.e. we are not weighting the parameters differently based on the data.\n",
    "\n",
    "\n",
    "$$\\lim_{\\lambda \\to \\infty} \\frac{ \\sum y_i \\hat{x_i} }{\\sum \\hat{x_i}^2 + \\lambda } = 0$$\n",
    "This makes sense since we are regularizing so much that we should see no change in the model no matter what data we input i.e. we get a flat line."
   ]
  },
  {
   "cell_type": "markdown",
   "metadata": {},
   "source": [
    "**Part D**: Verify that the solution obtained in **Parts A** and **B** are correct by testing it on some simulated data and comparing the results to those obtained by sklearn's [Ridge Regression](http://scikit-learn.org/stable/modules/generated/sklearn.linear_model.Ridge.html) routine.  We've given you some data below, but feel free to mess with the parameters. "
   ]
  },
  {
   "cell_type": "code",
   "execution_count": 382,
   "metadata": {},
   "outputs": [
    {
     "name": "stdout",
     "output_type": "stream",
     "text": [
      "3.44705427463\n",
      "[ 2.54415922]\n",
      "3.44705427463\n",
      "2.54415922407\n"
     ]
    }
   ],
   "source": [
    "lam = 2.0 \n",
    "X = np.random.uniform(size=(200,1))\n",
    "y = 2 + 3 * X[:,0] + 0.5*np.random.randn(200)\n",
    "\n",
    "# Load the data into our data structure and center it \n",
    "cdata = RegressionData(X, y, center=True)\n",
    "\n",
    "# Compute beta_0 and beta_1 using the formulas you derived above\n",
    "b0 = np.mean(cdata.y_train)\n",
    "#print(np.sum(cdata.y_train*cdata.X_train ) )\n",
    "xhat = cdata.X_train - np.mean(cdata.X_train) \n",
    "b1 = np.sum( np.dot( cdata.y_train , xhat ) ) /(np.sum(xhat**2)  + lam)\n",
    "#b1 = (np.sum(cdata.y_train*cdata.X_train ) - np.mean(cdata.X_train)*np.sum(cdata.y_train))/( np.sum( (cdata.X_train - np.mean(cdata.X_train))**2 ) +lam )\n",
    "#b1 = (sum(y*X) - len(X)*np.mean(X)*np.mean(y))/(2*(sum(X**2) - len(X)*np.mean(X)**2 + lam )  )\n",
    "\n",
    "# Compute beta_0 and beta_1 by calling Ridge()\n",
    "from sklearn.linear_model import Ridge\n",
    "rg = Ridge(alpha = lam)\n",
    "rg.fit(cdata.X_train,cdata.y_train)\n",
    "print(rg.intercept_)\n",
    "print(rg.coef_)\n",
    "print(b0)\n",
    "print(b1)\n",
    "#bs0, bs1 = rg.predict(y), rg.predict(X) "
   ]
  },
  {
   "cell_type": "markdown",
   "metadata": {},
   "source": [
    "**Part E**: We claimed in the class that if you built a regularized regression model based on centered features, the model would make the same prediction as an equivalent model built with un-centered features. Verify this fact by \n",
    "\n",
    "- Predicting the response for your centered Validation set using the model you computed on your own.  \n",
    "- Predicting the response for the equivalent un-centered Validation set using sklearn's Ridge model trained on the un-centered features. \n",
    "- Showing that the predictions are the same for a reasonable subset of the Validation set. \n"
   ]
  },
  {
   "cell_type": "code",
   "execution_count": 389,
   "metadata": {},
   "outputs": [
    {
     "name": "stdout",
     "output_type": "stream",
     "text": [
      "[ 0.]\n",
      "[ 0.]\n",
      "[  4.44089210e-16]\n",
      "[  4.44089210e-16]\n",
      "[ 0.]\n",
      "[ 0.]\n",
      "[ 0.]\n",
      "[ 0.]\n",
      "[ 0.]\n",
      "[  4.44089210e-16]\n",
      "[ 0.]\n",
      "[ 0.]\n",
      "[ 0.]\n",
      "[ 0.]\n",
      "[ 0.]\n",
      "[ 0.]\n",
      "[ -8.88178420e-16]\n",
      "[ -8.88178420e-16]\n",
      "[ 0.]\n",
      "[ 0.]\n",
      "[  4.44089210e-16]\n",
      "[ 0.]\n",
      "[ 0.]\n",
      "[  4.44089210e-16]\n",
      "[ 0.]\n",
      "[ 0.]\n",
      "[ 0.]\n",
      "[ 0.]\n",
      "[ 0.]\n",
      "[ 0.]\n",
      "[ 0.]\n",
      "[  4.44089210e-16]\n",
      "[  4.44089210e-16]\n",
      "[ 0.]\n",
      "[  4.44089210e-16]\n",
      "[ 0.]\n",
      "[ 0.]\n",
      "[ 0.]\n",
      "[ 0.]\n",
      "[  4.44089210e-16]\n"
     ]
    }
   ],
   "source": [
    "\n",
    "cdata2 = RegressionData(X, y, center=False)\n",
    "\n",
    "rg = Ridge(alpha = lam)\n",
    "rg.fit(cdata2.X_train,cdata2.y_train)\n",
    "pred = rg.predict(cdata2.X_valid)\n",
    "\n",
    "otherpred = b0 + b1*cdata.X_valid\n",
    "#print(otherpred)\n",
    "#print(cdata2.X_valid[2])\n",
    "#print()\n",
    "#for ii in range(len(otherpred)):\n",
    "    #print(b0 + b1*cdata2.X_valid[ii])\n",
    "    #otherpred[ii] = b0 + b1*cdata2.X_valid[ii]\n",
    "#print(otherpred)\n",
    "#np.subtract(pred , otherpred)\n",
    "for ii in range(len(pred)):\n",
    "    print(pred[ii]-otherpred[ii])\n",
    "\n",
    "#p = np.poly1d([b0,b1] )\n",
    "#rp = np.poly1d([rg.intercept_, rg.coef_])\n",
    "#p - rp"
   ]
  },
  {
   "cell_type": "markdown",
   "metadata": {},
   "source": [
    "### [30 points] Problem 4 - Polynomial Regression  and the Bias-Variance Trade-Off\n",
    "***\n",
    "\n",
    "In this problem you will use polynomial regression to explore the Bias-Variance Trade-Off. Assume that our data comes from a model of the form \n",
    "\n",
    "$$Y = f(X) + \\epsilon ~~\\textrm{ where }~~ \\epsilon \\sim N(0,\\sigma^2)$$ \n",
    "\n",
    "For our experiments we'll use $f(x) = \\sin(\\pi x)$. The following functions can be used to generate data from this distribution:"
   ]
  },
  {
   "cell_type": "code",
   "execution_count": 53,
   "metadata": {
    "collapsed": true
   },
   "outputs": [],
   "source": [
    "def true_f(x):\n",
    "    \"\"\"\n",
    "    Returns sin(pi*x) for array of x values\n",
    "    \n",
    "    :@param x: ndarray of feature values\n",
    "    \"\"\"\n",
    "    return np.sin(np.pi * x)"
   ]
  },
  {
   "cell_type": "markdown",
   "metadata": {},
   "source": [
    "**Part A**: Generate a sample of size $n=20$ for $x$-values chosen from a uniform distribution between $0$ and $1$.  Make a scatter plot of the data overlayed with the curve of the true function $f(x) \\sin(\\pi x)$. "
   ]
  },
  {
   "cell_type": "code",
   "execution_count": 77,
   "metadata": {},
   "outputs": [
    {
     "data": {
      "image/png": "[encoded data removed]",
      "text/plain": [
       "<matplotlib.figure.Figure at 0x7f267b4bb208>"
      ]
     },
     "metadata": {},
     "output_type": "display_data"
    }
   ],
   "source": [
    "x = np.random.uniform(size=20)\n",
    "d = true_f(x)\n",
    "fig, ax = plt.subplots()\n",
    "ax.scatter(x,d)\n",
    "sindata = np.linspace(0,1,100)\n",
    "sdata = true_f(sindata)\n",
    "ax.plot(sindata,sdata)\n",
    "#plt.scatter(xline)"
   ]
  },
  {
   "cell_type": "markdown",
   "metadata": {},
   "source": [
    "**Part B**: Next we need to create a function that can fit a polynomial model to training data and make predictions for unseen data.  Complete the function `poly_predict` below to accomplish this.  Note that there are many ways to do this in Python.  Later this week we'll look into doing this with Scikit-Learn.  You're free to implement it using Scikit-Learn, but you might want to look into Numpy's polynomial fitting functions, [polyfit](https://docs.scipy.org/doc/numpy-1.13.0/reference/generated/numpy.polyfit.html) and [polyval](https://docs.scipy.org/doc/numpy-1.13.0/reference/generated/numpy.polyval.html).\n",
    "\n",
    "Demonstrate that your function is working by using it to generate a plot (similar to those shown in lecture) that include the true function $f(x)$, a scatter plot of your training data, and the curve representing your fitted model. "
   ]
  },
  {
   "cell_type": "code",
   "execution_count": 296,
   "metadata": {},
   "outputs": [
    {
     "data": {
      "text/plain": [
       "Text(0.5,1,'sin(x) predicted with a 3rd order polynomial')"
      ]
     },
     "execution_count": 296,
     "metadata": {},
     "output_type": "execute_result"
    },
    {
     "data": {
      "image/png": "[encoded data removed]",
      "text/plain": [
       "<matplotlib.figure.Figure at 0x7f26787f6fd0>"
      ]
     },
     "metadata": {},
     "output_type": "display_data"
    }
   ],
   "source": [
    "def poly_predict(x_train, y_train, x_valid, deg):\n",
    "    \"\"\"\n",
    "    Function to train polynomial regression model on training data\n",
    "    and then return a vector of predictions on validation data\n",
    "    \n",
    "    :@param x_train: vector of training features\n",
    "    :@param y_train: vector of training responses\n",
    "    :@param x_valid: vector of validation features to make predictions with\n",
    "    :@param deg: degree of the polynomial model \n",
    "    \"\"\"\n",
    "    #from sklearn.preprocessing import PolynomialFeatures\n",
    "\n",
    "    #coef = np.polyfit(x_train,y_train,deg)\n",
    "    prediction = np.polyval(np.polyfit(x_train,y_train,deg), x_valid)\n",
    "    #for ii in range(len(x_valid)):\n",
    "    #    prediction[ii] = coef[deg]\n",
    "    #    for jj in range(deg):\n",
    "    #        prediction[ii] = prediction[ii] + (x_train[ii]**jj)*(coef[jj])\n",
    "    #print(coef, \"coef\")\n",
    "\n",
    "    \n",
    "    \n",
    "    #prediction = np.zeros_like(x_valid) #TODO\n",
    "    #print(prediction)\n",
    "    return prediction\n",
    "#x = np.random.uniform(-10,10,size=100)'\n",
    "x = np.linspace(-5,5,100)\n",
    "y = true_f(x/np.pi)\n",
    "xvalid = np.linspace(-5,5,20)\n",
    "#xvalid = np.random.uniform(-4,4,size=50)\n",
    "#print(xvalid)\n",
    "p = poly_predict(x,y,xvalid,3)\n",
    "fig, ax = plt.subplots()\n",
    "ax.scatter(xvalid,p)\n",
    "ax.plot(x,y)\n",
    "ax.plot(xvalid,p)\n",
    "ax.set_title('sin(x) predicted with a 3rd order polynomial')\n",
    "\n",
    "\n"
   ]
  },
  {
   "cell_type": "markdown",
   "metadata": {},
   "source": [
    "**Part C**: Our goal now will be to make a plot of the decomposition of the expected validation MSE into it's constituent parts.  Recall that we showed in lecture that the expected test MSE can be written as \n",
    "\n",
    "$$\n",
    "\\textrm{E}\\left[\\left(y_0 - \\hat{f}(x_0) \\right)^2\\right] = \\left[~f(x_0) - \\textrm{E}[~\\hat{f}(x_0)~] \\right]^2\n",
    "+ \\textrm{E}\\left[ ~ \\textrm{E}[~\\hat{f}(x_0)]-\\hat{f}(x_0)~\\right]^2 + \\textrm{Var}(\\epsilon)\n",
    "= \\left[\\textrm{Bias}(~\\hat{f}(x_0)\\right]^2 + \\textrm{Var}(~\\hat{f}(x_0)~) + \\textrm{Var}(\\epsilon)\n",
    "$$\n",
    "\n",
    "where $x_0$ represents unseen validation data. We're going to run simulations to estimate $\\left[\\textrm{Bias}(~\\hat{f}(x_0)\\right]^2$ and $\\textrm{Var}(~\\hat{f}(x_0)~)$ for different polynomial models and then plot them against estimates of the true validation MSE. The function `bias_variance_study` below will help you do this.  You just need to fill in a few key parts.  At the end of the day, you should have a plot that looks like this for certain choices of the simulation parameters. \n",
    "\n",
    "The $\\textrm{Bias}^2$ term is given by \n",
    "\n",
    "$$\n",
    "\\left[\\textrm{Bias}(~\\hat{f}(x_0)\\right]^2 = \\left[~f(x_0) - \\textrm{E}[~\\hat{f}(x_0)~] \\right]^2\n",
    "$$\n",
    "\n",
    "The first term inside the square is simply the true function $f$ evaluated on the validation data.  The second term inside the square, $\\textrm{E}[~\\hat{f}(x_0)~]$, is the expected value of all estimated models evaluated on the validation data.  We can estimate this by sampling many many training sets, fitting models, evaluating them on many validation sets, and then taking the average. Complete the `squared_bias` function below to do this computation.  \n",
    "\n",
    "The next step is to estimate the $\\textrm{Variance}$.  Let's unpack it \n",
    "\n",
    "$$\n",
    "\\textrm{E}\\left[ ~ \\hat{f}(x_0) - \\textrm{E}[~\\hat{f}(x_0)]~\\right]^2\n",
    "$$\n",
    "\n",
    "Note that $\\textrm{E}[~\\hat{f}(x_0)]$ is the `mean_model` we got from the `squared_bias` function. The other term, $\\hat{f}(x_0)$, is a model estimated on a random training set, and then evaluated on the validation set.  Since we're wrapping this whole thing in an expectation, we're going to sample many many training sets, estimate $\\hat{f}(x_0)$, and then compute the mean squared deviation between these and the `mean_model`.  You will add code to the function below to accomplish this. \n",
    "\n",
    "We'll also estimate the validation MSE so we can compare this to the bias-variance decomposition, but this portion of the code is completed for you. \n",
    "\n",
    "Note that there are only three lines in the code that you need to modify (though, feel free to be more verbose if you like), each marked with a `#TODO`.  When everything is done, running the function call given below should produce a plot similar to [this](https://github.com/chrisketelsen/CSCI-4622-Machine-Learning/blob/master/hmwk/hmwk01/figs/bias_var_plot.png). "
   ]
  },
  {
   "cell_type": "code",
   "execution_count": 340,
   "metadata": {
    "collapsed": true
   },
   "outputs": [],
   "source": [
    "def bias_variance_study(num_data, num_sims, train_frac=0.8, noiseSTD=0.4, max_deg=10, random_state=1234):\n",
    "    '''\n",
    "    Function to run simulations and estimate the squared-bias, variance, and \n",
    "    validation error of polynomial regression models. \n",
    "    \n",
    "    :@param num_data: number of points in simulated data set \n",
    "    :@param num_sims: number of simulations to run \n",
    "    :@param train_frac: fraction of total data in training set\n",
    "    :@param noiseSTD: standard deviation of noise in data \n",
    "    :@param max_deg: largest degree polynomial to analyze\n",
    "    :@param random_state: seed for random state, for reproducibility\n",
    "    '''\n",
    "    # Set random seed \n",
    "    np.random.seed(random_state)\n",
    "    \n",
    "    # array of polynomial degrees\n",
    "    degrees = range(1,max_deg+1)\n",
    "    \n",
    "    # train/valid split sizes \n",
    "    nTrain = int(np.ceil(train_frac * num_data))\n",
    "    nValid = num_data - nTrain\n",
    "    \n",
    "    # Generate grid of features and shuffle them \n",
    "    xGrid = np.linspace(-1,1,num_data)\n",
    "    np.random.shuffle(xGrid)\n",
    "    \n",
    "    # Spit into training and validation sets \n",
    "    xTrain = xGrid[:nTrain]\n",
    "    #print(xTrain)\n",
    "    xValid = xGrid[nTrain:]\n",
    "    \n",
    "    # Dictionaries for predictions and MSE measurements\n",
    "    # Keys are polynomial degree. Each prediction is column \n",
    "    # of nValid x num_sims array. Each mse is entry in vector\n",
    "    # of length num_sims \n",
    "    yHatValid = {deg: np.zeros((nValid, num_sims)) for deg in degrees}\n",
    "    msesValid = {deg: np.zeros(num_sims) for deg in degrees}\n",
    "    bias0 = {deg: np.zeros(num_sims) for deg in degrees}\n",
    "    \n",
    "    # Loop over num_sims simulated data sets\n",
    "    for tsID in range(num_sims):\n",
    "        \n",
    "        # Generate training and validation responses \n",
    "        yTrain = true_f(xTrain) + noiseSTD*np.random.randn(nTrain)\n",
    "        yValid = true_f(xValid) + noiseSTD*np.random.randn(nValid)\n",
    "        \n",
    "        # Loop over polynomial degree.  Use function from part B \n",
    "        # to fit to training set and predict on validation set.\n",
    "        # Store predictions those predictions in yHatValid[deg]\n",
    "        for deg in degrees:\n",
    "            yHatValid[deg][:,tsID] = poly_predict(xTrain, yTrain, xValid,deg ) #np.zeros_like(xValid) #TODO\n",
    "            msesValid[deg][tsID] = np.mean((yValid-yHatValid[deg][:,tsID])**2)\n",
    "            bias0[deg][tsID] = np.mean(true_f(xValid)- yHatValid[deg][:,tsID] )**2\n",
    "            #variance0[deg][tsID] = np.mean(yHatValid[deg][:,tsID] - np.mean(yHatValid[deg][:,tsID]))\n",
    "    #print(tsID)\n",
    "    # Loop over each polynomial degree and compute squared-bias, variance, \n",
    "    # and mean MSE on validation set.  \n",
    "    #print(yHatValid[1][:,1])\n",
    "    #print(true_f(xValid))\n",
    "    #print(np.mean(yHatValid[deg]))\n",
    "    #print(yValid)\n",
    "    #print(xValid)\n",
    "    #print(np.mean(yHatValid[deg]))\n",
    "    #print(yHatValid[3][2,:])\n",
    "    sqBias, variance, mseValid,rs = np.zeros(max_deg), np.zeros(max_deg), np.zeros(max_deg), np.zeros(max_deg)\n",
    "    \n",
    "    for ii, deg in enumerate(degrees):\n",
    "        #for jj in range(len(yHatValid[deg][:,1])  ):\n",
    "            #sqBias[ii] = np.mean(true_f(xValid) - np.mean(yHatValid[deg][:,jj]))\n",
    "            #variance[ii] = np.mean(yHatValid[deg][:,jj] - np.mean()  )\n",
    "        print(yHatValid[deg])\n",
    "        sqBias[ii] =  np.mean((true_f(xValid) - np.mean(yHatValid[deg],axis=1))**2) #TODO\n",
    "        variance[ii] = np.mean(np.var(yHatValid[deg], axis=1)) #np.mean(variance0[deg])**2 #np.mean(true_f(yHatValid[deg][:,ii]) - np.mean(yHatValid[deg][:,ii]) )**2 \n",
    "        mseValid[ii] = np.mean(msesValid[deg])\n",
    "            \n",
    "            \n",
    "        \n",
    "        \n",
    "    # Plot squared bias, variance, and validation MSE \n",
    "    fig, ax = plt.subplots(nrows=1, ncols=1, figsize=(8,6))\n",
    "    ax.plot(degrees, sqBias, color=\"steelblue\", lw=3, label=\"Bias**2\")\n",
    "    ax.plot(degrees, variance, color=\"#a76c6e\", lw=3, label=\"Variance\")\n",
    "    ax.plot(degrees, mseValid, color=\"black\", lw=3, label=\"Valid MSE\")\n",
    "    ax.grid(alpha=0.25)\n",
    "    ax.set_xlabel(\"Model Complexity (Poly Degree)\", fontsize=16)\n",
    "    ax.set_ylabel(\"Error\", fontsize=16)\n",
    "    ax.legend(loc=\"upper center\", fontsize=12)\n",
    "    \n",
    "    # Return arrays of squared-Bias, variance, and MSE \n",
    "    return sqBias, variance, mseValid"
   ]
  },
  {
   "cell_type": "code",
   "execution_count": 341,
   "metadata": {
    "scrolled": true
   },
   "outputs": [
    {
     "data": {
      "image/png": "[encoded data removed]",
      "text/plain": [
       "<matplotlib.figure.Figure at 0x7f267865b5c0>"
      ]
     },
     "metadata": {},
     "output_type": "display_data"
    }
   ],
   "source": [
    "sqBias, variance, mseValid = bias_variance_study(30, 100, train_frac=0.80, random_state=1241)"
   ]
  },
  {
   "cell_type": "markdown",
   "metadata": {},
   "source": [
    "**Part D**: When everything is working, increase the size of the simulated data sets and the number of simulation runs and compare the difference between the validation MSE and the sum of the squared-Bias the Variance for each polynomial degree.  Try this for several values of the standard deviation of the model noise.  What do you notice?  How can you explain this result using the notions of Bias-Variance and Reducible and Irreducible error discussed in class?  "
   ]
  },
  {
   "cell_type": "code",
   "execution_count": 417,
   "metadata": {},
   "outputs": [
    {
     "data": {
      "image/png": "[encoded data removed]",
      "text/plain": [
       "<matplotlib.figure.Figure at 0x7f267827be48>"
      ]
     },
     "metadata": {},
     "output_type": "display_data"
    }
   ],
   "source": [
    "sqBias, variance, mseValid = bias_variance_study(20, 50, train_frac=0.80, random_state=1241, noiseSTD=1.0)"
   ]
  },
  {
   "cell_type": "markdown",
   "metadata": {},
   "source": [
    "When the amount of data is reduced the model has an extremly high mean square error as the number of polynomial degrees increases. This makes sence becuase there is not enough data to fit a high degree polynomial to. Increasing the amount of data makes it so a high degree polynomial can fit the data without a large amount of error. Having a higher amount of simulations smooths the out how the valid MSE works, and this makes sence because having very few simulations is similar to having a small amount of data in the sence that the model isn't guarenteed to be close to having a normal distribution. With the Bias-Variance tradeoff we see that with low amounts of data causes the variance to increase rapidly and the bias reaches zero very quickly this is due to the fact that as number of data points decreases higher order polynomials approach an exact fit to the data, which means that the model is starting to fit the noise.\n",
    "Increasing the noise adds adds irreducible error to the model which increasing the degree of the poly only fits the noise and does not fit the true function."
   ]
  }
 ],
 "metadata": {
  "kernelspec": {
   "display_name": "Python 3",
   "language": "python",
   "name": "python3"
  },
  "language_info": {
   "codemirror_mode": {
    "name": "ipython",
    "version": 3
   },
   "file_extension": ".py",
   "mimetype": "text/x-python",
   "name": "python",
   "nbconvert_exporter": "python",
   "pygments_lexer": "ipython3",
   "version": "3.6.3"
  }
 },
 "nbformat": 4,
 "nbformat_minor": 2
}
