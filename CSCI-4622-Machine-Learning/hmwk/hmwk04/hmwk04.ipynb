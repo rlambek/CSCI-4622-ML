{
 "cells": [
  {
   "cell_type": "markdown",
   "metadata": {},
   "source": [
    "# Homework 4: Neural Networks, SGD, and Back Propagation \n",
    "***\n",
    "\n",
    "**Name**: Max Lambek\n",
    "\n",
    "***\n",
    "\n",
    "This assignment is due on Moodle by **5pm on Friday March 23rd**. Your solutions to theoretical questions should be done in Markdown/MathJax directly below the associated question.  Your solutions to computational questions should include any specified Python code and results as well as written commentary on your conclusions.  Remember that you are encouraged to discuss the problems with your instructors and classmates, but **you must write all code and solutions on your own**.  For a refresher on the course **Collaboration Policy** click [here](https://github.com/chrisketelsen/CSCI-4622-Machine-Learning/blob/master/resources/syllabus.md#collaboration-policy).\n",
    "\n",
    "**NOTES**: \n",
    "\n",
    "- Do **NOT** load or use any Python packages that are not available in Anaconda 3.6. \n",
    "- Some problems with code may be autograded.  If we provide a function API **do not** change it.  If we do not provide a function API then you're free to structure your code however you like. \n",
    "- Submit only this Jupyter notebook to Moodle.  Do not compress it using tar, rar, zip, etc. "
   ]
  },
  {
   "cell_type": "code",
   "execution_count": 153,
   "metadata": {
    "ExecuteTime": {
     "end_time": "2018-03-13T09:10:09.992631Z",
     "start_time": "2018-03-13T09:10:08.906587Z"
    },
    "collapsed": true,
    "scrolled": false
   },
   "outputs": [],
   "source": [
    "import pickle, gzip\n",
    "import numpy as np\n",
    "import pandas as pd\n",
    "import matplotlib.pylab as plt\n",
    "%matplotlib inline"
   ]
  },
  {
   "cell_type": "markdown",
   "metadata": {},
   "source": [
    "### [15 points] Problem 1 - Single-Layer and Multilayer Perceptron Learning \n",
    "***\n",
    "\n",
    "**Part A**: Consider learning the following concepts with either a single-layer or multilayer perceptron where all hidden and output neurons utilize indicator activation functions.  For each of the following concepts, state whether the concept can be learned by a single-layer perceptron.  **Briefly** justify your response: \n",
    "\n",
    "i. $~ \\texttt{ NOT } x_1$ \n",
    "\n",
    "ii. $~~x_1 \\texttt{ NOR } x_2$ \n",
    "\n",
    "iii. $~~x_1 \\texttt{ XNOR } x_2$ \n"
   ]
  },
  {
   "cell_type": "markdown",
   "metadata": {
    "collapsed": true,
    "scrolled": true
   },
   "source": [
    "i. Yes because all you need is to use $-1$ as your weight to change the sign of the inputs.\n",
    "\n",
    "ii. Yes because $x_1$ NOR $x_2$ is just the negation of OR, which is a linearly seperable, as shown in class, and as such can be learned by a single-layer perceptron.\n",
    "\n",
    "iii. No because $x_1$ XNOR $x_2$ is the same as NOT($x_1$ OR $x_2$) OR ($x_1$ AND $x_2$), which has the same problems as an XOR gate (not linearly seperable), and thus it cannot be learned by a single-layer perceptron. However, this can be done by a multi-layer perceptron."
   ]
  },
  {
   "cell_type": "markdown",
   "metadata": {},
   "source": [
    "**Part B**: Determine an architecture and specific values of the weights and biases in a single-layer or multilayer perceptron with indicator activation functions that can learn $x_1 \\texttt{ XNOR } x_2$. Describe your architecture and state your weight matrices and bias vectors in Markdown below. Then demonstrate that your solution is correct by implementing forward propagation for your network in Python and showing that it correctly produces the correct boolean output values for each of the four possible combinations of $x_1$ and $x_2$.  "
   ]
  },
  {
   "cell_type": "markdown",
   "metadata": {
    "collapsed": true,
    "scrolled": true
   },
   "source": [
    "the XNOR operator can be formed by using a 2-layer perceptron with 2 nodes and a bias node on each layer. Structuring the inputs into the second layer as the top node is a NOR operator and the bottom node is an AND operator, and then ORing those two nodes produces XNONR. The weights needed to do this is:\n",
    "\n",
    "\n",
    "$$W^1 = \n",
    "\\begin{bmatrix}\n",
    "1 & 1 \\\\\n",
    "-1 & -1\n",
    "\\end{bmatrix},\n",
    "b^1 = \n",
    "\\begin{bmatrix}\n",
    "-1 \\\\\n",
    "1\n",
    "\\end{bmatrix},\n",
    "W^2 =\n",
    "\\begin{bmatrix}\n",
    "1 & 1 \\\\\n",
    "\\end{bmatrix},\n",
    "b^2 = \n",
    "\\begin{bmatrix}\n",
    "0\n",
    "\\end{bmatrix},\n",
    "$$\n"
   ]
  },
  {
   "cell_type": "code",
   "execution_count": 154,
   "metadata": {},
   "outputs": [
    {
     "name": "stdout",
     "output_type": "stream",
     "text": [
      "zero zero case result: 1\n",
      "zero one case result: 0\n",
      "one zero case result: 0\n",
      "one one case result: 1\n"
     ]
    }
   ],
   "source": [
    "W1 = [[1,1],[-1,-1]]\n",
    "W2 = [1,1]\n",
    "b1 = [-1,1]\n",
    "def XNOR(x1,x2):\n",
    "    a1 = np.dot(W1[0],[x1,x2])+b1[0]\n",
    "    if(a1 < 1):\n",
    "        a1 =0\n",
    "    #print(a1)\n",
    "    a2 = np.dot(W1[1],[x1,x2])+b1[1]\n",
    "    if(a2 < 1):\n",
    "        a2 = 0\n",
    "    #print(a2)\n",
    "    \n",
    "    ans = np.dot(W2,[a1,a2])\n",
    "    return ans\n",
    "a = XNOR(0,0)\n",
    "print(\"zero zero case result:\", a)\n",
    "a = XNOR(0,1)\n",
    "print(\"zero one case result:\", a)\n",
    "a = XNOR(1,0)\n",
    "print(\"one zero case result:\", a)\n",
    "a = XNOR(1,1)\n",
    "print(\"one one case result:\", a)\n"
   ]
  },
  {
   "cell_type": "markdown",
   "metadata": {},
   "source": [
    "### [20 points] Problem 2 - Back Propagation and Deep Networks\n",
    "***\n",
    "\n",
    "In this problem you'll gain some intuition about why training deep neural networks can be very time consuming.  Consider training the chain-like neural network seen below: \n",
    "\n",
    "![chain-like nn](figs/chain_net.png)\n",
    "\n",
    "Note that this network has three weights $W^1, W^2, W^3$ and three biases $b^1, b^2,$ and $b^3$ (for this problem you can think of each parameter as a single value or as a $1 \\times 1$ matrix). Suppose that each hidden and output neuron is equipped with a sigmoid activation function and the loss function is given by \n",
    "\n",
    "$$\n",
    "C(y, a^4) = \\frac{1}{2}(y - a^4)^2  \n",
    "$$\n",
    "\n",
    "where $a^4$ is the value of the activation at the output neuron and $y \\in \\{0,1\\}$ is the true label associated with the training example. "
   ]
  },
  {
   "cell_type": "markdown",
   "metadata": {},
   "source": [
    "**Part A**: Suppose each of the weights is initialized to $W^k = 1.0$ and each bias is initialized to $b^k = -0.5$.  Use forward propagation to find the activities and activations associated with each hidden and output neuron for the training example $(x, y) = (0.5,0)$. Show your work. "
   ]
  },
  {
   "cell_type": "markdown",
   "metadata": {
    "collapsed": true
   },
   "source": [
    "$a^2= sigm(0.5*1+(-0.5)) = 0.5 $, $a^3= sigm(0.5*1+(-0.5)) = 0.5 $, $a^4= sigm(0.5*1+(-0.5)) = 0.5 $\n"
   ]
  },
  {
   "cell_type": "markdown",
   "metadata": {},
   "source": [
    "**Part B**: Compute the value of $\\delta^4$ associated with the given training example. Show all work.  "
   ]
  },
  {
   "cell_type": "markdown",
   "metadata": {
    "collapsed": true
   },
   "source": [
    "$$\\delta^L = \\frac{\\partial C}{\\partial z_i^L} = \\nabla_{\\mathbf{a}^L} C \\odot g^{\\prime} (\\mathbf{z}^L) $$\n",
    "$$\\frac{\\partial C}{\\partial a^L} = (y-a^L)(-1) = a^L - y $$\n",
    "$$\\delta_4 = \\frac{\\partial C}{\\partial z_1^1} = \\frac{\\partial C}{\\partial a_1^1} \\frac{\\partial a_1^1}{\\partial z_1^1} = (a^L - y) sigm^{\\prime}(z_1^1) = sigm(z_1^1) sigm^{\\prime}(z_1^1)  = \\frac{1}{2} \\frac{1}{4} = \\frac{1}{8} $$\n",
    "\n",
    "$$\\delta_3 = \\frac{\\partial C}{\\partial a_1^1}\\frac{\\partial a_1^1}{\\partial z_1^1}\\frac{\\partial a_1^2}{\\partial z_1^2} = \\frac{1}{2} \\frac{1}{4} \\frac{1}{4} = \\frac{1}{32}$$\n",
    "Following this we can see an obvious trend sence each activation is $0.5$ and each derivative of the activation is $0.25$ so,\n",
    "$$\\delta_2 = \\frac{1}{2} \\frac{1}{4} \\frac{1}{4} \\frac{1}{4}  = \\frac{1}{32*4} $$"
   ]
  },
  {
   "cell_type": "markdown",
   "metadata": {},
   "source": [
    "**Part C**: Use Back-Propagation to compute the weight and bias derivatives $\\partial C / \\partial W^k$ and $\\partial C / \\partial b^k$ for $k=1, 2, 3$.  Show all work. "
   ]
  },
  {
   "cell_type": "markdown",
   "metadata": {
    "collapsed": true
   },
   "source": [
    "$$\\frac{\\partial C}{\\partial W^3} = \\delta^4 a^3 = \\frac{1}{8} \\frac{1}{2} = 0.0625  $$\n",
    "$$\\frac{\\partial C}{\\partial W^2} = \\delta^3 a^2 = \\frac{1}{32} \\frac{1}{2} = 0.015625  $$\n",
    "$$\\frac{\\partial C}{\\partial W^1} = \\delta^2 a^1 = \\frac{1}{128} \\frac{1}{2} = 0.00390625  $$\n",
    "\n",
    "$$\\frac{\\partial C}{\\partial b^3}= \\delta^4 = \\frac{1}{8}$$\n",
    "$$\\frac{\\partial C}{\\partial b^2}= \\delta^3 = \\frac{1}{32}$$\n",
    "$$\\frac{\\partial C}{\\partial b^1}= \\delta^2 = \\frac{1}{128}$$"
   ]
  },
  {
   "cell_type": "markdown",
   "metadata": {},
   "source": [
    "**Part D**: Comment on your observations in **Part C**.  In particular, compare the rate at which weights will be learned in the earlier layers to the later layers.  What would happen if we had an even deeper network? "
   ]
  },
  {
   "cell_type": "markdown",
   "metadata": {
    "collapsed": true,
    "scrolled": true
   },
   "source": [
    "The earlier layers learn at a much slower rate compared to the later layers. In a deeper network this will become even more extreme, and thus fully training all layers will be done at the rate of the first layer, and that might take a long time."
   ]
  },
  {
   "cell_type": "markdown",
   "metadata": {},
   "source": [
    "### [40 points] Problem 3: Building and Training a Feed-Forward Neural Network \n",
    "***\n",
    "\n",
    "In this problem you'll implement a general feed-forward neural network class that utilizes sigmoid activation functions. Your tasks will be to implement `forward propagation`, `prediction`, `back propagation`, and a general `train` routine to learn the weights in your network via Stochastic Gradient Descent.  \n",
    "\n",
    "The skeleton for the `Network` class is below. Note that this class is almost identical to the one you worked with in the **Hands-On Neural Network** in-class notebook, so you should look there to remind yourself of the details.   Scroll down to find more information about your tasks as well as unit tests. \n",
    "\n",
    "**Important Note**: In **Problem 4** we'll be using the `Network` class to train a network to do handwritten digit recognition.  Please make sure to utilize vectorized Numpy routines as much as possible, as writing inefficient code here will cause very slow training times in **Problem 4**. "
   ]
  },
  {
   "cell_type": "code",
   "execution_count": 373,
   "metadata": {
    "ExecuteTime": {
     "end_time": "2018-03-13T09:10:15.724906Z",
     "start_time": "2018-03-13T09:10:15.345793Z"
    },
    "collapsed": true,
    "scrolled": true
   },
   "outputs": [],
   "source": [
    "class Network:\n",
    "    def __init__(self, sizes):\n",
    "        \"\"\"\n",
    "        Initialize the neural network \n",
    "        \n",
    "        :param sizes: a list of the number of neurons in each layer \n",
    "        \"\"\"\n",
    "        # save the number of layers in the network \n",
    "        self.L = len(sizes) \n",
    "        \n",
    "        # store the list of layer sizes \n",
    "        self.sizes = sizes  \n",
    "        \n",
    "        # initialize the bias vectors for each hidden and output layer \n",
    "        self.b = [np.random.randn(n) for n in self.sizes[1:]]\n",
    "        \n",
    "        # initialize the matrices of weights for each hidden and output layer \n",
    "        self.W = [np.random.randn(n, m) for (m,n) in zip(self.sizes[:-1], self.sizes[1:])]\n",
    "        \n",
    "        # initialize the derivatives of biases for backprop \n",
    "        self.db = [np.zeros(n) for n in self.sizes[1:]]\n",
    "        \n",
    "        # initialize the derivatives of weights for backprop \n",
    "        self.dW = [np.zeros((n, m)) for (m,n) in zip(self.sizes[:-1], self.sizes[1:])]\n",
    "        \n",
    "        # initialize the activities on each hidden and output layer \n",
    "        self.z = [np.zeros(n) for n in self.sizes]\n",
    "        \n",
    "        # initialize the activations on each hidden and output layer \n",
    "        self.a = [np.zeros(n) for n in self.sizes]\n",
    "        \n",
    "        # initialize the deltas on each hidden and output layer \n",
    "        self.delta = [np.zeros(n) for n in self.sizes]\n",
    "        \n",
    "        self.acc = []\n",
    "        self.vacc = []\n",
    "        \n",
    "    def g(self, z):\n",
    "        \"\"\"\n",
    "        sigmoid activation function \n",
    "        \n",
    "        :param z: vector of activities to apply activation to \n",
    "        \"\"\"\n",
    "        z = np.clip(z, -20, 20)\n",
    "        return 1.0/(1.0 + np.exp(-z))\n",
    "    \n",
    "    def g_prime(self, z):\n",
    "        \"\"\"\n",
    "        derivative of sigmoid activation function \n",
    "        \n",
    "        :param z: vector of activities to apply derivative of activation to \n",
    "        \"\"\"\n",
    "        return self.g(z) * (1.0 - self.g(z))\n",
    "    \n",
    "    def gradC(self, a, y):\n",
    "        \"\"\"\n",
    "        evaluate gradient of cost function for squared-loss C(a,y) = (a-y)^2/2 \n",
    "        \n",
    "        :param a: activations on output layer \n",
    "        :param y: vector-encoded label \n",
    "        \"\"\"\n",
    "        return (a - y)\n",
    "    \n",
    "    def forward_prop(self, x):\n",
    "        \"\"\"\n",
    "        take a feature vector and propagate through network \n",
    "        \n",
    "        :param x: input feature vector \n",
    "        \"\"\"\n",
    "        \n",
    "        # Initialize activation on initial layer to x \n",
    "        self.a[0] = x \n",
    "        #print(self.sizes)\n",
    "        #print(len(self.W[0]))\n",
    "        #print(len(self.a[1]))\n",
    "        # Loop over layers and compute activities and activations \n",
    "        for ii in range(self.L-1):\n",
    "            self.z[ii+1] = np.dot(self.W[ii],self.a[ii]) + self.b[ii]\n",
    "            self.a[ii+1] = self.g(self.z[ii+1])\n",
    "            \n",
    "            \n",
    "        self.a = self.a\n",
    "        \n",
    "    def predict(self, X):\n",
    "        \"\"\"\n",
    "        Predicts on the the data in X. Assume at least two output neurons so predictions\n",
    "        are one-hot encoded vectorized labels. \n",
    "        \n",
    "        :param X: a matrix of data to make predictions on \n",
    "        :return y: a matrix of vectorized labels \n",
    "        \"\"\"\n",
    "        #print(X[0][0])\n",
    "        #self.forward_prop(X[0])\n",
    "        #print(self.a)\n",
    "        yhat = np.zeros((X.shape[0], self.sizes[-1]), dtype=int)\n",
    "        #print(self.sizes)\n",
    "        #print(X)\n",
    "        #self.forward_prop(X[0])\n",
    "        for ii in range(X.shape[0]):\n",
    "            #print(ii)\n",
    "            #best = self.a[-1].argsort()\n",
    "            self.forward_prop(X[ii])\n",
    "            best = np.argmax(self.a[-1])\n",
    "            #print(best)\n",
    "            yhat[ii][best] = 1\n",
    "            \n",
    "        #print(yhat)\n",
    "        #for ii in range(len(X))\n",
    "        #classes = self.sizes[-1] +1\n",
    "        #yhat = np.zeros((len(X_train),classes))\n",
    "        #yhat = np.eye(classes)[np.ravel(X).astype(int)]\n",
    "        #print(yhat[0])\n",
    "                \n",
    "        return yhat \n",
    "    \n",
    "    def accuracy(self, X, y):\n",
    "        \"\"\"\n",
    "        compute accuracy on labeled training set \n",
    "\n",
    "        :param X: matrix of features \n",
    "        :param y: matrix of vectorized true labels \n",
    "        \"\"\"\n",
    "        yhat = self.predict(X)\n",
    "        return np.sum(np.all(np.equal(yhat, y), axis=1)) / X.shape[0]\n",
    "            \n",
    "            \n",
    "    def back_prop(self, x, y):\n",
    "        \"\"\"\n",
    "        Back propagation to get derivatives of C wrt weights and biases for given training example\n",
    "        \n",
    "        :param x: training features  \n",
    "        :param y: vector-encoded label \n",
    "        \"\"\"\n",
    "        \n",
    "        # forward prop training example to fill in activities and activations \n",
    "        self.forward_prop(x)\n",
    "        # compute deltas on output layer \n",
    "        # TODO \n",
    "        self.delta[-1] = (self.gradC(self.a[-1], y)*self.g_prime(self.z[-1]))\n",
    "        #print(self.delta[-1])\n",
    "        # loop backward through layers, backprop deltas, compute dWs and dbs\n",
    "        \n",
    "        for ll in range(self.L-2, -1, -1):\n",
    "            #print(np.outer(self.delta[ll+1],(self.a[ll])))\n",
    "            self.dW[ll] = np.outer(self.delta[ll+1],(self.a[ll]))\n",
    "            self.db[ll] = self.delta[ll+1]\n",
    "            self.delta[ll] = np.dot(self.W[ll].transpose(), self.delta[ll+1]) *self.g_prime(self.z[ll])\n",
    "            \n",
    "            \n",
    "    def train(self, X_train, y_train, X_valid=None, y_valid=None, eta=0.25, lam=0.0, num_epochs=10, isPrint=True):\n",
    "        \"\"\"\n",
    "        Train the network with SGD \n",
    "        \n",
    "        :param X_train: matrix of training features \n",
    "        :param y_train: matrix of vector-encoded training labels \n",
    "        :param X_train: optional matrix of validation features \n",
    "        :param y_train: optional matrix of vector-encoded validation labels \n",
    "        :param eta: learning rate \n",
    "        :param lam: regularization strength \n",
    "        :param num_epochs: number of epochs to run \n",
    "        :param isPrint: flag indicating to print training progress or not \n",
    "        \"\"\"\n",
    "        \n",
    "        # initialize shuffled indices \n",
    "        shuffled_inds = list(range(X_train.shape[0]))\n",
    "        \n",
    "        # loop over training epochs \n",
    "        for ep in range(num_epochs):\n",
    "            \n",
    "            # shuffle indices \n",
    "            np.random.shuffle(shuffled_inds)\n",
    "            \n",
    "            # loop over training examples \n",
    "            for ind in shuffled_inds:\n",
    "                \n",
    "                # back prop to get derivatives \n",
    "                #print(ind)\n",
    "                self.back_prop(X_train[ind,:],y_train[ind,:])\n",
    "                \n",
    "                # update weights and biases \n",
    "                self.W = [Wll - eta*(dWll + lam*Wll) for Wll, dWll in zip(self.W, self.dW)]\n",
    "                self.b = [bll - eta*dbll for bll, dbll in zip(self.b, self.db)]\n",
    "                \n",
    "            #store acc values\n",
    "            if isPrint and ((ep+1)%5)==1:\n",
    "                #self.acc = self.acc + [self.accuracy(X_train, y_train)]\n",
    "                self.vacc = self.vacc + [self.accuracy(X_valid, y_valid)]\n",
    "            # occasionally print accuracy\n",
    "            if isPrint and ((ep+1)%10)==1:\n",
    "                self.epoch_report(ep, num_epochs, X_train, y_train, X_valid, y_valid)\n",
    "                \n",
    "        # print final accuracy\n",
    "        if isPrint:\n",
    "            self.vacc = self.vacc + [self.accuracy(X_valid, y_valid)]\n",
    "            self.epoch_report(ep, num_epochs, X_train, y_train, X_valid, y_valid)\n",
    "                \n",
    "                    \n",
    "    def epoch_report(self, ep, num_epochs, X_train, y_train, X_valid, y_valid):\n",
    "        \"\"\"\n",
    "        Print the accuracy for the given epoch on training and validation data \n",
    "        \n",
    "        :param ep: the current epoch \n",
    "        :param num_epochs: the total number of epochs\n",
    "        :param X_train: matrix of training features \n",
    "        :param y_train: matrix of vector-encoded training labels \n",
    "        :param X_train: optional matrix of validation features \n",
    "        :param y_train: optional matrix of vector-encoded validation labels \n",
    "        \"\"\"\n",
    "        \n",
    "        print(\"epoch {:3d}/{:3d}: \".format(ep+1, num_epochs), end=\"\")\n",
    "        print(\"  train acc: {:8.3f}\".format(self.accuracy(X_train, y_train)), end=\"\")\n",
    "        if X_valid is not None: print(\"  valid acc: {:8.3f}\".format(self.accuracy(X_valid, y_valid)))\n",
    "        else: print(\"\")   \n",
    "    "
   ]
  },
  {
   "cell_type": "markdown",
   "metadata": {},
   "source": [
    "**Part A**: Complete the `forward_prop` function in the `Network` class to implement forward propagation.  Your function should take in a single training example `x` and propagate it forward in the network, setting the activations and activities on the hidden and output layers.  When you think you're done, execute the following unit test. "
   ]
  },
  {
   "cell_type": "code",
   "execution_count": 374,
   "metadata": {
    "ExecuteTime": {
     "end_time": "2018-03-13T09:10:17.610306Z",
     "start_time": "2018-03-13T09:10:17.602365Z"
    },
    "scrolled": true
   },
   "outputs": [
    {
     "name": "stderr",
     "output_type": "stream",
     "text": [
      "testForwardProp (__main__.TestNN) ... ok\n",
      "\n",
      "----------------------------------------------------------------------\n",
      "Ran 1 test in 0.002s\n",
      "\n",
      "OK\n"
     ]
    }
   ],
   "source": [
    "%run -i tests/tests.py \"prob 3A\""
   ]
  },
  {
   "cell_type": "markdown",
   "metadata": {},
   "source": [
    "**Part B**: Complete the `predict` function in the `Network` class to take in a matrix of features and return a matrix of one-hot-encoded label predictions. Your predictions should correspond to the output neuron with the largest activation.   \n",
    "\n",
    "Recall that our convention for encoding, e.g. the label $y=2$ in a classification problem with possible labels $y \\in \\{0,1,2,3\\}$ is \n",
    "\n",
    "$$\n",
    "y=2 \\quad \\Leftrightarrow \\quad y=\\left[0, 0, 1, 0\\right]\n",
    "$$\n",
    "\n",
    "So the equivalent matrix associated with the labels $y_1=3, y_2=2, y_3=0$ is \n",
    "\n",
    "$$\n",
    "y = \\begin{bmatrix}{3\\\\2\\\\0}\\end{bmatrix} \\quad \\Leftrightarrow \\quad \n",
    "y = \\begin{bmatrix}\n",
    "0 & 0 & 0 & 1 \\\\\n",
    "0 & 0 & 1 & 0 \\\\\n",
    "1 & 0 & 0 & 0 \n",
    "\\end{bmatrix}\n",
    "$$\n",
    "\n",
    "When you think your `predict` function is working well, execute the following unit test. \n"
   ]
  },
  {
   "cell_type": "code",
   "execution_count": 375,
   "metadata": {
    "ExecuteTime": {
     "end_time": "2018-03-13T09:10:19.290278Z",
     "start_time": "2018-03-13T09:10:19.282762Z"
    },
    "scrolled": true
   },
   "outputs": [
    {
     "name": "stderr",
     "output_type": "stream",
     "text": [
      "testPredict (__main__.TestNN) ... ok\n",
      "\n",
      "----------------------------------------------------------------------\n",
      "Ran 1 test in 0.003s\n",
      "\n",
      "OK\n"
     ]
    }
   ],
   "source": [
    "%run -i tests/tests.py \"prob 3B\""
   ]
  },
  {
   "cell_type": "markdown",
   "metadata": {},
   "source": [
    "**Part C**: OK, now it's time to implement back propagation.  Complete the function ``back_prop`` in the ``Network`` class to use a single training example to compute the derivatives of the loss function with respect to the weights and the biases. As in the **Hands-On** notebook, you may assume that the loss function for a single training example is given by \n",
    "\n",
    "$$\n",
    "C(y, {\\bf a}^L) = \\frac{1}{2}\\|y - {\\bf a}^L\\|^2  \n",
    "$$\n",
    "\n",
    "When you think you're done, execute the following unit test. "
   ]
  },
  {
   "cell_type": "code",
   "execution_count": 376,
   "metadata": {
    "ExecuteTime": {
     "end_time": "2018-03-13T09:10:21.407947Z",
     "start_time": "2018-03-13T09:10:21.399745Z"
    },
    "scrolled": true
   },
   "outputs": [
    {
     "name": "stderr",
     "output_type": "stream",
     "text": [
      "testBackProp (__main__.TestNN) ... ok\n",
      "\n",
      "----------------------------------------------------------------------\n",
      "Ran 1 test in 0.007s\n",
      "\n",
      "OK\n"
     ]
    }
   ],
   "source": [
    "%run -i tests/tests.py \"prob 3C\""
   ]
  },
  {
   "cell_type": "markdown",
   "metadata": {},
   "source": [
    "**Part D**: OK, now let's actually train a neural net!  Complete the missing code in ``train`` to loop over the training data in random order, call `back_prop` to get the derivatives, and then update the weights and the biases via SGD.  When you think you're done, execute the following code"
   ]
  },
  {
   "cell_type": "code",
   "execution_count": 377,
   "metadata": {
    "ExecuteTime": {
     "end_time": "2018-03-13T09:10:23.048222Z",
     "start_time": "2018-03-13T09:10:23.039936Z"
    },
    "scrolled": true
   },
   "outputs": [
    {
     "name": "stderr",
     "output_type": "stream",
     "text": [
      "testSGD (__main__.TestNN) ... ok\n",
      "\n",
      "----------------------------------------------------------------------\n",
      "Ran 1 test in 0.013s\n",
      "\n",
      "OK\n"
     ]
    }
   ],
   "source": [
    "%run -i tests/tests.py \"prob 3D\""
   ]
  },
  {
   "cell_type": "markdown",
   "metadata": {},
   "source": [
    "**Part E**: Last but not least, we should implement $\\ell$-$2$ regularization.  Modify your `train` function to incorporate regularization of the weights (but **not** the biases) in your SGD update.  As in the Lecture 18 slides, you should assume that the cost function with regularization takes the form \n",
    "\n",
    "$$\n",
    "C_\\lambda = C + \\frac{\\lambda}{2} \\displaystyle\\sum_{w} w^2\n",
    "$$\n",
    "\n",
    "where $\\sum_{w}$ sums over each weight in all layers of the network. Think carefully before you go making large changes to your code.  This modification is much simpler than you think. When you think you're done, execute the following unit test.  (Then go back and execute the test in **Part C** to make sure you didn't break anything.) "
   ]
  },
  {
   "cell_type": "code",
   "execution_count": 378,
   "metadata": {
    "ExecuteTime": {
     "end_time": "2018-03-13T09:10:25.040053Z",
     "start_time": "2018-03-13T09:10:25.031009Z"
    },
    "scrolled": true
   },
   "outputs": [
    {
     "name": "stderr",
     "output_type": "stream",
     "text": [
      "testRegularizedSGD (__main__.TestNN) ... ok\n",
      "\n",
      "----------------------------------------------------------------------\n",
      "Ran 1 test in 0.014s\n",
      "\n",
      "OK\n"
     ]
    }
   ],
   "source": [
    "%run -i tests/tests.py \"prob 3E\""
   ]
  },
  {
   "cell_type": "markdown",
   "metadata": {},
   "source": [
    "### [25 points] Problem 4: A Neural Network Classifier for Handwritten Digit Recognition \n",
    "***\n",
    "\n",
    "In this problem you'll use the Feed-Forward Neural Network framework you wrote in **Problem 3** to take an image of a handwritten digit and predict which digit it corresponds to.  \n",
    "\n",
    "![Samples of Handwritten Digits](figs/mnist.png \"MNIST Digits\")\n",
    "\n",
    "To keep run times down we'll again only consider the subset of the MNIST data set consisting of the digits $3, 7, 8$ and $9$. \n",
    "\n",
    "**Part A**: Executing the following cells will load training and validation data and plot an example handwritten digit.  Explore the training and validation sets and answer the following questions: \n",
    "\n",
    "- How many pixels are in each image in the data set?  \n",
    "- How do the true labels correspond to the associated one-hot-encoded label vectors? \n",
    "- Give an example of a network architecture with a single hidden layer that is compatible with this data. \n"
   ]
  },
  {
   "cell_type": "code",
   "execution_count": 366,
   "metadata": {
    "ExecuteTime": {
     "end_time": "2018-03-13T09:10:27.264422Z",
     "start_time": "2018-03-13T09:10:27.153070Z"
    },
    "scrolled": true
   },
   "outputs": [],
   "source": [
    "X_train, y_train, X_valid, y_valid = pickle.load(gzip.open(\"data/mnist21x21_3789_one_hot.pklz\", \"rb\"))"
   ]
  },
  {
   "cell_type": "code",
   "execution_count": 367,
   "metadata": {
    "ExecuteTime": {
     "end_time": "2018-03-13T09:10:28.454747Z",
     "start_time": "2018-03-13T09:10:28.350656Z"
    },
    "scrolled": true
   },
   "outputs": [
    {
     "data": {
      "image/png": "[encoded data removed]",
      "text/plain": [
       "<matplotlib.figure.Figure at 0x7f3e7143b6a0>"
      ]
     },
     "metadata": {},
     "output_type": "display_data"
    }
   ],
   "source": [
    "def view_digit(x, label=None):\n",
    "    fig = plt.figure(figsize=(3,3))\n",
    "    plt.imshow(x.reshape(21,21), cmap='gray');\n",
    "    plt.xticks([]); plt.yticks([]);\n",
    "    if label: plt.xlabel(\"true: {}\".format(label), fontsize=16)\n",
    "        \n",
    "training_index = 2\n",
    "label_dict = dict({0:3, 1:7, 2:8, 3:9})\n",
    "view_digit(X_train[training_index], label_dict[np.argmax(y_train[training_index])])"
   ]
  },
  {
   "cell_type": "code",
   "execution_count": 416,
   "metadata": {},
   "outputs": [
    {
     "name": "stdout",
     "output_type": "stream",
     "text": [
      "441\n",
      "441\n",
      "[0 1 0 0]\n",
      "[0 0 0 1]\n"
     ]
    }
   ],
   "source": [
    "print(len(X_train[0])) #number of pixels\n",
    "print(len(X_train[3]))\n",
    "print(y_train[0])\n",
    "print(y_train[1])\n"
   ]
  },
  {
   "cell_type": "markdown",
   "metadata": {},
   "source": [
    "There are 441 pixels in each image in the dataset so I will need 441 input neurons in order to put the images into a network.\n",
    "\n",
    "The true labels are structured into the one-hot-encoded label vectors as a true label of $0$ creates a vector of $[1,0,0,0]$, a true label of 1 creates a vector of $[0,1,0,0]$ and so on.\n",
    "\n",
    "A network architecture that would work with this would be 441 input neurons, 4 output neurons, and the hidden layer can be any number of neurons. So, one example would be 441 input, 50 hidden, 4 output."
   ]
  },
  {
   "cell_type": "markdown",
   "metadata": {},
   "source": [
    "**Part B**: Train a network with a single hidden layer containing $30$ neurons on the first $500$ training examples in the training set using a learning rate of $\\eta = 0.01$ for at least $50$ epochs.  What accuracy does your network achieve on the validation set?  Do you see any clear signs of overfitting?   "
   ]
  },
  {
   "cell_type": "code",
   "execution_count": 359,
   "metadata": {},
   "outputs": [
    {
     "name": "stdout",
     "output_type": "stream",
     "text": [
      "epoch   1/ 50:   train acc:    0.278  valid acc:    0.254\n",
      "epoch  11/ 50:   train acc:    0.276  valid acc:    0.250\n",
      "epoch  21/ 50:   train acc:    0.574  valid acc:    0.507\n",
      "epoch  31/ 50:   train acc:    0.788  valid acc:    0.727\n",
      "epoch  41/ 50:   train acc:    0.844  valid acc:    0.789\n",
      "epoch  50/ 50:   train acc:    0.868  valid acc:    0.818\n"
     ]
    }
   ],
   "source": [
    "mynet = Network([441,30,4])\n",
    "mynet.train(X_train[0:500], y_train[0:500],X_valid,y_valid,eta=0.01, num_epochs=50 )\n",
    "\n",
    "#mynet.train(X_train = X_train, y_train = y_train, X_valid = X_valid, y_valid = y_valid,eta=0.01, num_epochs=50 )\n",
    "#def train(self, X_train, y_train, X_valid=None, y_valid=None, eta=0.25, lam=0.0, num_epochs=10, isPrint=True):\n"
   ]
  },
  {
   "cell_type": "markdown",
   "metadata": {},
   "source": [
    "My network achieves a validation accuracy of $81.8%$ which is pretty bad but, considering both the training accuracy and validation accuracy were still going up this isn't too bad since no overfitting has happened yet, and there are no signs of overfitting yet."
   ]
  },
  {
   "cell_type": "markdown",
   "metadata": {},
   "source": [
    "**Part C**: Modify the `Network` class so that it stores the accuracies on the training and validation data every $5$ epochs during the training process. Now increase the number of neurons in the hidden layer to $100$.  On a single set of axes, plot the **validation accuracy** vs epoch for networks trained on the full training set for at least 50 epochs using the learning rates $\\eta = 0.01$, $\\eta = 0.25$ and $\\eta = 1.5$.  Which learning rate seems to perform the best? What is the best accuracy achieved on the validation set?   "
   ]
  },
  {
   "cell_type": "code",
   "execution_count": 379,
   "metadata": {},
   "outputs": [
    {
     "name": "stdout",
     "output_type": "stream",
     "text": [
      "epoch   1/ 50:   train acc:    0.567  valid acc:    0.581\n",
      "epoch  11/ 50:   train acc:    0.910  valid acc:    0.893\n",
      "epoch  21/ 50:   train acc:    0.933  valid acc:    0.909\n",
      "epoch  31/ 50:   train acc:    0.942  valid acc:    0.919\n",
      "epoch  41/ 50:   train acc:    0.953  valid acc:    0.925\n",
      "epoch  50/ 50:   train acc:    0.957  valid acc:    0.929\n",
      "epoch   1/ 50:   train acc:    0.919  valid acc:    0.906\n",
      "epoch  11/ 50:   train acc:    0.979  valid acc:    0.942\n",
      "epoch  21/ 50:   train acc:    0.988  valid acc:    0.954\n",
      "epoch  31/ 50:   train acc:    0.990  valid acc:    0.952\n",
      "epoch  41/ 50:   train acc:    0.991  valid acc:    0.955\n",
      "epoch  50/ 50:   train acc:    0.993  valid acc:    0.952\n",
      "epoch   1/ 50:   train acc:    0.931  valid acc:    0.924\n",
      "epoch  11/ 50:   train acc:    0.952  valid acc:    0.934\n",
      "epoch  21/ 50:   train acc:    0.978  valid acc:    0.953\n",
      "epoch  31/ 50:   train acc:    0.986  valid acc:    0.953\n",
      "epoch  41/ 50:   train acc:    0.988  valid acc:    0.959\n",
      "epoch  50/ 50:   train acc:    0.988  valid acc:    0.960\n"
     ]
    }
   ],
   "source": [
    "mynet1 = Network([441,100,4])\n",
    "mynet1.train(X_train, y_train,X_valid,y_valid,eta=0.01, num_epochs=50 )\n",
    "\n",
    "mynet2 = Network([441,100,4])\n",
    "mynet2.train(X_train, y_train,X_valid,y_valid,eta=0.25, num_epochs=50 )\n",
    "\n",
    "mynet3 = Network([441,100,4])\n",
    "mynet3.train(X_train, y_train,X_valid,y_valid,eta=1.5, num_epochs=50 )"
   ]
  },
  {
   "cell_type": "code",
   "execution_count": 386,
   "metadata": {},
   "outputs": [
    {
     "data": {
      "image/png": "[encoded data removed]",
      "text/plain": [
       "<matplotlib.figure.Figure at 0x7f3e70ede6d8>"
      ]
     },
     "metadata": {},
     "output_type": "display_data"
    }
   ],
   "source": [
    "\n",
    "validacc = mynet1.vacc #MSE_hist(X_train, y_train, bhist)\n",
    "\n",
    "epochs = [1,6,11,16,21,26,31,36,41,46,50] #MSE_hist(X_valid, y_valid, bhist)\n",
    "\n",
    "fig, ax = plt.subplots(nrows=1, ncols=1, figsize=(12,6))\n",
    "ax.plot(epochs,validacc, color = \"green\", label=\"eta=0.01\")\n",
    "ax.plot(epochs,mynet2.vacc, color = \"steelblue\", label=\"eta=0.25\")\n",
    "ax.plot(epochs,mynet3.vacc, color = \"black\", label=\"eta=1.5\")\n",
    "\n",
    "#ax.plot(mse_valid,color = \"steelblue\", label=\"valid\")\n",
    "#ax.plot(range(1,len(mse_valid)+1), mse_valid, color=\"green\", label=\"train\")\n",
    "#ax.plot(range(1,len(mse_train)+1), mse_train, color=\"steelblue\", label=\"train\")\n",
    "ax.set_xlabel(\"epoch number\", fontsize=16)\n",
    "ax.set_ylabel(\"accuracy\", fontsize=16);\n",
    "ax.grid(alpha=0.25)\n",
    "ax.legend(loc=\"upper right\", fontsize=16);"
   ]
  },
  {
   "cell_type": "markdown",
   "metadata": {},
   "source": [
    "$\\eta = 1.5$ is slightly better than $\\eta = 0.25$ with final validation accuracies of $95.2%$ and $96.0%$ respectively. However, form my previous knowledge of how learning rates work I am probably better off with the smaller value when I start changing $\\lambda$."
   ]
  },
  {
   "cell_type": "markdown",
   "metadata": {},
   "source": [
    "**Part D**:  Now let's see if we can get better results with regularization. Using the best learning rate you found in **Part C**, on a single set of axes, plot the **validation accuracy** vs epoch for networks trained on the full training set for at least 50 epochs using the regularization strengths $\\lambda = 10^{-6}$, $\\lambda = 10^{-4}$ and $\\lambda = 10^{-2}$.  Which regularization strength seems to perform the best? What is the best accuracy achieved on the validation set?   "
   ]
  },
  {
   "cell_type": "code",
   "execution_count": 412,
   "metadata": {
    "scrolled": true
   },
   "outputs": [
    {
     "name": "stdout",
     "output_type": "stream",
     "text": [
      "epoch   1/ 50:   train acc:    0.911  valid acc:    0.900\n",
      "epoch  11/ 50:   train acc:    0.981  valid acc:    0.942\n",
      "epoch  21/ 50:   train acc:    0.991  valid acc:    0.957\n",
      "epoch  31/ 50:   train acc:    0.992  valid acc:    0.958\n",
      "epoch  41/ 50:   train acc:    0.993  valid acc:    0.957\n",
      "epoch  50/ 50:   train acc:    0.993  valid acc:    0.958\n",
      "epoch   1/ 50:   train acc:    0.927  valid acc:    0.904\n",
      "epoch  11/ 50:   train acc:    0.975  valid acc:    0.949\n",
      "epoch  21/ 50:   train acc:    0.989  valid acc:    0.966\n",
      "epoch  31/ 50:   train acc:    0.991  valid acc:    0.960\n",
      "epoch  41/ 50:   train acc:    0.988  valid acc:    0.961\n",
      "epoch  50/ 50:   train acc:    0.991  valid acc:    0.965\n",
      "epoch   1/ 50:   train acc:    0.399  valid acc:    0.410\n",
      "epoch  11/ 50:   train acc:    0.873  valid acc:    0.867\n",
      "epoch  21/ 50:   train acc:    0.807  valid acc:    0.808\n",
      "epoch  31/ 50:   train acc:    0.770  valid acc:    0.748\n",
      "epoch  41/ 50:   train acc:    0.669  valid acc:    0.663\n",
      "epoch  50/ 50:   train acc:    0.879  valid acc:    0.883\n"
     ]
    }
   ],
   "source": [
    "nn1 = Network([441,100,4])\n",
    "nn1.train(X_train, y_train,X_valid,y_valid,eta=0.25, num_epochs=50, lam = 1e-6 )\n",
    "\n",
    "nn2 = Network([441,100,4])\n",
    "nn2.train(X_train, y_train,X_valid,y_valid,eta=0.25, num_epochs=50,lam = 1e-4 )\n",
    "\n",
    "nn3 = Network([441,100,4])\n",
    "nn3.train(X_train, y_train,X_valid,y_valid,eta=0.25, num_epochs=50, lam = 1e-2 )"
   ]
  },
  {
   "cell_type": "code",
   "execution_count": 413,
   "metadata": {},
   "outputs": [
    {
     "data": {
      "image/png": "[encoded data removed]",
      "text/plain": [
       "<matplotlib.figure.Figure at 0x7f3e70c22780>"
      ]
     },
     "metadata": {},
     "output_type": "display_data"
    }
   ],
   "source": [
    "validacc = nn1.vacc #MSE_hist(X_train, y_train, bhist)\n",
    "\n",
    "epochs = [1,6,11,16,21,26,31,36,41,46,50] #MSE_hist(X_valid, y_valid, bhist)\n",
    "\n",
    "fig, ax = plt.subplots(nrows=1, ncols=1, figsize=(12,6))\n",
    "ax.plot(epochs,validacc, color = \"green\", label=\"lam=1e-6\")\n",
    "ax.plot(epochs,nn2.vacc, color = \"steelblue\", label=\"lam=1e-4\")\n",
    "ax.plot(epochs,nn3.vacc, color = \"black\", label=\"lam=1e-2\")\n",
    "\n",
    "#ax.plot(mse_valid,color = \"steelblue\", label=\"valid\")\n",
    "#ax.plot(range(1,len(mse_valid)+1), mse_valid, color=\"green\", label=\"train\")\n",
    "#ax.plot(range(1,len(mse_train)+1), mse_train, color=\"steelblue\", label=\"train\")\n",
    "ax.set_xlabel(\"epoch number\", fontsize=16)\n",
    "ax.set_ylabel(\"accuracy\", fontsize=16);\n",
    "ax.grid(alpha=0.25)\n",
    "ax.legend(loc=\"lower right\", fontsize=16);"
   ]
  },
  {
   "cell_type": "markdown",
   "metadata": {},
   "source": [
    "$lam = 1e-4$ seemed to preform the best with $96.7%$ accuracy. $lam = 1e-6$ wasn't too far off from the best with a final accuracy of $95.7%$, and it achieved that accuracy at about the same rate that $lam=1e-4$ did so it is possible that with properly fitted values of $\\eta$ and run for more epocs that $lam = 1e-6$ could be better."
   ]
  },
  {
   "cell_type": "markdown",
   "metadata": {},
   "source": [
    "**Part E**:  Now let's see if we can get better results with different network architectures. On a single set of axes, plot the **validation accuracy** vs epoch for networks trained on the full training set for at least 50 epochs using the architecture from **Part D** as well as two other architectures.  Which architecture seems to perform the best? What is the best accuracy achieved on the validation set?   "
   ]
  },
  {
   "cell_type": "code",
   "execution_count": 398,
   "metadata": {},
   "outputs": [
    {
     "name": "stdout",
     "output_type": "stream",
     "text": [
      "epoch   1/ 50:   train acc:    0.931  valid acc:    0.903\n",
      "epoch  11/ 50:   train acc:    0.987  valid acc:    0.945\n",
      "epoch  21/ 50:   train acc:    0.992  valid acc:    0.953\n",
      "epoch  31/ 50:   train acc:    0.994  valid acc:    0.959\n",
      "epoch  41/ 50:   train acc:    0.995  valid acc:    0.964\n",
      "epoch  50/ 50:   train acc:    0.995  valid acc:    0.969\n"
     ]
    }
   ],
   "source": [
    "nnE0 = Network([441,100,4])\n",
    "nnE0.train(X_train, y_train,X_valid,y_valid,eta=0.25, num_epochs=50,lam = 1e-5 )"
   ]
  },
  {
   "cell_type": "code",
   "execution_count": 409,
   "metadata": {},
   "outputs": [
    {
     "name": "stdout",
     "output_type": "stream",
     "text": [
      "epoch   1/ 50:   train acc:    0.922  valid acc:    0.915\n",
      "epoch  11/ 50:   train acc:    0.985  valid acc:    0.951\n",
      "epoch  21/ 50:   train acc:    0.993  valid acc:    0.952\n",
      "epoch  31/ 50:   train acc:    0.996  valid acc:    0.956\n",
      "epoch  41/ 50:   train acc:    0.996  valid acc:    0.954\n",
      "epoch  50/ 50:   train acc:    0.997  valid acc:    0.962\n"
     ]
    }
   ],
   "source": [
    "nnE1 = Network([441,50,50,4])\n",
    "nnE1.train(X_train, y_train,X_valid,y_valid,eta=0.25, num_epochs=50, lam = 1e-5 )"
   ]
  },
  {
   "cell_type": "code",
   "execution_count": 406,
   "metadata": {},
   "outputs": [
    {
     "name": "stdout",
     "output_type": "stream",
     "text": [
      "epoch   1/ 50:   train acc:    0.894  valid acc:    0.884\n",
      "epoch  11/ 50:   train acc:    0.980  valid acc:    0.941\n",
      "epoch  21/ 50:   train acc:    0.988  valid acc:    0.954\n",
      "epoch  31/ 50:   train acc:    0.993  valid acc:    0.955\n",
      "epoch  41/ 50:   train acc:    0.994  valid acc:    0.956\n",
      "epoch  50/ 50:   train acc:    0.994  valid acc:    0.955\n"
     ]
    }
   ],
   "source": [
    "nnE2 = Network([441,20,20,20,4])\n",
    "nnE2.train(X_train, y_train,X_valid,y_valid,eta=0.25, num_epochs=50,lam = 1e-5 )"
   ]
  },
  {
   "cell_type": "code",
   "execution_count": 404,
   "metadata": {},
   "outputs": [
    {
     "name": "stdout",
     "output_type": "stream",
     "text": [
      "epoch   1/ 50:   train acc:    0.942  valid acc:    0.925\n",
      "epoch  11/ 50:   train acc:    0.989  valid acc:    0.945\n",
      "epoch  21/ 50:   train acc:    0.995  valid acc:    0.962\n",
      "epoch  31/ 50:   train acc:    0.997  valid acc:    0.962\n",
      "epoch  41/ 50:   train acc:    0.998  valid acc:    0.963\n",
      "epoch  50/ 50:   train acc:    0.999  valid acc:    0.963\n"
     ]
    }
   ],
   "source": [
    "nnE3 = Network([441,100,50,4])\n",
    "nnE3.train(X_train, y_train,X_valid,y_valid,eta=0.25, num_epochs=50,lam = 1e-5 )"
   ]
  },
  {
   "cell_type": "code",
   "execution_count": 408,
   "metadata": {},
   "outputs": [
    {
     "data": {
      "image/png": "[encoded data removed]",
      "text/plain": [
       "<matplotlib.figure.Figure at 0x7f3e70c59fd0>"
      ]
     },
     "metadata": {},
     "output_type": "display_data"
    }
   ],
   "source": [
    "#validacc = nn1.vacc #MSE_hist(X_train, y_train, bhist)\n",
    "\n",
    "epochs = [1,6,11,16,21,26,31,36,41,46,50] #MSE_hist(X_valid, y_valid, bhist)\n",
    "\n",
    "fig, ax = plt.subplots(nrows=1, ncols=1, figsize=(12,6))\n",
    "ax.plot(epochs,nnE0.vacc, color = \"green\", label=\"100 hidden\")\n",
    "ax.plot(epochs,nnE1.vacc, color = \"steelblue\", label=\"50, 50 hidden\")\n",
    "ax.plot(epochs,nnE2.vacc, color = \"black\", label=\"20, 20, 20 hidden\")\n",
    "ax.plot(epochs,nnE3.vacc, color = \"purple\", label=\"100, 50 hidden\")\n",
    "\n",
    "#ax.plot(mse_valid,color = \"steelblue\", label=\"valid\")\n",
    "#ax.plot(range(1,len(mse_valid)+1), mse_valid, color=\"green\", label=\"train\")\n",
    "#ax.plot(range(1,len(mse_train)+1), mse_train, color=\"steelblue\", label=\"train\")\n",
    "ax.set_xlabel(\"epoch number\", fontsize=16)\n",
    "ax.set_ylabel(\"accuracy\", fontsize=16);\n",
    "ax.grid(alpha=0.25)\n",
    "ax.legend(loc=\"lower right\", fontsize=16);"
   ]
  },
  {
   "cell_type": "markdown",
   "metadata": {},
   "source": [
    "The best architecture seems to be the network with the single hidden layer that had 100 neurons with a final accuracy of $96.9%$ on validation. However, the 100,50 network achieved nearly the same accuracy, $96.2%$, in about 15 epochs so, in terms of the fastest to achieve a \"high\" accuracy the 100, 50 network was the best."
   ]
  },
  {
   "cell_type": "markdown",
   "metadata": {},
   "source": [
    "### [max 10 points] Extra Credit: Improving Network Performance \n",
    "***\n",
    "\n",
    "See if you can get better performance by exploring advanced techniques.  Things you might try are: \n",
    "\n",
    "- Implementing **Mini-Batch** Stochastic Gradient Descent \n",
    "- Experimenting with different activation functions (like tanh and ReLU)\n",
    "- Experimenting with different loss functions (like cross-entropy or softmax) \n",
    "\n",
    "For more detailed discussion of these techniques it'll be helpful to look at Chapter 3 of [Nielsen](http://neuralnetworksanddeeplearning.com/chap3.html). \n",
    "\n",
    "To receive the extra credit you should try at least a couple of the above and clearly describe what worked and what did not.  \n",
    "\n",
    "**Important Note**: Don't do any of these things in the original `Network` class, because you'll almost certainly break the unit tests.  Copy the `Network` class from above and rename it `BetterNetwork` (or something) and modify the new class. \n"
   ]
  },
  {
   "cell_type": "code",
   "execution_count": null,
   "metadata": {
    "collapsed": true,
    "scrolled": true
   },
   "outputs": [],
   "source": []
  }
 ],
 "metadata": {
  "kernelspec": {
   "display_name": "Python 3",
   "language": "python",
   "name": "python3"
  },
  "language_info": {
   "codemirror_mode": {
    "name": "ipython",
    "version": 3
   },
   "file_extension": ".py",
   "mimetype": "text/x-python",
   "name": "python",
   "nbconvert_exporter": "python",
   "pygments_lexer": "ipython3",
   "version": "3.6.3"
  }
 },
 "nbformat": 4,
 "nbformat_minor": 2
}
