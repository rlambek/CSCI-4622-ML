{
 "cells": [
  {
   "cell_type": "markdown",
   "metadata": {},
   "source": [
    "# Homework 5: Naive Bayes, Cross-Validation, and VC Dimension \n",
    "***\n",
    "\n",
    "**Name**: Maxwell Lambek\n",
    "\n",
    "***\n",
    "\n",
    "This assignment is due on Moodle by **5pm on Wednesday April 18th**. Your solutions to theoretical questions should be done in Markdown/MathJax directly below the associated question.  Your solutions to computational questions should include any specified Python code and results as well as written commentary on your conclusions.  Remember that you are encouraged to discuss the problems with your instructors and classmates, but **you must write all code and solutions on your own**.  For a refresher on the course **Collaboration Policy** click [here](https://github.com/chrisketelsen/CSCI-4622-Machine-Learning/blob/master/resources/syllabus.md#collaboration-policy).\n",
    "\n",
    "**NOTES**: \n",
    "\n",
    "- Do **NOT** load or use any Python packages that are not available in Anaconda 3.6. \n",
    "- Some problems with code may be autograded.  If we provide a function API **do not** change it.  If we do not provide a function API then you're free to structure your code however you like. \n",
    "- Submit only this Jupyter notebook to Moodle.  Do not compress it using tar, rar, zip, etc. "
   ]
  },
  {
   "cell_type": "code",
   "execution_count": 1,
   "metadata": {
    "ExecuteTime": {
     "end_time": "2018-04-03T14:42:01.964923Z",
     "start_time": "2018-04-03T14:42:01.249718Z"
    },
    "collapsed": true,
    "scrolled": false
   },
   "outputs": [],
   "source": [
    "import pickle, gzip\n",
    "import numpy as np\n",
    "import matplotlib.pylab as plt\n",
    "%matplotlib inline"
   ]
  },
  {
   "cell_type": "markdown",
   "metadata": {},
   "source": [
    "### [15 points] Problem 1 - Naive Bayes for Tennis Prediction \n",
    "***\n",
    "\n",
    "Suppose you are trying to learn a person's decision whether to play tennis or not on a given day using features corresponding to precipitation forecast, temperature, humidity, and wind. You're given the following training data: \n",
    "\n",
    "$$\n",
    "\\begin{array}{c|c|c|c|c}\n",
    "\\textbf{Forecast} & \\textbf{Temp} & \\textbf{Humidity} & \\textbf{Wind} & \\textbf{PlayTennis} \\\\\n",
    "\\hline \n",
    "\\textrm{sunny} & \\textrm{hot} & \\textrm{high} & \\textrm{weak} & \\textbf{No} \\\\ \n",
    "\\textrm{sunny} & \\textrm{hot} & \\textrm{high} & \\textrm{strong} & \\textbf{No} \\\\ \n",
    "\\textrm{overcast} & \\textrm{hot} & \\textrm{high} & \\textrm{weak} & \\textbf{Yes} \\\\ \n",
    "\\textrm{rainy} & \\textrm{mild} & \\textrm{high} & \\textrm{weak} & \\textbf{Yes} \\\\ \n",
    "\\textrm{rainy} & \\textrm{cool} & \\textrm{normal} & \\textrm{weak} & \\textbf{Yes} \\\\ \n",
    "\\textrm{rainy} & \\textrm{cool} & \\textrm{normal} & \\textrm{strong} & \\textbf{No} \\\\ \n",
    "\\textrm{overcast} & \\textrm{cool} & \\textrm{normal} & \\textrm{strong} & \\textbf{Yes} \\\\ \n",
    "\\textrm{sunny} & \\textrm{mild} & \\textrm{high} & \\textrm{weak} & \\textbf{No} \\\\ \n",
    "\\textrm{sunny} & \\textrm{cool} & \\textrm{normal} & \\textrm{weak} & \\textbf{Yes} \\\\ \n",
    "\\textrm{rainy} & \\textrm{mild} & \\textrm{normal} & \\textrm{weak} & \\textbf{Yes} \\\\ \n",
    "\\textrm{sunny} & \\textrm{mild} & \\textrm{normal} & \\textrm{strong} & \\textbf{Yes} \\\\ \n",
    "\\textrm{overcast} & \\textrm{mild} & \\textrm{high} & \\textrm{strong} & \\textbf{Yes} \\\\ \n",
    "\\textrm{overcast} & \\textrm{hot} & \\textrm{normal} & \\textrm{weak} & \\textbf{Yes} \\\\ \n",
    "\\textrm{rainy} & \\textrm{mild} & \\textrm{high} & \\textrm{strong} & \\textbf{No} \\\\ \n",
    "\\end{array}\n",
    "$$\n",
    "\n",
    "**Part A**: Estimate the priors $p(\\textrm{PlayTennis=Yes})$ and $p(\\textrm{PlayTennis=No})$ from the training data. \n",
    "\n"
   ]
  },
  {
   "cell_type": "markdown",
   "metadata": {
    "collapsed": true,
    "scrolled": true
   },
   "source": [
    "$p$(PlayTennis=Yes) = $\\frac{9}{14}$\n",
    "\n",
    "$p$(PlayTennis=No) = $\\frac{5}{14}$"
   ]
  },
  {
   "cell_type": "markdown",
   "metadata": {},
   "source": [
    "**Part B**: For each feature\n",
    "- state the vocabulary $V$ for the feature \n",
    "- estimate the class-conditional probabilities $p(\\textrm{feature value} \\mid \\textrm{PlayTennis})$ from the training data using Laplace add-one smoothing. Show your work. \n",
    "\n",
    "**Note**: There is no need to include any `UNK` features for this data. "
   ]
  },
  {
   "cell_type": "markdown",
   "metadata": {
    "collapsed": true
   },
   "source": [
    "For the Forecast feature V = \\{sunny, overcast, rainy\\}\n",
    "\n",
    "For the Temp feature V = \\{hot, mild, cold\\}\n",
    "\n",
    "For the Humidity feature V = \\{high, normal\\}\n",
    "\n",
    "For the Wind feature V = \\{weak, strong\\}\n",
    "\n",
    "p(Forecast = sunny | yes) = $\\frac{2 + 1}{9 + 3}= \\frac{3}{12} $, p(Forecast = sunny | no) = $\\frac{3 + 1}{5 + 3} = \\frac{4}{8}$,\n",
    "\n",
    "p(Forecast = overcast | yes) = $\\frac{4 + 1}{9 + 3} = \\frac{5}{12} $, p(Forecast = overcast | no) = $\\frac{0 + 1}{5 + 3} = \\frac{1}{8} $,\n",
    "\n",
    "p(Forecast = rainy | yes) = $\\frac{3 + 1}{9 + 3} = \\frac{4}{12} $, p(Forecast = rainy | no) = $\\frac{2 + 1}{5 + 3} = \\frac{3}{8}$,\n",
    "\n",
    "\n",
    "p(Temp = hot | yes) = $\\frac{2 + 1}{9 + 3} = \\frac{3}{12} $, p(Temp = hot | no) = $\\frac{2 + 1}{5 + 3} = \\frac{3}{8} $,\n",
    "\n",
    "p(Temp = mild | yes) = $\\frac{4 + 1}{9 + 3} = \\frac{5}{12} $, p(Temp = mild | no) = $\\frac{2 + 1}{5 + 3} = \\frac{3}{8} $,\n",
    "\n",
    "p(Temp = cold | yes) = $\\frac{3 + 1}{9 + 3}= \\frac{4}{12} $, p(Temp = cold | no) = $\\frac{1 + 1}{5 + 3} = \\frac{2}{8} $,\n",
    "\n",
    "\n",
    "p(Humidity = high | yes) = $\\frac{3 + 1}{9 + 2} = \\frac{4}{11} $, p(Humidity = high | no) = $\\frac{4 + 1}{5 + 2} = \\frac{5}{7} $,\n",
    "\n",
    "p(Humidity = normal | yes) = $\\frac{6 + 1}{9 + 2} = \\frac{7}{11} $, p(Humidity = normal | no) = $\\frac{1 + 1}{5 + 2} = \\frac{2}{7} $,\n",
    "\n",
    "p(Wind = strong | yes) = $\\frac{3 + 1}{9 + 2} = \\frac{4}{11} $, p(Wind = strong | no) = $\\frac{3 + 1}{5 + 2} = \\frac{4}{7} $,\n",
    "\n",
    "p(Wind = weak | yes) = $\\frac{6 + 1}{9 + 2} =\\frac{7}{11} $, p(Wind = weak | no) = $\\frac{2 + 1}{5 + 2} = \\frac{3}{7} $,\n",
    "\n"
   ]
  },
  {
   "cell_type": "markdown",
   "metadata": {},
   "source": [
    "**Part C**: What would your Naive Bayes model predict for the following two weather conditions. Show all work.  \n",
    "- **Forecast**=overcast, **Temp**=cool, **Humidity**=high, **Wind**=weak  \n",
    "- **Forecast**=sunny, **Temp**=hot, **Humidity**=normal, **Wind**=strong  "
   ]
  },
  {
   "cell_type": "markdown",
   "metadata": {
    "collapsed": true
   },
   "source": [
    "$p(no|x)= p(x|no)p(no) \\approx \\hat{p}(overcast|no)*\\hat{p}(cool|no)*\\hat{p}(high|no)\\hat{p}(weak|no)* \\hat{p}(no) = \\frac{1}{8} \\frac{2}{8} \\frac{5}{7} \\frac{3}{7} \\frac{5}{14} = 0.0034165 $\n",
    "\n",
    "$p(yes|x)= p(x|yes)p(yes) \\approx \\hat{p}(overcast|yes)*\\hat{p}(cool|yes)*\\hat{p}(high|yes)\\hat{p}(weak|yes) * \\hat{p}(yes)= \\frac{5}{12} \\frac{4}{12} \\frac{4}{11} \\frac{7}{11} \\frac{9}{14} = 0.02066 $\n",
    "\n",
    "Since $p(yes|x)$ is higher the naive bayes model would predict Yes.\n",
    "\n",
    "$p(no|x)= p(x|no)p(no) \\approx \\hat{p}(sunny|no)*\\hat{p}(hot|no)*\\hat{p}(normal|no)\\hat{p}(strong|no)* \\hat{p}(no) = \\frac{4}{8} \\frac{3}{8} \\frac{2}{7} \\frac{4}{7} \\frac{5}{14} = 0.0109 $\n",
    "\n",
    "\n",
    "$p(yes|x)= p(x|yes)p(yes) \\approx \\hat{p}(sunny|yes)*\\hat{p}(hot|yes)*\\hat{p}(normal|yes)\\hat{p}(strong|yes) \\hat{p}(yes) =\\frac{3}{12} \\frac{3}{12} \\frac{7}{11} \\frac{4}{11} \\frac{9}{14} = 0.0093 $\n",
    "\n",
    "Since $p(no|x)$ is higher the naive bayes model would predict No.\n"
   ]
  },
  {
   "cell_type": "markdown",
   "metadata": {},
   "source": [
    "### [35 points] Problem 2 - Implementing Discrete Naive Bayes for Text Classification \n",
    "***\n",
    "\n",
    "In this problem you'll implement a general Discrete Naive Bayes class for text classification. Your tasks will be to implement `train`, `predict_log_score`, and `predict` routines to learn the Naive Bayes model parameters from a collection on text and make predictions on unseen validation data. \n",
    "\n",
    "The skeleton for the `TextNB` class is below. Note that this class is fairly similar to the one you worked with in the Hands-On Naive Bayes in-class notebook, so you should look there to remind yourself of the details. Scroll down to find more information about your tasks as well as unit tests.\n",
    "\n",
    "**Important Note**: In Problem 3 we'll be using the `TextNB` class to make predictions about Twitter data.  Since real-world text data typically has a large number of features, you'll want to make your implementation reasonably efficient so that your experiments in Problem 3 don't take forever. \n"
   ]
  },
  {
   "cell_type": "code",
   "execution_count": 2,
   "metadata": {
    "ExecuteTime": {
     "end_time": "2018-04-03T14:42:09.159492Z",
     "start_time": "2018-04-03T14:42:09.076713Z"
    },
    "collapsed": true,
    "scrolled": true
   },
   "outputs": [],
   "source": [
    "class TextNB:\n",
    "    def __init__(self, text_train, y_train, alpha=1.0):\n",
    "        \"\"\"\n",
    "        :param text_train: a list or ndarray of text strings to use as training data \n",
    "        :param y_train: an ndarray of true labels associated with the text data \n",
    "        :param alpha: the Laplace smoothing parameter \n",
    "        \"\"\"\n",
    "        \n",
    "        # store training data \n",
    "        self.text_train = text_train \n",
    "        self.y_train = y_train \n",
    "        \n",
    "        # store smoothing parameter\n",
    "        self.alpha = alpha \n",
    "        \n",
    "        # get number of classes \n",
    "        self.num_classes = len(set(y_train))\n",
    "        \n",
    "        # initialize vocab to feature map \n",
    "        self.vocab = dict() \n",
    "        \n",
    "        # initialize class counts \n",
    "        self.class_counts = np.zeros(self.num_classes, dtype=int)\n",
    "        \n",
    "        # initialize feature counts (Note, will need to update this with the correct\n",
    "        # number of columns during the training process)\n",
    "        self.feature_counts = np.zeros((self.num_classes, 0), dtype=int)\n",
    "        \n",
    "    def train(self):\n",
    "        \"\"\"\n",
    "        Learn the vocabularly, class_counts, and feature counts from the training data \n",
    "        \"\"\"\n",
    "        \n",
    "\n",
    "        loc = 0\n",
    "        for ii in range(len(self.text_train)):\n",
    "            s = self.text_train[ii].split()\n",
    "            for jj in range(len(s)):\n",
    "                try:\n",
    "                    self.vocab[s[jj]]\n",
    "                except KeyError:\n",
    "                    self.vocab[s[jj]] = loc\n",
    "                    loc = loc + 1\n",
    "                \n",
    "        self.class_counts[0] = np.sum(self.y_train == 0)\n",
    "        self.class_counts[1] = np.sum(self.y_train == 1)\n",
    "                    \n",
    "                    \n",
    "                \n",
    "        # initialize feature counts \n",
    "        self.feature_counts = np.zeros((self.num_classes, len(self.vocab)), dtype=int)\n",
    "\n",
    "        for ii in range(len(self.text_train)):\n",
    "            s = self.text_train[ii].split()\n",
    "            for jj in range(len(s)):\n",
    "                self.feature_counts[self.y_train[ii],self.vocab[s[jj]]] = self.feature_counts[self.y_train[ii],self.vocab[s[jj]]] + 1\n",
    "                \n",
    "    def predict_log_score(self, text_str):\n",
    "        \"\"\"\n",
    "        Get the log-probability score for each class\n",
    "        for a query string\n",
    "        \n",
    "        :param text_str: a single string of text to compute the log_score for \n",
    "        \"\"\"\n",
    "        \n",
    "        \n",
    "        s = text_str.split()\n",
    "        p0 = 0.0\n",
    "        p1 = 0.0\n",
    "        for ii in range(len(s)):\n",
    "            try:\n",
    "                up0 = self.feature_counts[0,self.vocab[s[ii]]] + self.alpha\n",
    "                low0 = np.sum(self.feature_counts[0,:])+len(self.vocab)*self.alpha\n",
    "                p0 = p0 + np.log(up0/low0)\n",
    "\n",
    "                up1 = self.feature_counts[1,self.vocab[s[ii]]] + self.alpha\n",
    "                low1 = np.sum(self.feature_counts[1,:])+len(self.vocab)*self.alpha\n",
    "                p1 = p1 + np.log(up1/low1)\n",
    "            except KeyError:\n",
    "                pass\n",
    "                #print(\"ignored,\", s[ii])\n",
    "        pclass0 = np.log((self.class_counts[0] + self.alpha)/(self.class_counts[0] + self.class_counts[1] + 2*self.alpha))\n",
    "        pclass1 = np.log((self.class_counts[1] + self.alpha)/(self.class_counts[0] + self.class_counts[1] + 2*self.alpha))\n",
    "        \n",
    "        class_scores = np.zeros(self.num_classes) \n",
    "        class_scores[0] = p0+pclass0\n",
    "        class_scores[1] = p1 + pclass1\n",
    "        \n",
    "        \n",
    "        return class_scores\n",
    "        \n",
    "    \n",
    "    def predict(self, text_list):\n",
    "        \"\"\"\n",
    "        Predict the class of each example in text_list  \n",
    "        \n",
    "        :param text_list: a list or ndarray of text strings to make predictions on \n",
    "        \"\"\"\n",
    "        \n",
    "        # TODO \n",
    "        \n",
    "        yhat = np.zeros(len(text_list), dtype=int)\n",
    "        for ii in range(len(text_list)):\n",
    "            yhat[ii] = np.argmax(self.predict_log_score(text_list[ii]))\n",
    "        return yhat \n",
    "        \n",
    "        \n",
    "    def accuracy(self, text_list, y_true):\n",
    "        \"\"\"\n",
    "        Make predictions on texts in text_list and compute accuracy relative to \n",
    "        true labels in y_true \n",
    "        \n",
    "        :param text_list: a list or ndarray of text strings to make predictions on \n",
    "        :param y_list: an ndarray of true labels associated with the text data \n",
    "        \"\"\"\n",
    "        yhat = self.predict(text_list)\n",
    "        return np.sum(yhat == y_true)/len(y_true)\n",
    "        \n",
    "        "
   ]
  },
  {
   "cell_type": "markdown",
   "metadata": {},
   "source": [
    "**Part A**: Complete the `train` function in the `TextNB` class to prepare to make Naive Bayes predictions using Laplace smoothing.  In this routine you will need to populate the following data structures: \n",
    "\n",
    "`self.vocab`: A Python dictionary that maps distinct terms found in the training set to unique indices in $\\{0, 1, \\ldots, |V|-1\\}$.  This will allow us to quickly look up frequency counts for an encountered term in a Numpy array. Note that while the data is fairly clean (We've removed punctuation and made all characters lowercase) you should take care that you're not accidentally counting whitespace in the vocabulary. \n",
    "\n",
    "`self.class_counts`: A 1D Numpy array of length `self.num_classes` which counts the number of documents in the training set that belong to each class. \n",
    "\n",
    "`self.feature_counts`: A 2D Numpy array of dimensions `self.num_classes` $\\times$ $|V|$. The $(c,k)$-entry in this array should be the number of times that term $k$ appears in documents belonging to class $c$. Note that we're using the Bag-of-Words approach here, so if a term appears multiple times in a single document, each instance of that term should be counted.  \n",
    "\n",
    "When you think you're done, execute the following unit test, corresponding to the example starting on Slide 29 of [Lecture 24](https://www.cs.colorado.edu/~ketelsen/files/courses/csci4622/slides/lesson24.pdf). "
   ]
  },
  {
   "cell_type": "code",
   "execution_count": 3,
   "metadata": {
    "ExecuteTime": {
     "end_time": "2018-04-03T14:45:46.325834Z",
     "start_time": "2018-04-03T14:45:46.314267Z"
    },
    "scrolled": true
   },
   "outputs": [
    {
     "name": "stderr",
     "output_type": "stream",
     "text": [
      "testVocab (__main__.TestNB) ... ok\n",
      "testClassCounts (__main__.TestNB) ... ok\n",
      "testFeatureCounts (__main__.TestNB) ... ok\n",
      "\n",
      "----------------------------------------------------------------------\n",
      "Ran 3 tests in 0.012s\n",
      "\n",
      "OK\n"
     ]
    }
   ],
   "source": [
    "%run -i tests/tests.py \"prob 2A\""
   ]
  },
  {
   "cell_type": "markdown",
   "metadata": {},
   "source": [
    "**Part B**: Complete the `predict_log_score` function in the `TextNB` class to take in a single string of text and compute the associated log-score for each class. For now, you should use add-one Laplace smoothing for both the class-priors and the class-conditional probabilities.  In **Problem 3** we'll experiment with different variants of Laplace smoothing, so if you like you can read ahead now and implement the general version of Laplace smoothing from the beginning.  \n",
    "\n",
    "**Note**: For simplicity and testing purposes, do not implement an `UNK` feature.  Instead, if you encounter a term not in the vocabulary you can safely ignore it. \n",
    "\n",
    "When you think your `predict_log_score` function is working well, execute the following unit test. \n"
   ]
  },
  {
   "cell_type": "code",
   "execution_count": 4,
   "metadata": {
    "ExecuteTime": {
     "end_time": "2018-04-03T14:45:47.998683Z",
     "start_time": "2018-04-03T14:45:47.990764Z"
    },
    "scrolled": true
   },
   "outputs": [
    {
     "name": "stderr",
     "output_type": "stream",
     "text": [
      "testLogScore (__main__.TestNB) ... ok\n",
      "\n",
      "----------------------------------------------------------------------\n",
      "Ran 1 test in 0.006s\n",
      "\n",
      "OK\n"
     ]
    }
   ],
   "source": [
    "%run -i tests/tests.py \"prob 2B\""
   ]
  },
  {
   "cell_type": "markdown",
   "metadata": {},
   "source": [
    "**Part C**: Finally, implement the `predict` method to take in a list or ndarray of text data, call `predict_log_score`, and return a vector of predicted labels. \n",
    "\n",
    "When you think you're done, execute the following unit test. "
   ]
  },
  {
   "cell_type": "code",
   "execution_count": 5,
   "metadata": {
    "ExecuteTime": {
     "end_time": "2018-04-03T14:45:49.228361Z",
     "start_time": "2018-04-03T14:45:49.220931Z"
    },
    "scrolled": true
   },
   "outputs": [
    {
     "name": "stderr",
     "output_type": "stream",
     "text": [
      "testPredict (__main__.TestNB) ... ok\n",
      "\n",
      "----------------------------------------------------------------------\n",
      "Ran 1 test in 0.009s\n",
      "\n",
      "OK\n"
     ]
    }
   ],
   "source": [
    "%run -i tests/tests.py \"prob 2C\""
   ]
  },
  {
   "cell_type": "markdown",
   "metadata": {},
   "source": [
    "### [30 points] Problem 3: Predicting the Sentiment of Tweets sent from Passengers to Airlines \n",
    "***\n",
    "\n",
    "In this problem you'll use the `TextNB` class you wrote in **Problem 2** to make predictions about the sentiment of tweets sent by passengers to airlines.  Execute the following cell to load the data. "
   ]
  },
  {
   "cell_type": "code",
   "execution_count": 6,
   "metadata": {
    "ExecuteTime": {
     "end_time": "2018-04-03T14:45:55.395606Z",
     "start_time": "2018-04-03T14:45:55.371833Z"
    },
    "collapsed": true
   },
   "outputs": [],
   "source": [
    "f = open('data/airline_tweets.pklz','rb')\n",
    "text_train, y_train, text_valid, y_valid, text_all, y_all = pickle.load(f)\n",
    "f.close()"
   ]
  },
  {
   "cell_type": "markdown",
   "metadata": {},
   "source": [
    "**Part A**: Explore the data and answer the following questions: \n",
    "\n",
    "- How many total examples are there in the training and validation sets? \n",
    "- Which binary label ($\\{0,1\\}$) corresponds to tweets with positive and negative sentiment, respectively?\n",
    "- What percentage of tweets in the training set have true positive sentiment? \n",
    "- What percentage of tweets in the validation set have true positive sentiment? "
   ]
  },
  {
   "cell_type": "code",
   "execution_count": 7,
   "metadata": {},
   "outputs": [
    {
     "name": "stdout",
     "output_type": "stream",
     "text": [
      "3000\n",
      "1000\n",
      "3077\n",
      "923\n",
      "[1 0 0 ..., 0 0 0]\n",
      "['@southwestair awesome  thanks'\n",
      " '@usairways good news weve located the crew and made contact with them flight was supposed to leave 4 minutes ago usairwaysfail'\n",
      " '@usairways 45 minute delay for take off and 30 minute wait for checked bags really'\n",
      " ...,\n",
      " '@southwestair will continue to be my airline of choice @united most frustrating travel day ive experienced 5 delays and 4 gate changes'\n",
      " '@americanair would it be ok to send you a dm asking a few questions because im and been on hold so long'\n",
      " '@united this is it last time i fly unitedairlines  you screw up every trip now will be stuck in ord and miss work']\n"
     ]
    }
   ],
   "source": [
    "print(np.sum(y_train == 0))\n",
    "print(np.sum(y_train == 1))\n",
    "\n",
    "print(np.sum(y_valid == 0))\n",
    "print(np.sum(y_valid == 1))\n",
    "print(y_train)\n",
    "print(text_train)#1 is positive, and 0 is negative"
   ]
  },
  {
   "cell_type": "markdown",
   "metadata": {},
   "source": [
    "There are 4000 examples in the training set, and 4000 examples in the validation set.\n",
    "\n",
    "The binary label 0 corresponds to negative sentiment, which can be seen very clearly in the third training example. The binary label 1 corresponds to positive sentiment, as seen in the first training example.\n",
    "\n",
    "$\\frac{1000}{4000} = 25\\%$ of the tweets in the training set have true positive sentiment.\n",
    "\n",
    "$\\frac{923}{4000} = 23.075\\%$ of the tweets in the validation set have true positive sentiment.\n"
   ]
  },
  {
   "cell_type": "markdown",
   "metadata": {},
   "source": [
    "**Part B**: Use your `TextNB` class to learn a Naive Bayes classifier for the airline Twitter data.  What accuracy do you achieve on the training set and what accuracy do you achieve on the test set? \n"
   ]
  },
  {
   "cell_type": "code",
   "execution_count": 8,
   "metadata": {
    "collapsed": true
   },
   "outputs": [],
   "source": [
    "nb = TextNB(text_train, y_train)\n",
    "nb.train()\n",
    "acc_train = nb.accuracy(text_train, y_train)\n",
    "acc_valid = nb.accuracy(text_valid, y_valid)"
   ]
  },
  {
   "cell_type": "code",
   "execution_count": 9,
   "metadata": {},
   "outputs": [
    {
     "name": "stdout",
     "output_type": "stream",
     "text": [
      "0.9305 0.91075\n"
     ]
    }
   ],
   "source": [
    "print(acc_train,acc_valid)"
   ]
  },
  {
   "cell_type": "markdown",
   "metadata": {},
   "source": [
    "**Part C**: Notice that if we want to make improvements in our Naive Bayes classifier, we don't really have a lot of knobs to turn aside from changing the word features that we use.  One place that we might make some gains though is in using a slightly different version of Laplace smoothing.  \n",
    "\n",
    "Recall that in add-one smoothing we add a $1$ to the numerator in both the estimation of the prior probabilities and the class-conditional likelihoods. \n",
    "\n",
    "$$\n",
    "\\hat{p}(\\textrm{Class}) = \\dfrac{\\textrm{# docs from Class}+1}{\\textrm{# total docs in training data} + |C|},\n",
    "\\quad \\quad\n",
    "\\hat{p}(\\textrm{term} \\mid \\textrm{Class}) = \\dfrac{\\textrm{# instance of term in Class}+1}{\\textrm{# total words in Class} + |V|}\n",
    "$$\n",
    "\n",
    "It turns out there's nothing sacred about adding $1$ to the numerators.  In fact, we can add any positive value $\\alpha$ that we like \n",
    "\n",
    "$$\n",
    "\\hat{p}(\\textrm{Class}) = \\dfrac{\\textrm{# docs from Class}+\\alpha}{\\textrm{# total docs in training data} + ?},\n",
    "\\quad \\quad\n",
    "\\hat{p}(\\textrm{term} \\mid \\textrm{Class}) = \\dfrac{\\textrm{# instance of term in Class}+\\alpha}{\\textrm{# total words in Class} + ?}\n",
    "$$\n",
    "\n",
    "Explain what modification must be made to the denominators so that theses estimates remain valid probabilities. Clearly justify your reasoning. \n",
    "\n",
    "Support this modification in your `TextNB` class above, if you have not already.  Make sure that your code still passes then unit tests when $\\alpha = 1$. "
   ]
  },
  {
   "cell_type": "markdown",
   "metadata": {},
   "source": [
    "The modification that needs to happen is we need to add $\\alpha * |C|$ to the denominator for $\\hat{p}(Class)$ and $\\alpha * |V|$ for  $\\hat{p}(term|Class)$. This is because we are adding $\\alpha$ to each class or term. So, in order to remain as a probability we need to divide by the total amount of $\\alpha$'s we add, which is $\\alpha * |C|$ or $\\alpha * |V|$."
   ]
  },
  {
   "cell_type": "code",
   "execution_count": 10,
   "metadata": {},
   "outputs": [
    {
     "name": "stdout",
     "output_type": "stream",
     "text": [
      "0.9365 0.914\n"
     ]
    }
   ],
   "source": [
    "nb = TextNB(text_train, y_train,alpha=0.5)\n",
    "nb.train()\n",
    "acc_train = nb.accuracy(text_train, y_train)\n",
    "acc_valid = nb.accuracy(text_valid, y_valid)\n",
    "print(acc_train,acc_valid)"
   ]
  },
  {
   "cell_type": "markdown",
   "metadata": {},
   "source": [
    "**Part D**: Write some code to perform $K$-Folds cross-validation on the entire data set (`train_all` and `y_all`) to estimate the accuracy of your NB classifier for various values of $\\alpha$ and make a plot showing your results.  \n",
    "\n",
    "To do the partitioning into folds I recommend leveraging sklearn's [StratifiedKFold]() routine.  The documentation demonstrates how it can be used.  \n",
    "\n",
    "For your plot, use at least $K=5$ folds and at least $5$ different values of $\\alpha$ between $0.1$ and $1.5$.  Which value of $\\alpha$ seems to perform the best? \n"
   ]
  },
  {
   "cell_type": "code",
   "execution_count": 11,
   "metadata": {
    "collapsed": true
   },
   "outputs": [],
   "source": [
    "from sklearn.model_selection import StratifiedKFold\n",
    "k = 5\n",
    "skf = StratifiedKFold(n_splits=k)\n",
    "acc_train = []\n",
    "acc_valid = []\n",
    "#skf.get_n_splits(text_all, y_all)\n",
    "for train_index, test_index in skf.split(text_all, y_all):\n",
    "    #print(\"TRAIN:\", train_index, \"TEST:\", test_index)\n",
    "    Xt, Xv = text_all[train_index], text_all[test_index]\n",
    "    yt, yv = y_all[train_index], y_all[test_index]\n",
    "    nb = TextNB(Xt, yt,alpha=0.8)\n",
    "    nb.train()\n",
    "    acc_train =acc_train + [nb.accuracy(Xt, yt)]\n",
    "    acc_valid = acc_valid + [nb.accuracy(Xv, yv)]\n",
    "    #print(acc_train,acc_valid)"
   ]
  },
  {
   "cell_type": "code",
   "execution_count": 12,
   "metadata": {},
   "outputs": [
    {
     "name": "stdout",
     "output_type": "stream",
     "text": [
      "[0.91692692067457837, 0.89444097439100567, 0.91437500000000005, 0.91619762351469669, 0.9130706691682301]\n"
     ]
    }
   ],
   "source": [
    "print(acc_valid)"
   ]
  },
  {
   "cell_type": "code",
   "execution_count": 14,
   "metadata": {},
   "outputs": [
    {
     "name": "stdout",
     "output_type": "stream",
     "text": [
      "0.910378018605\n",
      "0.911377823658\n",
      "0.91104445114\n",
      "0.910940069642\n",
      "0.910952503224\n"
     ]
    }
   ],
   "source": [
    "from sklearn.model_selection import StratifiedKFold\n",
    "k = 5\n",
    "skf = StratifiedKFold(n_splits=k)\n",
    "acc_train = []\n",
    "acc_valid = []\n",
    "#skf.get_n_splits(text_all, y_all)\n",
    "for train_index, test_index in skf.split(text_all, y_all):\n",
    "    #print(\"TRAIN:\", train_index, \"TEST:\", test_index)\n",
    "    Xt, Xv = text_all[train_index], text_all[test_index]\n",
    "    yt, yv = y_all[train_index], y_all[test_index]\n",
    "    nb = TextNB(Xt, yt,alpha=1)\n",
    "    nb.train()\n",
    "    acc_train =acc_train + [nb.accuracy(Xt, yt)]\n",
    "    acc_valid = acc_valid + [nb.accuracy(Xv, yv)]\n",
    "    #print(acc_train,acc_valid)\n",
    "alpha1CV = np.mean(acc_valid)\n",
    "print(alpha1CV)\n",
    "for train_index, test_index in skf.split(text_all, y_all):\n",
    "    #print(\"TRAIN:\", train_index, \"TEST:\", test_index)\n",
    "    Xt, Xv = text_all[train_index], text_all[test_index]\n",
    "    yt, yv = y_all[train_index], y_all[test_index]\n",
    "    nb = TextNB(Xt, yt,alpha=0.5)\n",
    "    nb.train()\n",
    "    acc_train =acc_train + [nb.accuracy(Xt, yt)]\n",
    "    acc_valid = acc_valid + [nb.accuracy(Xv, yv)]\n",
    "    #print(acc_train,acc_valid)\n",
    "alpha05CV = np.mean(acc_valid)\n",
    "print(alpha05CV)\n",
    "\n",
    "for train_index, test_index in skf.split(text_all, y_all):\n",
    "    #print(\"TRAIN:\", train_index, \"TEST:\", test_index)\n",
    "    Xt, Xv = text_all[train_index], text_all[test_index]\n",
    "    yt, yv = y_all[train_index], y_all[test_index]\n",
    "    nb = TextNB(Xt, yt,alpha=0.1)\n",
    "    nb.train()\n",
    "    acc_train =acc_train + [nb.accuracy(Xt, yt)]\n",
    "    acc_valid = acc_valid + [nb.accuracy(Xv, yv)]\n",
    "    #print(acc_train,acc_valid)\n",
    "alpha01CV = np.mean(acc_valid)\n",
    "print(alpha01CV)\n",
    "\n",
    "for train_index, test_index in skf.split(text_all, y_all):\n",
    "    #print(\"TRAIN:\", train_index, \"TEST:\", test_index)\n",
    "    Xt, Xv = text_all[train_index], text_all[test_index]\n",
    "    yt, yv = y_all[train_index], y_all[test_index]\n",
    "    nb = TextNB(Xt, yt,alpha=1.5)\n",
    "    nb.train()\n",
    "    acc_train =acc_train + [nb.accuracy(Xt, yt)]\n",
    "    acc_valid = acc_valid + [nb.accuracy(Xv, yv)]\n",
    "    #print(acc_train,acc_valid)\n",
    "alpha15CV = np.mean(acc_valid)\n",
    "print(alpha15CV)\n",
    "\n",
    "\n",
    "for train_index, test_index in skf.split(text_all, y_all):\n",
    "    #print(\"TRAIN:\", train_index, \"TEST:\", test_index)\n",
    "    Xt, Xv = text_all[train_index], text_all[test_index]\n",
    "    yt, yv = y_all[train_index], y_all[test_index]\n",
    "    nb = TextNB(Xt, yt,alpha=0.8)\n",
    "    nb.train()\n",
    "    acc_train =acc_train + [nb.accuracy(Xt, yt)]\n",
    "    acc_valid = acc_valid + [nb.accuracy(Xv, yv)]\n",
    "    #print(acc_train,acc_valid)\n",
    "alpha08CV = np.mean(acc_valid)\n",
    "print(alpha08CV)\n",
    "    "
   ]
  },
  {
   "cell_type": "code",
   "execution_count": 15,
   "metadata": {},
   "outputs": [
    {
     "name": "stdout",
     "output_type": "stream",
     "text": [
      "0.913709087403\n"
     ]
    }
   ],
   "source": [
    "for train_index, test_index in skf.split(text_all, y_all):\n",
    "    #print(\"TRAIN:\", train_index, \"TEST:\", test_index)\n",
    "    Xt, Xv = text_all[train_index], text_all[test_index]\n",
    "    yt, yv = y_all[train_index], y_all[test_index]\n",
    "    nb = TextNB(text_train, y_train,alpha=0.2)\n",
    "    nb.train()\n",
    "    acc_train =acc_train + [nb.accuracy(Xt, yt)]\n",
    "    acc_valid = acc_valid + [nb.accuracy(Xv, yv)]\n",
    "    #print(acc_train,acc_valid)\n",
    "alpha02CV = np.mean(acc_valid)\n",
    "print(alpha02CV)"
   ]
  },
  {
   "cell_type": "code",
   "execution_count": 16,
   "metadata": {},
   "outputs": [
    {
     "data": {
      "image/png": "[encoded data removed]",
      "text/plain": [
       "<matplotlib.figure.Figure at 0x7fecbc37d780>"
      ]
     },
     "metadata": {},
     "output_type": "display_data"
    }
   ],
   "source": [
    "ep = [0.1,0.2,0.5,0.8,1,1.5] \n",
    "yax = [alpha01CV,alpha02CV, alpha05CV, alpha08CV, alpha1CV, alpha15CV]\n",
    "fig, ax = plt.subplots(nrows=1, ncols=1, figsize=(12,6))\n",
    "ax.plot(ep,yax, color = \"green\")\n",
    "ax.set_xlabel(\"alpha\", fontsize=16)\n",
    "ax.set_ylabel(\"CV accuracy\", fontsize=16);\n",
    "ax.grid(alpha=0.25)\n",
    "ax.legend(loc=\"lower right\", fontsize=16);"
   ]
  },
  {
   "cell_type": "markdown",
   "metadata": {},
   "source": [
    "$\\alpha = 0.2$ seems to preform the best. The optimal $\\alpha$ value is probably not $0.2$ but it is close."
   ]
  },
  {
   "cell_type": "markdown",
   "metadata": {},
   "source": [
    "### [20 points] Problem 4: VC Dimension \n",
    "***\n",
    "\n",
    "**Part A**: Consider learning to classify binary labeled data with a single feature $x$.  Let $H$ be the hypothesis class described by the union of two intervals $[a,b] \\cup [c,d]$ such that $h(x)$ labels an example as positive if it's in the interval $[a,b]$ **OR** the interval $[c,d]$.  Determine the VC Dimension of $H$.  Justify your conclusion by demonstrating a shattering of a set $S$ of the appropriate size **AND** by arguing that an arbitrary set consisting of one additional point cannot be shattered by $H$.   "
   ]
  },
  {
   "cell_type": "markdown",
   "metadata": {
    "collapsed": true
   },
   "source": [
    "The VC Dimension of H is 4.\n",
    "\n",
    "Step1: show for 4 points. Let 0 be negative and 1 be positive and [] represent an inerval [a,b] or [c,d]\n",
    "\n",
    "[1111] [] $\\hspace{1cm}$ [111]0 [] $\\hspace{1cm}$ [11]0[1] $\\hspace{1cm}$ [1]0[11] $\\hspace{1cm}$ []0[111]\n",
    "\n",
    "[11]00[] $\\hspace{1cm}$ [1]0[1]0 $\\hspace{1cm}$ 0[11]0[] $\\hspace{1cm}$ 0[1]0[1] $\\hspace{1cm}$ []00[11]\n",
    "\n",
    "[1]000[] $\\hspace{1cm}$ 0[1]00 $\\hspace{1cm}$ 00[1]0[] $\\hspace{1cm}$ 000[1] $\\hspace{1cm}$ []0000[]\n",
    "\n",
    "Now, since all sets S such that $|S| = 4$ have been correctly classified the set $S$ has been shattered $ \\implies VCdim(H) \\geq 4$.\n",
    "\n",
    "Step2: show it cannot be done for 5 points.\n",
    "\n",
    "[1]0[1]01 but then 1 point is missclassifed. [1]010[1] again, 1 point missclassified. 10[1]0[1], [101]0[1], [1]0[101]. So, as you can see no matter how I place the two intervals $[a,b]$ and $[c,d]$ one point or more is missclassifed, and therefore $4 \\leq VCdim(H) < 5 \\implies VCdim(H)  = 4$\n"
   ]
  },
  {
   "cell_type": "markdown",
   "metadata": {},
   "source": [
    "**Part B**: Consider learning to classify binary labeled data with two features, $x_1$ and $x_2$.  Let $H$ be the hypothesis class described by the ability to assign all points in a particular quadrant of the 2D plane to be positive or negative, with the restriction that at least one of the four quadrants must be labeled positive and at least one of the four quadrants must be labeled negative. Determine the VC Dimension of $H$. Again, justify your conclusion by demonstrating a shattering of a set $S$ of the appropriate size **AND** by arguing that an arbitrary set consisting of one additional point cannot be shattered by $H$.   "
   ]
  },
  {
   "cell_type": "markdown",
   "metadata": {
    "collapsed": true
   },
   "source": [
    "The $VCdim(H) = 4$.\n",
    "\n",
    "Step1: show for 4 points."
   ]
  },
  {
   "cell_type": "code",
   "execution_count": 201,
   "metadata": {},
   "outputs": [
    {
     "ename": "IndentationError",
     "evalue": "unexpected indent (<ipython-input-201-ffd35b229113>, line 2)",
     "output_type": "error",
     "traceback": [
      "\u001b[0;36m  File \u001b[0;32m\"<ipython-input-201-ffd35b229113>\"\u001b[0;36m, line \u001b[0;32m2\u001b[0m\n\u001b[0;31m    |\u001b[0m\n\u001b[0m    ^\u001b[0m\n\u001b[0;31mIndentationError\u001b[0m\u001b[0;31m:\u001b[0m unexpected indent\n"
     ]
    }
   ],
   "source": [
    "\n",
    "        |1 1\n",
    "     ___|___    #The first quadrant is negative and all others are positive\n",
    "      1 | 1\n",
    "        |\n",
    "        \n",
    "     1  | 0\n",
    "     ___|___   #The 2nd quadrant is neagtive and all others are positive. All other placements of the 0\n",
    "      1 | 1    # can be handeled by rotating the axis to get back to this situation.\n",
    "        |\n",
    "        \n",
    "\n",
    "        \n",
    "        \n",
    "      1 | 0\n",
    "     ___|___ #The 4th quadrant and 2nd quadrant is negative and all others are positive\n",
    "      1 | 0  # rotations cover all other setups like this\n",
    "        |\n",
    "        \n",
    "        \n",
    "    1   | 0\n",
    "     ___|___  #The 4th quadrant is positive and all others are negative\n",
    "      0 | 1  # again, rotations cover the other setups with this structure\n",
    "        |\n",
    "\n",
    "        \n",
    "        \n",
    "        \n",
    "    1   | 0\n",
    "     ___|___ #The 1st quadrant is positive and all others are negative\n",
    "      0 | 0  #rotations again\n",
    "        |\n",
    "      \n",
    "        |0 0\n",
    "     ___|___ #The 1st quadrant is positive and all others are negative\n",
    "      0 | 0\n",
    "        |\n",
    "        "
   ]
  },
  {
   "cell_type": "markdown",
   "metadata": {},
   "source": [
    "Now, since all sets S such that $|S| = 4$ have been correctly classified the set $S$ has been shattered $ \\implies VCdim(H) \\geq 4$.\n",
    "\n",
    "Step2: showing this cannot be done for 5 points,\n"
   ]
  },
  {
   "cell_type": "code",
   "execution_count": null,
   "metadata": {
    "collapsed": true
   },
   "outputs": [],
   "source": [
    "      1 |0 1  #no matter what quadrant I assign to be negative there will be a positive that is\n",
    "     ___|___  # missclassified. Also, rotations on the axis/points wont work either because the\n",
    "      1 | 1   # top row cannot be seperated.\n",
    "        |"
   ]
  },
  {
   "cell_type": "markdown",
   "metadata": {},
   "source": [
    "So, $4 \\leq VCdim(H) <5 \\implies VCdim(H) = 4$"
   ]
  },
  {
   "cell_type": "code",
   "execution_count": null,
   "metadata": {
    "collapsed": true
   },
   "outputs": [],
   "source": []
  }
 ],
 "metadata": {
  "kernelspec": {
   "display_name": "Python 3",
   "language": "python",
   "name": "python3"
  },
  "language_info": {
   "codemirror_mode": {
    "name": "ipython",
    "version": 3
   },
   "file_extension": ".py",
   "mimetype": "text/x-python",
   "name": "python",
   "nbconvert_exporter": "python",
   "pygments_lexer": "ipython3",
   "version": "3.6.3"
  }
 },
 "nbformat": 4,
 "nbformat_minor": 2
}
